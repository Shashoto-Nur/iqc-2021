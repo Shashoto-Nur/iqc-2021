{
 "cells": [
  {
   "cell_type": "markdown",
   "metadata": {},
   "source": [
    "# Exercise 3 - Quantum error correction\n",
    "\n",
    "## Historical background\n",
    "\n",
    "Shor's algorithm gave quantum computers a worthwhile use case—but the inherent noisiness of quantum mechanics meant that building hardware capable of running such an algorithm would be a huge struggle. In 1995, Shor released another landmark paper: a scheme that shared quantum information over multiple qubits in order to reduce errors.[1]\n",
    "\n",
    "A great deal of progress has been made over the decades since. New forms of error correcting codes have been discovered, and a large theoretical framework has been built around them. The surface codes proposed by Kitaev in 1997 have emerged as the leading candidate, and many variations on the original design have emerged since then. But there is still a lot of progress to make in tailoring codes to the specific details of quantum hardware.[2]\n",
    "\n",
    "In this exercise we'll consider a case in which artificial 'errors' are inserted into a circuit. Your task is to design the circuit such that these additional gates can be identified.\n",
    "\n",
    "You'll then need to think about how to implement your circuit on a real device. This means you'll need to tailor your solution to the layout of the qubits. Your solution will be scored on how few entangling gates (the noisiest type of gate) that you use.\n",
    "\n",
    "### References\n",
    "1. Shor, Peter W. \"Scheme for reducing decoherence in quantum computer memory.\" Physical review A 52.4 (1995): R2493.\n",
    "1. Dennis, Eric, et al. \"Topological quantum memory.\" Journal of Mathematical Physics 43.9 (2002): 4452-4505."
   ]
  },
  {
   "cell_type": "markdown",
   "metadata": {},
   "source": [
    "## The problem of errors\n",
    "\n",
    "Errors occur when some spurious operation acts on our qubits. Their effects cause things to go wrong in our circuits. The strange results you may have seen when running on real devices is all due to these errors.\n",
    "\n",
    "There are many spurious operations that can occur, but it turns out that we can pretend that there are only two types of error: bit flips and phase flips.\n",
    "\n",
    "Bit flips have the same effect as the `x` gate. They flip the $|0\\rangle$ state of a single qubit to $|1\\rangle$ and vice-versa. Phase flips have the same effect as the `z` gate, introducing a phase of $-1$ into superpositions. Put simply, they flip the $|+\\rangle$ state of a single qubit to $|-\\rangle$ and vice-versa.\n",
    "\n",
    "The reason we can think of any error in terms of just these two is because any error can be represented by some matrix, and any matrix can be written in terms of the matrices $X$ and $Z$. Specifically, for any single qubit matrix $M$,\n",
    "\n",
    "$$\n",
    "M = \\alpha I + \\beta X + \\gamma XZ + \\delta Z,\n",
    "$$\n",
    "\n",
    "for some suitably chosen values $\\alpha$, $\\beta$, $\\gamma$ and $\\delta$.\n",
    "\n",
    "So whenever we apply this matrix to some single qubit state $|\\psi\\rangle$ we get\n",
    "\n",
    "$$\n",
    "M |\\psi\\rangle = \\alpha |\\psi\\rangle + \\beta X |\\psi\\rangle + \\gamma XZ |\\psi\\rangle + \\delta Z |\\psi\\rangle.\n",
    "$$\n",
    "\n",
    "The resulting superposition is composed of the original state, the state we'd have if the error was just a bit flip, the state for just a phase flip and the state for both. If we had some way to measure whether a bit or phase flip happened, the state would then collapse to just one possibility. And our complex error would become just a simple bit or phase flip.\n",
    "\n",
    "So how do we detect whether we have a bit flip or a phase flip (or both). And what do we do about it once we know? Answering these questions is what quantum error correction is all about.\n",
    "\n",
    "\n"
   ]
  },
  {
   "cell_type": "markdown",
   "metadata": {},
   "source": [
    "## An overly simple example\n",
    "\n",
    "One of the first quantum circuits that most people ever write is to create a pair of entangled qubits. In this journey into quantum error correction, we'll start the same way."
   ]
  },
  {
   "cell_type": "code",
   "execution_count": 1,
   "metadata": {},
   "outputs": [
    {
     "data": {
      "image/png": "[encoded data removed]",
      "text/plain": [
       "<Figure size 206.852x144.48 with 1 Axes>"
      ]
     },
     "metadata": {},
     "output_type": "display_data"
    },
    {
     "data": {
      "text/plain": [
       "{'00': 514, '11': 510}"
      ]
     },
     "execution_count": 1,
     "metadata": {},
     "output_type": "execute_result"
    }
   ],
   "source": [
    "from qiskit import QuantumCircuit, Aer\n",
    "\n",
    "# Make an entangled pair\n",
    "qc_init = QuantumCircuit(2)\n",
    "qc_init.h(0)\n",
    "qc_init.cx(0,1)\n",
    "\n",
    "# Draw the circuit\n",
    "display(qc_init.draw('mpl'))\n",
    "\n",
    "# Get an output\n",
    "qc = qc_init.copy()\n",
    "qc.measure_all()\n",
    "job = Aer.get_backend('qasm_simulator').run(qc)\n",
    "job.result().get_counts()"
   ]
  },
  {
   "cell_type": "markdown",
   "metadata": {},
   "source": [
    "Here we see the expected result when we run the circuit: the results `00` and `11` occurring with equal probability.\n",
    "\n",
    "But what happens when we have the same circuit, but with a bit flip 'error' inserted manually."
   ]
  },
  {
   "cell_type": "code",
   "execution_count": 2,
   "metadata": {},
   "outputs": [
    {
     "data": {
      "image/png": "[encoded data removed]",
      "text/plain": [
       "<Figure size 267.052x144.48 with 1 Axes>"
      ]
     },
     "metadata": {},
     "output_type": "display_data"
    },
    {
     "data": {
      "text/plain": [
       "{'10': 537, '01': 487}"
      ]
     },
     "execution_count": 2,
     "metadata": {},
     "output_type": "execute_result"
    }
   ],
   "source": [
    "# Make bit flip error\n",
    "qc_insert = QuantumCircuit(2)\n",
    "qc_insert.x(0)\n",
    "\n",
    "# Add it to our original circuit\n",
    "qc = qc_init.copy()\n",
    "qc = qc.compose(qc_insert)\n",
    "\n",
    "# Draw the circuit\n",
    "display(qc.draw('mpl'))\n",
    "\n",
    "# Get an output\n",
    "qc.measure_all()\n",
    "job = Aer.get_backend('qasm_simulator').run(qc)\n",
    "job.result().get_counts()"
   ]
  },
  {
   "cell_type": "markdown",
   "metadata": {},
   "source": [
    "Now the results are different: `01` and `10`. The two bit values have gone from always agreeing to always disagreeing. In this way, we detect the effect of the error.\n",
    "\n",
    "Another way we can detect it is to undo the entanglement with a few more gates. If there are no errors, we return to the initial $|00\\rangle$ state."
   ]
  },
  {
   "cell_type": "code",
   "execution_count": 3,
   "metadata": {},
   "outputs": [
    {
     "data": {
      "image/png": "[encoded data removed]",
      "text/plain": [
       "<Figure size 327.252x144.48 with 1 Axes>"
      ]
     },
     "metadata": {},
     "output_type": "display_data"
    },
    {
     "data": {
      "text/plain": [
       "{'00': 1024}"
      ]
     },
     "execution_count": 3,
     "metadata": {},
     "output_type": "execute_result"
    }
   ],
   "source": [
    "# Undo entanglement\n",
    "qc_syn = QuantumCircuit(2)\n",
    "qc_syn.cx(0,1)\n",
    "qc_syn.h(0)\n",
    "\n",
    "# Add this after the error\n",
    "qc = qc_init.copy()\n",
    "qc = qc.compose(qc_syn)\n",
    "\n",
    "# Draw the circuit\n",
    "display(qc.draw('mpl'))\n",
    "\n",
    "# Get an output\n",
    "qc.measure_all()\n",
    "job = Aer.get_backend('qasm_simulator').run(qc)\n",
    "job.result().get_counts()"
   ]
  },
  {
   "cell_type": "markdown",
   "metadata": {},
   "source": [
    "But what happens if there are errors one of the qubits? Try inserting different errors to find out.\n",
    "\n",
    "Here's a circuit with all the components we've introduced so far: the initialization `qc_init`, the inserted error in `qc_insert` and the final `qc_syn` which ensures that the final measurement gives a nice definite answer."
   ]
  },
  {
   "cell_type": "code",
   "execution_count": 4,
   "metadata": {},
   "outputs": [
    {
     "data": {
      "image/png": "[encoded data removed]",
      "text/plain": [
       "<Figure size 387.452x144.48 with 1 Axes>"
      ]
     },
     "metadata": {},
     "output_type": "display_data"
    },
    {
     "data": {
      "text/plain": [
       "{'10': 1024}"
      ]
     },
     "execution_count": 4,
     "metadata": {},
     "output_type": "execute_result"
    }
   ],
   "source": [
    "# Define an error\n",
    "qc_insert = QuantumCircuit(2)\n",
    "qc_insert.x(0)\n",
    "\n",
    "# Undo entanglement\n",
    "qc_syn = QuantumCircuit(2)\n",
    "qc_syn.cx(0,1)\n",
    "qc_syn.h(0)\n",
    "\n",
    "# Add this after the error\n",
    "qc = qc_init.copy()\n",
    "qc = qc.compose(qc_insert)\n",
    "qc = qc.compose(qc_syn)\n",
    "\n",
    "# Draw the circuit\n",
    "display(qc.draw('mpl'))\n",
    "\n",
    "# Get an output\n",
    "qc.measure_all()\n",
    "job = Aer.get_backend('qasm_simulator').run(qc)\n",
    "job.result().get_counts()"
   ]
  },
  {
   "cell_type": "markdown",
   "metadata": {},
   "source": [
    "You'll find that the output tells us exactly what is going on with the errors. Both the bit and phase flips can be detected. The bit value on the left is `1` only if there is a bit flip (and so if we have inserted an `x(0)` or `x(1)`). The bit on the right similarly tells us there is a phase flip (an inserted `z(0)` or `z(1)`).\n",
    "\n",
    "This ability to detect and distinguish bit and phase flips is very useful. But it is not quite useful enough. We can only tell *what type* of errors are happening, but not *where*. Without more detail, it is not possible to figure out how to remove the effects of these operations from our computations. For quantum error correction we therefore need something bigger and better.\n",
    "\n",
    "It's your task to do just that! Here's a list of what you need to submit. Everything here is then explained by the example that follows."
   ]
  },
  {
   "cell_type": "markdown",
   "metadata": {},
   "source": [
    "<div class=\"alert alert-block alert-success\">\n",
    "\n",
    "<b>Goal</b>\n",
    "\n",
    "Create circuits which can detect `x` and `z` errors on two qubits.\n",
    "You can come up with a solution of your own. Or just tweak the almost valid solution given below.\n",
    "\n",
    "</div>\n",
    "\n",
    "<div class=\"alert alert-block alert-danger\">\n",
    "<b>What to submit</b> \n",
    "\n",
    "* You need to supply two circuits:\n",
    "    * `qc_init`: Prepares the qubits (of which there are at least two) in a desired initial state;\n",
    "    * `qc_syn`: Measures a subset of the qubits.\n",
    "\n",
    "* The artificial errors to be inserted are `x` and `z` gates on two particular qubits. You need to pick the two qubits to be used for this (supplied as the list `error_qubits`).\n",
    "\n",
    "* There are 16 possible sets of errors to be inserted (including the trivial case of no errors). The measurement result of `qc_syn` should output a unique bit string for each. The grader will return the error message *'Please make sure the circuit is created to the initial layout.'* if this is not satisfied.\n",
    "\n",
    "* The grader will compile the complete circuit for the backend `ibmq_tokyo` (a retired device). To show that your solution is tailor made for the device, this transpilation should not change the number of `cx` gates. If it does, you will get the error message *'Please make sure the circuit is created to the initial layout.'*\n",
    "    \n",
    "* To guide the transpilation, you'll need to tell the transpiler which qubits on the device should be used as which qubits in your circuit. This is done with an `initial_layout` list.\n",
    "    \n",
    "* You may start with the example given below, which can become a valid answer with a few tweaks.\n",
    "</div>"
   ]
  },
  {
   "cell_type": "markdown",
   "metadata": {},
   "source": [
    "## A better example: the surface code"
   ]
  },
  {
   "cell_type": "code",
   "execution_count": 5,
   "metadata": {},
   "outputs": [],
   "source": [
    "from qiskit import QuantumCircuit, QuantumRegister, ClassicalRegister, Aer, transpile\n",
    "\n",
    "import qiskit.tools.jupyter\n",
    "from qiskit.test.mock import FakeTokyo"
   ]
  },
  {
   "cell_type": "markdown",
   "metadata": {},
   "source": [
    "In this example we'll use 5 qubits that we'll call code qubits. To keep track of them, we'll define a special quantum register."
   ]
  },
  {
   "cell_type": "code",
   "execution_count": 6,
   "metadata": {},
   "outputs": [],
   "source": [
    "code = QuantumRegister(5,'code')"
   ]
  },
  {
   "cell_type": "markdown",
   "metadata": {},
   "source": [
    "We'll also have an additional four qubits we'll call syndrome qubits."
   ]
  },
  {
   "cell_type": "code",
   "execution_count": 7,
   "metadata": {},
   "outputs": [],
   "source": [
    "syn = QuantumRegister(4,'syn')"
   ]
  },
  {
   "cell_type": "markdown",
   "metadata": {},
   "source": [
    "Similarly we define a register for the four output bits, used when measuring the syndrome qubits."
   ]
  },
  {
   "cell_type": "code",
   "execution_count": 8,
   "metadata": {},
   "outputs": [],
   "source": [
    "out = ClassicalRegister(4,'output')"
   ]
  },
  {
   "cell_type": "markdown",
   "metadata": {},
   "source": [
    "We consider the qubits to be laid out as follows, with the code qubits forming the corners of four triangles, and the syndrome qubits living inside each triangle.\n",
    "\n",
    "```\n",
    "c0----------c1\n",
    "| \\   s0   / |\n",
    "|   \\    /   |\n",
    "| s1  c2  s2 |\n",
    "|   /    \\   |\n",
    "| /   s3   \\ |\n",
    "c3----------c4\n",
    "```\n",
    "\n",
    "For each triangle we associate a stabilizer operation on its three qubits. For the qubits on the sides, the stabilizers are ZZZ. For the top and bottom ones, they are XXX.\n",
    "\n",
    "The syndrome measurement circuit corresponds to a measurement of these observables. This is done in a similar way to surface code stabilizers (in fact, this code is a small version of a surface code).\n",
    "<div class=\"alert alert-block alert-danger\">\n",
    " \n",
    "<b>Warning</b> \n",
    "\n",
    "You should remove the barriers before submitting the code as it might interfere with transpilation. It is given here for visualization only. \n",
    "</div>"
   ]
  },
  {
   "cell_type": "code",
   "execution_count": 9,
   "metadata": {},
   "outputs": [
    {
     "data": {
      "image/png": "[encoded data removed]",
      "text/plain": [
       "<Figure size 1452.97x626.08 with 1 Axes>"
      ]
     },
     "execution_count": 9,
     "metadata": {},
     "output_type": "execute_result"
    }
   ],
   "source": [
    "qc_syn = QuantumCircuit(code, syn, out)\n",
    "\n",
    "\n",
    "# Left ZZZ - s1 \n",
    "qc_syn.cx(code[0],syn[1])\n",
    "qc_syn.cx(code[2],syn[1])\n",
    "qc_syn.cx(code[3],syn[1])\n",
    "\n",
    "\n",
    "# Right ZZZ - s2\n",
    "qc_syn.cx(code[2],syn[2])\n",
    "\n",
    "# ---- Swap & Operate ----\n",
    "qc_syn.cx(code[1], code[2])\n",
    "qc_syn.cx(code[2], code[1])\n",
    "qc_syn.cx(code[1], code[2])\n",
    "\n",
    "qc_syn.cx(code[2],syn[2])\n",
    "\n",
    "qc_syn.cx(code[1], code[2])\n",
    "qc_syn.cx(code[2], code[1])\n",
    "qc_syn.cx(code[1], code[2])\n",
    "# ---- Swap & Operate ----\n",
    "\n",
    "qc_syn.cx(code[4],syn[2])\n",
    "\n",
    "\n",
    "# Top XXX - s0\n",
    "qc_syn.h(syn[0])\n",
    "qc_syn.cx(syn[0],code[0])\n",
    "qc_syn.cx(syn[0],code[1])\n",
    "qc_syn.cx(syn[0],code[2])\n",
    "qc_syn.h(syn[0])\n",
    "\n",
    "\n",
    "# Bottom XXX - s3\n",
    "qc_syn.h(syn[3])\n",
    "qc_syn.cx(syn[3],code[2])\n",
    "qc_syn.cx(syn[3],code[3])\n",
    "qc_syn.cx(syn[3],code[4])\n",
    "qc_syn.h(syn[3])\n",
    "\n",
    "\n",
    "\n",
    "# Measure the auxilliary qubits\n",
    "qc_syn.measure(syn,out)\n",
    "qc_syn.draw('mpl')"
   ]
  },
  {
   "cell_type": "markdown",
   "metadata": {},
   "source": [
    "The initialization circuit prepares an eigenstate of these observables, such that the output of the syndrome measurement will be `0000` with certainty."
   ]
  },
  {
   "cell_type": "code",
   "execution_count": 10,
   "metadata": {},
   "outputs": [
    {
     "data": {
      "image/png": "[encoded data removed]",
      "text/plain": [
       "<Figure size 670.372x626.08 with 1 Axes>"
      ]
     },
     "execution_count": 10,
     "metadata": {},
     "output_type": "execute_result"
    }
   ],
   "source": [
    "qc_init = QuantumCircuit(code,syn,out)\n",
    "\n",
    "qc_init.h(syn[0])\n",
    "qc_init.cx(syn[0],code[0])\n",
    "qc_init.cx(syn[0],code[1])\n",
    "qc_init.cx(syn[0],code[2])\n",
    "qc_init.cx(code[2],syn[0])\n",
    "\n",
    "qc_init.h(syn[3])\n",
    "qc_init.cx(syn[3],code[2])\n",
    "qc_init.cx(syn[3],code[3])\n",
    "qc_init.cx(syn[3],code[4])\n",
    "qc_init.cx(code[4],syn[3])\n",
    "\n",
    "\n",
    "qc_init.draw('mpl')"
   ]
  },
  {
   "cell_type": "markdown",
   "metadata": {},
   "source": [
    "Let's check that is true."
   ]
  },
  {
   "cell_type": "code",
   "execution_count": 11,
   "metadata": {},
   "outputs": [
    {
     "data": {
      "image/png": "[encoded data removed]",
      "text/plain": [
       "<Figure size 1633.57x1288.28 with 1 Axes>"
      ]
     },
     "metadata": {},
     "output_type": "display_data"
    },
    {
     "data": {
      "text/plain": [
       "{'0000': 1024}"
      ]
     },
     "execution_count": 11,
     "metadata": {},
     "output_type": "execute_result"
    }
   ],
   "source": [
    "qc = qc_init.compose(qc_syn)\n",
    "display(qc.draw('mpl'))\n",
    "\n",
    "job = Aer.get_backend('qasm_simulator').run(qc)\n",
    "job.result().get_counts()"
   ]
  },
  {
   "cell_type": "markdown",
   "metadata": {},
   "source": [
    "Now let's make a circuit with which we can insert `x` and `z` gates on our two code qubits. For this we'll need to choose which of the 5 code qubits we have will correspond to the two required for the validity condition.\n",
    "\n",
    "For this code we need to choose opposite corners."
   ]
  },
  {
   "cell_type": "code",
   "execution_count": 12,
   "metadata": {},
   "outputs": [],
   "source": [
    "error_qubits = [0,4]"
   ]
  },
  {
   "cell_type": "markdown",
   "metadata": {},
   "source": [
    "Here 0 and 4 refer to the positions of the qubits in the following list, and hence are qubits `code[0]` and `code[4]`."
   ]
  },
  {
   "cell_type": "code",
   "execution_count": 13,
   "metadata": {},
   "outputs": [
    {
     "data": {
      "text/plain": [
       "[Qubit(QuantumRegister(5, 'code'), 0),\n",
       " Qubit(QuantumRegister(5, 'code'), 1),\n",
       " Qubit(QuantumRegister(5, 'code'), 2),\n",
       " Qubit(QuantumRegister(5, 'code'), 3),\n",
       " Qubit(QuantumRegister(5, 'code'), 4),\n",
       " Qubit(QuantumRegister(4, 'syn'), 0),\n",
       " Qubit(QuantumRegister(4, 'syn'), 1),\n",
       " Qubit(QuantumRegister(4, 'syn'), 2),\n",
       " Qubit(QuantumRegister(4, 'syn'), 3)]"
      ]
     },
     "execution_count": 13,
     "metadata": {},
     "output_type": "execute_result"
    }
   ],
   "source": [
    "qc.qubits"
   ]
  },
  {
   "cell_type": "markdown",
   "metadata": {},
   "source": [
    "To check that the code does as we require, we can use the following function to create circuits for inserting artificial errors. Here the errors we want to add are listed in `errors` as a simple text string, such as `x0` for an `x` on `error_qubits[0]`."
   ]
  },
  {
   "cell_type": "code",
   "execution_count": 14,
   "metadata": {},
   "outputs": [],
   "source": [
    "def insert(errors,error_qubits,code,syn,out):\n",
    "\n",
    "    qc_insert = QuantumCircuit(code,syn,out)\n",
    "\n",
    "    if 'x0' in errors:\n",
    "        qc_insert.x(error_qubits[0])\n",
    "    if 'x1' in errors:\n",
    "        qc_insert.x(error_qubits[1])\n",
    "    if 'z0' in errors:\n",
    "        qc_insert.z(error_qubits[0])\n",
    "    if 'z1' in errors:\n",
    "        qc_insert.z(error_qubits[1])\n",
    "        \n",
    "    return qc_insert"
   ]
  },
  {
   "cell_type": "markdown",
   "metadata": {},
   "source": [
    "Rather than all 16 possibilities, let's just look at the four cases where a single error is inserted."
   ]
  },
  {
   "cell_type": "code",
   "execution_count": 15,
   "metadata": {},
   "outputs": [
    {
     "name": "stdout",
     "output_type": "stream",
     "text": [
      "\n",
      "For error x0:\n",
      "Output was 0010 for 1024 shots.\n",
      "\n",
      "For error x1:\n",
      "Output was 0100 for 1024 shots.\n",
      "\n",
      "For error z0:\n",
      "Output was 0001 for 1024 shots.\n",
      "\n",
      "For error z1:\n",
      "Output was 1000 for 1024 shots.\n"
     ]
    }
   ],
   "source": [
    "for error in ['x0','x1','z0','z1']:\n",
    "    \n",
    "    qc = qc_init.compose(insert([error],error_qubits,code,syn,out)).compose(qc_syn)\n",
    "    job = Aer.get_backend('qasm_simulator').run(qc)\n",
    "    \n",
    "    print('\\nFor error '+error+':')\n",
    "    counts = job.result().get_counts()\n",
    "    for output in counts:\n",
    "        print('Output was',output,'for',counts[output],'shots.')"
   ]
  },
  {
   "cell_type": "markdown",
   "metadata": {},
   "source": [
    "Here we see that each bit in the output is `1` when a particular error occurs: the leftmost detects `z` on `error_qubits[1]`, then the next detects `x` on `error_qubits[1]`, and so on.\n",
    "\n",
    "<div class=\"alert alert-block alert-danger\">\n",
    " \n",
    "<b>Attention</b> \n",
    "\n",
    "The correct ordering of the output is important for this exercise. Please follow the order as given below:\n",
    "1. The leftmost output represents `z` on `code[1]`.\n",
    "2. The second output from left represents `x` on `code[1]`.\n",
    "3. The third output from left represents `x` on `code[0]`.\n",
    "4. The rightmost output represents `z` on `code[0]`.\n",
    "    \n",
    "</div>\n",
    "\n",
    "When more errors affect the circuit, it becomes hard to unambiguously tell which errors occurred. However, by continuously repeating the syndrome readout to get more results and analysing the data through the process of decoding, it is still possible to determine enough about the errors to correct their effects.\n",
    "\n",
    "These kinds of considerations are beyond what we will look at in this challenge. Instead we'll focus on something simpler, but just as important: the fewer errors you have, and the simpler they are, the better your error correction will be. To ensure this, your error correction procedure should be tailor-made to the device you are using.\n",
    "\n",
    "In this challenge we'll be considering the device `ibmq_tokyo`. Though the real version of this was retired some time ago, it still lives on as one of the mock backends."
   ]
  },
  {
   "cell_type": "code",
   "execution_count": 16,
   "metadata": {
    "scrolled": false
   },
   "outputs": [
    {
     "data": {
      "application/vnd.jupyter.widget-view+json": {
       "model_id": "ff682355e85a4b87854da2b9ab9af507",
       "version_major": 2,
       "version_minor": 0
      },
      "text/plain": [
       "VBox(children=(HTML(value=\"<h1 style='color:#ffffff;background-color:#000000;padding-top: 1%;padding-bottom: 1…"
      ]
     },
     "metadata": {},
     "output_type": "display_data"
    },
    {
     "data": {
      "text/plain": [
       "<FakeTokyo('fake_tokyo') from None()>"
      ]
     },
     "execution_count": 16,
     "metadata": {},
     "output_type": "execute_result"
    }
   ],
   "source": [
    "# Please use the backend given here\n",
    "backend = FakeTokyo()\n",
    "backend"
   ]
  },
  {
   "cell_type": "markdown",
   "metadata": {},
   "source": [
    "As a simple idea of how our original circuit is laid out, let's see how many two-qubit gates it contains."
   ]
  },
  {
   "cell_type": "code",
   "execution_count": 17,
   "metadata": {},
   "outputs": [
    {
     "data": {
      "text/plain": [
       "26"
      ]
     },
     "execution_count": 17,
     "metadata": {},
     "output_type": "execute_result"
    }
   ],
   "source": [
    "qc = qc_init.compose(qc_syn)\n",
    "qc = transpile(qc, basis_gates=['u','cx'])\n",
    "qc.num_nonlocal_gates()"
   ]
  },
  {
   "cell_type": "markdown",
   "metadata": {},
   "source": [
    "If we were to transpile it to the `ibmq_tokyo` backend, remapping would need to occur at the cost of adding for two-qubit gates."
   ]
  },
  {
   "cell_type": "code",
   "execution_count": 18,
   "metadata": {},
   "outputs": [
    {
     "data": {
      "text/plain": [
       "26"
      ]
     },
     "execution_count": 18,
     "metadata": {},
     "output_type": "execute_result"
    }
   ],
   "source": [
    "qc1 = transpile(qc, backend, basis_gates=['u','cx'], optimization_level=3)\n",
    "qc1.num_nonlocal_gates()"
   ]
  },
  {
   "cell_type": "markdown",
   "metadata": {},
   "source": [
    "We can control this to an extent by looking at which qubits on the device would be best to use as the qubits in the code. If we look at what qubits in the code need to be connected by two-qubit gates in `qc_syn`, we find the following required connectivity graph.\n",
    "\n",
    "```\n",
    "c0....s0....c1\n",
    ":      :     :        \n",
    ":      :     :\n",
    "s1....c2....s2\n",
    ":      :     :\n",
    ":      :     :\n",
    "c3....s3....c4\n",
    "```\n",
    "\n",
    "No set of qubits on `ibmq_tokyo` can provide this, but certain sets like 0,1,2,5,6,7,10,11,12 come close. So we can set an `initial_layout` to tell the transpiler to use these.\n",
    "\n"
   ]
  },
  {
   "cell_type": "code",
   "execution_count": 19,
   "metadata": {},
   "outputs": [],
   "source": [
    "initial_layout = [0,2,6,10,12,1,5,7,11]\n",
    "# initial_layout = [6, 8, 12, 16, 18, 7, 11, 13, 17]"
   ]
  },
  {
   "cell_type": "markdown",
   "metadata": {},
   "source": [
    "These tell the transpiler which qubits on the device to use for the qubits in the circuit (for the order they are listed in `qc.qubits`). So the first five entries in this list tell the circuit which qubits to use as the code qubits and the next four entries in this list are similarly for the syndrome qubits. So we use qubit 0 on the device as `code[0]`, qubit 2 as `code[1]` and so on.\n",
    "\n",
    "Now let's use this for the transpilation."
   ]
  },
  {
   "cell_type": "code",
   "execution_count": 20,
   "metadata": {},
   "outputs": [
    {
     "data": {
      "text/plain": [
       "26"
      ]
     },
     "execution_count": 20,
     "metadata": {},
     "output_type": "execute_result"
    }
   ],
   "source": [
    "qc2 = transpile(qc, backend, initial_layout=initial_layout, basis_gates=['u','cx'], optimization_level=3)\n",
    "qc2.num_nonlocal_gates()\n",
    "#qc2.draw()"
   ]
  },
  {
   "cell_type": "markdown",
   "metadata": {},
   "source": [
    "Though transpilation is a random process, you should typically find that this uses less two-qubit gates than when no initial layout is provided (you might need to re-run both transpilation code multiple times to see it as transpilation is a random process).\n",
    "\n",
    "Nevertheless, a properly designed error correction scheme should not need any remapping at all. It should be written for the exact device used, and the number of two-qubit gates should remain constant with certainty. This is a condition for a solution to be valid. So you'll not just need to provide an `initial_layout`, but also design your circuits specifically for that layout.\n",
    "\n",
    "But that part we leave up to you!"
   ]
  },
  {
   "cell_type": "code",
   "execution_count": 21,
   "metadata": {},
   "outputs": [
    {
     "name": "stdout",
     "output_type": "stream",
     "text": [
      "Grading your answer for ex3. Please wait...\n",
      "\n",
      "Congratulations 🎉! Your answer is correct.\n",
      "Your cost is 266.\n",
      "Feel free to submit your answer.\n",
      "\n"
     ]
    }
   ],
   "source": [
    "# Check your answer using following code\n",
    "from qc_grader import grade_ex3\n",
    "grade_ex3(qc_init,qc_syn,error_qubits,initial_layout)"
   ]
  },
  {
   "cell_type": "code",
   "execution_count": 23,
   "metadata": {},
   "outputs": [
    {
     "name": "stdout",
     "output_type": "stream",
     "text": [
      "Submitting your answer for ex3. Please wait...\n",
      "Success 🎉! Your answer has been submitted.\n"
     ]
    }
   ],
   "source": [
    "# Submit your answer. You can re-submit at any time.\n",
    "from qc_grader import submit_ex3\n",
    "submit_ex3(qc_init,qc_syn,error_qubits,initial_layout)"
   ]
  },
  {
   "cell_type": "markdown",
   "metadata": {},
   "source": [
    "## Additional information\n",
    "\n",
    "**Created by:** James Wootton, Rahul Pratap Singh\n",
    "\n",
    "**Version:** 1.0.0"
   ]
  }
 ],
 "metadata": {
  "kernelspec": {
   "display_name": "Python 3",
   "language": "python",
   "name": "python3"
  },
  "language_info": {
   "codemirror_mode": {
    "name": "ipython",
    "version": 3
   },
   "file_extension": ".py",
   "mimetype": "text/x-python",
   "name": "python",
   "nbconvert_exporter": "python",
   "pygments_lexer": "ipython3",
   "version": "3.8.8"
  },
  "widgets": {
   "application/vnd.jupyter.widget-state+json": {
    "state": {
     "0060c901199e4dc0a81b908f18b46d6a": {
      "model_module": "@jupyter-widgets/base",
      "model_module_version": "1.2.0",
      "model_name": "LayoutModel",
      "state": {
       "align_items": "center",
       "display": "flex-inline",
       "grid_area": "right",
       "max_height": "325px",
       "padding": "10px 10px 10px 10px",
       "width": "auto"
      }
     },
     "006ee735afce4aa39f8ff9831de07178": {
      "model_module": "@jupyter-widgets/controls",
      "model_module_version": "1.5.0",
      "model_name": "HTMLModel",
      "state": {
       "layout": "IPY_MODEL_3bb2ef8e7763435f8943b254800188e1",
       "style": "IPY_MODEL_a1b214567bf2470b942dd58fc9cd614c",
       "value": "<h5>Queue</h5>"
      }
     },
     "01a2eb5689ad42dc9d5d2015c52ee54c": {
      "model_module": "@jupyter-widgets/base",
      "model_module_version": "1.2.0",
      "model_name": "LayoutModel",
      "state": {
       "grid_area": "bottom",
       "width": "auto"
      }
     },
     "02083432ea0440d3b5750cbb68148194": {
      "model_module": "@jupyter-widgets/base",
      "model_module_version": "1.2.0",
      "model_name": "LayoutModel",
      "state": {
       "border": "4px solid #000000",
       "max_height": "650px",
       "min_height": "650px",
       "overflow_y": "hidden"
      }
     },
     "022db39f1c8a43aea51a492bc93529f9": {
      "model_module": "@jupyter-widgets/controls",
      "model_module_version": "1.5.0",
      "model_name": "GridBoxModel",
      "state": {
       "children": [
        "IPY_MODEL_1a9bf4013de049ada908aa871608bb8a"
       ],
       "layout": "IPY_MODEL_e981e08486e2482481727df3311d40df"
      }
     },
     "03f4052e18154148bc78c04db575c825": {
      "model_module": "@jupyter-widgets/base",
      "model_module_version": "1.2.0",
      "model_name": "LayoutModel",
      "state": {
       "grid_area": "left"
      }
     },
     "03fefd4e44c348d88838f7b0dc9f15cd": {
      "model_module": "@jupyter-widgets/base",
      "model_module_version": "1.2.0",
      "model_name": "LayoutModel",
      "state": {
       "width": "190px"
      }
     },
     "048a2d5f62bd46249f0212ba19df4643": {
      "model_module": "@jupyter-widgets/controls",
      "model_module_version": "1.5.0",
      "model_name": "GridBoxModel",
      "state": {
       "children": [
        "IPY_MODEL_0efbfd9f129847158d986048e629ca9e",
        "IPY_MODEL_c47d81d09b564a77baec4feb183a072d",
        "IPY_MODEL_1c462a61b7534654aaf4ea7fd34a3920",
        "IPY_MODEL_31d11df8c7b14c8f9f9587869ffb7e4e"
       ],
       "layout": "IPY_MODEL_d8dcd8cff402467e8f26372683b59242"
      }
     },
     "04f1bd74d82b4179b045bafe6a0247eb": {
      "model_module": "@jupyter-widgets/base",
      "model_module_version": "1.2.0",
      "model_name": "LayoutModel",
      "state": {
       "align_items": "center",
       "display": "flex-inline",
       "min_height": "400px"
      }
     },
     "059c3a3d93ba413db2ca0514adda65fe": {
      "model_module": "@jupyter-widgets/base",
      "model_module_version": "1.2.0",
      "model_name": "LayoutModel",
      "state": {
       "max_height": "620px"
      }
     },
     "069fc43e0d5e4481b40c5b0bd5352899": {
      "model_module": "@jupyter-widgets/base",
      "model_module_version": "1.2.0",
      "model_name": "LayoutModel",
      "state": {
       "grid_area": "right"
      }
     },
     "074614c6bd954225a4c8b76b7e56036a": {
      "model_module": "@jupyter-widgets/controls",
      "model_module_version": "1.5.0",
      "model_name": "DescriptionStyleModel",
      "state": {
       "description_width": ""
      }
     },
     "0823fcdc71b54f8f95ebb21e42797ab5": {
      "model_module": "@jupyter-widgets/base",
      "model_module_version": "1.2.0",
      "model_name": "LayoutModel",
      "state": {}
     },
     "0988c0131f0546b09456e0433feff3c2": {
      "model_module": "@jupyter-widgets/controls",
      "model_module_version": "1.5.0",
      "model_name": "HTMLModel",
      "state": {
       "layout": "IPY_MODEL_8602a2e52ed0415088dd5de6e137fd6f",
       "style": "IPY_MODEL_96bd8ec273df4435b11bc80c58d2419f",
       "value": "<h5>Job ID</h5>"
      }
     },
     "099a1146247f42ed9210c04fa558152f": {
      "model_module": "@jupyter-widgets/base",
      "model_module_version": "1.2.0",
      "model_name": "LayoutModel",
      "state": {}
     },
     "0d089e7b73c34d259dc253b82694e408": {
      "model_module": "@jupyter-widgets/base",
      "model_module_version": "1.2.0",
      "model_name": "LayoutModel",
      "state": {
       "grid_area": "left",
       "width": "100%"
      }
     },
     "0efbfd9f129847158d986048e629ca9e": {
      "model_module": "@jupyter-widgets/controls",
      "model_module_version": "1.5.0",
      "model_name": "HTMLModel",
      "state": {
       "layout": "IPY_MODEL_3e2e9acba06a4ec1a4a720eea0d3ed51",
       "style": "IPY_MODEL_679bf16aec6740f9b1cfcc7fcd735372",
       "value": "<div><font style='font-weight:bold'>last_update_date</font>: 2019-08-29 03:57:44+00:00</div>"
      }
     },
     "0fa5db82cd9f46e085d5f07b616f489f": {
      "model_module": "@jupyter-widgets/controls",
      "model_module_version": "1.5.0",
      "model_name": "HTMLModel",
      "state": {
       "layout": "IPY_MODEL_b3945b5e45894c7f8cf4afdd57f902c4",
       "style": "IPY_MODEL_9c9587e1bb1d419f9dbc07b66cdfb221",
       "value": "<div><font style='font-weight:bold'>last_update_date</font>: Thu 29 August 2019 at 03:57 UTC</div>"
      }
     },
     "105a1c70721b4518b0224de3b558e309": {
      "model_module": "@jupyter-widgets/base",
      "model_module_version": "1.2.0",
      "model_name": "LayoutModel",
      "state": {
       "margin": "0px 0px 0px 37px",
       "width": "600px"
      }
     },
     "106a0b7746514663a5d123f6e96f78d1": {
      "model_module": "@jupyter-widgets/controls",
      "model_module_version": "1.5.0",
      "model_name": "HTMLMathModel",
      "state": {
       "layout": "IPY_MODEL_737669241c57480382094470e11212cf",
       "style": "IPY_MODEL_55b0c86dc98246aebcc3607fde86742d",
       "value": "<table><style>\ntable {\n    border-collapse: collapse;\n    width: auto;\n}\n\nth, td {\n    text-align: left;\n    padding: 8px;\n}\n\ntr:nth-child(even) {background-color: #f6f6f6;}\n</style><tr><th></th><th></th></tr><tr><td>simulator</td><td>False</td></tr><tr><td>open_pulse</td><td>False</td></tr><tr><td>dynamic_reprate_enabled</td><td>False</td></tr><tr><td>conditional</td><td>False</td></tr><tr><td>memory</td><td>False</td></tr><tr><td>coupling_map</td><td>[[0, 1], [0, 5], [1, 0], [1, 2], [1, 6], [1, 7], [2, 1], [2, 6], [3, 8], [4, 8], [4, 9], [5, 0], [5, 6], [5, 10], [5, 11], [6, 1], [6, 2], [6, 5], [6, 7], [6, 10], [6, 11], [7, 1], [7, 6], [7, 8], [7, 12], [8, 3], [8, 4], [8, 7], [8, 9], [8, 12], [8, 13], [9, 4], [9, 8], [10, 5], [10, 6], [10, 11], [10, 15], [11, 5], [11, 6], [11, 10], [11, 12], [11, 16], [11, 17], [12, 7], [12, 8], [12, 11], [12, 13], [12, 16], [13, 8], [13, 12], [13, 14], [13, 18], [13, 19], [14, 13], [14, 18], [14, 19], [15, 10], [15, 16], [16, 11], [16, 12], [16, 15], [16, 17], [17, 11], [17, 16], [17, 18], [18, 13], [18, 14], [18, 17], [19, 13], [19, 14]]</td></tr><tr><td>local</td><td>True</td></tr><tr><td>backend_name</td><td>fake_tokyo</td></tr></table>"
      }
     },
     "11941c9cdac94278bf1fcd09c7ddffdc": {
      "model_module": "@jupyter-widgets/output",
      "model_module_version": "1.0.0",
      "model_name": "OutputModel",
      "state": {
       "layout": "IPY_MODEL_0060c901199e4dc0a81b908f18b46d6a",
       "outputs": [
        {
         "data": {
          "image/png": "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\n",
          "text/plain": "<Figure size 360x360 with 1 Axes>"
         },
         "metadata": {},
         "output_type": "display_data"
        }
       ]
      }
     },
     "123b1968af134955b9761ce07629ee29": {
      "model_module": "@jupyter-widgets/controls",
      "model_module_version": "1.5.0",
      "model_name": "DescriptionStyleModel",
      "state": {
       "description_width": ""
      }
     },
     "12d7370b0d7548db971b42accf380b29": {
      "model_module": "@jupyter-widgets/controls",
      "model_module_version": "1.5.0",
      "model_name": "DescriptionStyleModel",
      "state": {
       "description_width": ""
      }
     },
     "12e5478c01d14c92b5e37ee6fca8f542": {
      "model_module": "@jupyter-widgets/base",
      "model_module_version": "1.2.0",
      "model_name": "LayoutModel",
      "state": {
       "grid_area": "middle"
      }
     },
     "138fd54f4bb74c4ab1311135248d660e": {
      "model_module": "@jupyter-widgets/base",
      "model_module_version": "1.2.0",
      "model_name": "LayoutModel",
      "state": {
       "grid_area": "left",
       "width": "100%"
      }
     },
     "147ca316561541b495d5d111bca91d59": {
      "model_module": "@jupyter-widgets/controls",
      "model_module_version": "1.5.0",
      "model_name": "DescriptionStyleModel",
      "state": {
       "description_width": ""
      }
     },
     "15c3bf91b6e74a3695ef9bf53924d511": {
      "model_module": "@jupyter-widgets/controls",
      "model_module_version": "1.5.0",
      "model_name": "HTMLModel",
      "state": {
       "layout": "IPY_MODEL_cd5c39070a814d4e85410e4084146c59",
       "style": "IPY_MODEL_69cc10bc0b5241f7a629102e984e6d74",
       "value": "<table><style>\ntable {\n    border-collapse: collapse;\n    width: auto;\n}\n\nth, td {\n    text-align: left;\n    padding: 8px;\n}\n\ntr:nth-child(even) {background-color: #f6f6f6;}\n</style><tr><th></th><th>Frequency</th><th>T1</th><th>T2</th><th>U1</th><th>U2</th><th>U3</th><th>Readout error</th></tr><tr><td><font style='font-weight:bold'>Q0</font></td><td>5.02007 GHz</td><td>123.01756 µs</td><td>82.60818 µs</td><td>0.0</td><td>0.00141</td><td>0.00282</td><td>0.06 </td><tr><td><font style='font-weight:bold'>Q1</font></td><td>4.90331 GHz</td><td>69.54337 µs</td><td>10.66094 µs</td><td>0.0</td><td>0.00418</td><td>0.00835</td><td>0.044 </td><tr><td><font style='font-weight:bold'>Q2</font></td><td>4.77786 GHz</td><td>92.53355 µs</td><td>29.11701 µs</td><td>0.0</td><td>0.00525</td><td>0.0105</td><td>0.112 </td><tr><td><font style='font-weight:bold'>Q3</font></td><td>5.0943 GHz</td><td>86.1611 µs</td><td>56.40714 µs</td><td>0.0</td><td>0.00426</td><td>0.00851</td><td>0.044 </td><tr><td><font style='font-weight:bold'>Q4</font></td><td>5.10678 GHz</td><td>107.2344 µs</td><td>21.56334 µs</td><td>0.0</td><td>0.00332</td><td>0.00665</td><td>0.035 </td><tr><td><font style='font-weight:bold'>Q5</font></td><td>5.14327 GHz</td><td>70.37233 µs</td><td>55.37966 µs</td><td>0.0</td><td>0.00256</td><td>0.00512</td><td>0.043 </td><tr><td><font style='font-weight:bold'>Q6</font></td><td>5.03349 GHz</td><td>77.12695 µs</td><td>62.789 µs</td><td>0.0</td><td>0.00086</td><td>0.00171</td><td>0.031 </td><tr><td><font style='font-weight:bold'>Q7</font></td><td>4.45737 GHz</td><td>115.35301 µs</td><td>61.19512 µs</td><td>0.0</td><td>0.00159</td><td>0.00317</td><td>0.189 </td><tr><td><font style='font-weight:bold'>Q8</font></td><td>5.01896 GHz</td><td>118.99757 µs</td><td>79.91584 µs</td><td>0.0</td><td>0.00096</td><td>0.00193</td><td>0.025 </td><tr><td><font style='font-weight:bold'>Q9</font></td><td>5.06523 GHz</td><td>52.51567 µs</td><td>23.81522 µs</td><td>0.0</td><td>0.00289</td><td>0.00578</td><td>0.049 </td><tr><td><font style='font-weight:bold'>Q10</font></td><td>4.95952 GHz</td><td>112.25671 µs</td><td>63.70903 µs</td><td>0.0</td><td>0.00125</td><td>0.00251</td><td>0.102 </td><tr><td><font style='font-weight:bold'>Q11</font></td><td>5.22967 GHz</td><td>73.77756 µs</td><td>62.21013 µs</td><td>0.0</td><td>0.00124</td><td>0.00248</td><td>0.036 </td><tr><td><font style='font-weight:bold'>Q12</font></td><td>4.66357 GHz</td><td>122.45582 µs</td><td>19.07433 µs</td><td>0.0</td><td>0.00181</td><td>0.00361</td><td>0.052 </td><tr><td><font style='font-weight:bold'>Q13</font></td><td>4.8982 GHz</td><td>102.98938 µs</td><td>49.48401 µs</td><td>0.0</td><td>0.00733</td><td>0.01466</td><td>0.043 </td><tr><td><font style='font-weight:bold'>Q14</font></td><td>5.23317 GHz</td><td>61.16598 µs</td><td>68.49908 µs</td><td>0.0</td><td>0.00083</td><td>0.00165</td><td>0.03 </td><tr><td><font style='font-weight:bold'>Q15</font></td><td>4.49111 GHz</td><td>94.2628 µs</td><td>82.00924 µs</td><td>0.0</td><td>0.0009</td><td>0.0018</td><td>0.045 </td><tr><td><font style='font-weight:bold'>Q16</font></td><td>5.07451 GHz</td><td>59.3939 µs</td><td>51.33196 µs</td><td>0.0</td><td>0.0012</td><td>0.00239</td><td>0.101 </td><tr><td><font style='font-weight:bold'>Q17</font></td><td>4.98481 GHz</td><td>75.04496 µs</td><td>58.7663 µs</td><td>0.0</td><td>0.001</td><td>0.00201</td><td>0.061 </td><tr><td><font style='font-weight:bold'>Q18</font></td><td>5.10934 GHz</td><td>76.17653 µs</td><td>48.10762 µs</td><td>0.0</td><td>0.00399</td><td>0.00798</td><td>0.045 </td><tr><td><font style='font-weight:bold'>Q19</font></td><td>5.1245 GHz</td><td>62.09861 µs</td><td>53.07004 µs</td><td>0.0</td><td>0.00242</td><td>0.00484</td><td>0.043 </td></table>"
      }
     },
     "18afd0bdc17445be8f6640515ef6cd44": {
      "model_module": "@jupyter-widgets/base",
      "model_module_version": "1.2.0",
      "model_name": "LayoutModel",
      "state": {
       "width": "190px"
      }
     },
     "1938db0c9cd94af694a4adae162b41fb": {
      "model_module": "@jupyter-widgets/controls",
      "model_module_version": "1.5.0",
      "model_name": "HTMLModel",
      "state": {
       "layout": "IPY_MODEL_12e5478c01d14c92b5e37ee6fca8f542",
       "style": "IPY_MODEL_defdf8bc51e34efb97e55fb5fef8d75d",
       "value": "<table><style>\ntable {\n    border-collapse: collapse;\n    width: auto;\n}\n\nth, td {\n    text-align: left;\n    padding: 8px;\n}\n\ntr:nth-child(even) {background-color: #f6f6f6;};\n</style><tr><th></th><th>Type</th><th>Gate error</th></tr><tr><td><font style='font-weight:bold'>cx7_12</font></td><td>cx</td><td>0.02113</td></tr><tr><td><font style='font-weight:bold'>cx8_3</font></td><td>cx</td><td>0.04</td></tr><tr><td><font style='font-weight:bold'>cx8_4</font></td><td>cx</td><td>0.02772</td></tr><tr><td><font style='font-weight:bold'>cx8_7</font></td><td>cx</td><td>0.03691</td></tr><tr><td><font style='font-weight:bold'>cx8_9</font></td><td>cx</td><td>0.02233</td></tr><tr><td><font style='font-weight:bold'>cx8_12</font></td><td>cx</td><td>0.05001</td></tr><tr><td><font style='font-weight:bold'>cx8_13</font></td><td>cx</td><td>0.03028</td></tr><tr><td><font style='font-weight:bold'>cx9_4</font></td><td>cx</td><td>0.03384</td></tr><tr><td><font style='font-weight:bold'>cx9_8</font></td><td>cx</td><td>0.02233</td></tr><tr><td><font style='font-weight:bold'>cx10_5</font></td><td>cx</td><td>0.02643</td></tr><tr><td><font style='font-weight:bold'>cx10_6</font></td><td>cx</td><td>0.01845</td></tr><tr><td><font style='font-weight:bold'>cx10_11</font></td><td>cx</td><td>0.03386</td></tr><tr><td><font style='font-weight:bold'>cx10_15</font></td><td>cx</td><td>0.02773</td></tr><tr><td><font style='font-weight:bold'>cx11_5</font></td><td>cx</td><td>0.03646</td></tr><tr><td><font style='font-weight:bold'>cx11_6</font></td><td>cx</td><td>0.01651</td></tr><tr><td><font style='font-weight:bold'>cx11_10</font></td><td>cx</td><td>0.03386</td></tr><tr><td><font style='font-weight:bold'>cx11_12</font></td><td>cx</td><td>0.04782</td></tr><tr><td><font style='font-weight:bold'>cx11_16</font></td><td>cx</td><td>0.0178</td></tr><tr><td><font style='font-weight:bold'>cx11_17</font></td><td>cx</td><td>0.01799</td></tr><tr><td><font style='font-weight:bold'>cx12_7</font></td><td>cx</td><td>0.02113</td></tr><tr><td><font style='font-weight:bold'>cx12_8</font></td><td>cx</td><td>0.05001</td></tr><tr><td><font style='font-weight:bold'>cx12_11</font></td><td>cx</td><td>0.04782</td></tr><tr><td><font style='font-weight:bold'>cx12_13</font></td><td>cx</td><td>0.03068</td></tr></table>"
      }
     },
     "1a05367d373748109b7e353c1c2720a8": {
      "model_module": "@jupyter-widgets/base",
      "model_module_version": "1.2.0",
      "model_name": "LayoutModel",
      "state": {}
     },
     "1a89e3a43d4242e29a9f28cdf2b3c348": {
      "model_module": "@jupyter-widgets/base",
      "model_module_version": "1.2.0",
      "model_name": "LayoutModel",
      "state": {}
     },
     "1a9bf4013de049ada908aa871608bb8a": {
      "model_module": "@jupyter-widgets/controls",
      "model_module_version": "1.5.0",
      "model_name": "ButtonModel",
      "state": {
       "button_style": "primary",
       "description": "Clear",
       "layout": "IPY_MODEL_56686e94ace64e9f933d3ced78697166",
       "style": "IPY_MODEL_272baee075ac487f89e7d23ea29563c2"
      }
     },
     "1aa78b315457472b87d3c9b83bcb62e6": {
      "model_module": "@jupyter-widgets/controls",
      "model_module_version": "1.5.0",
      "model_name": "DescriptionStyleModel",
      "state": {
       "description_width": ""
      }
     },
     "1b1fb9fffb0a4805b084239445b543f3": {
      "model_module": "@jupyter-widgets/controls",
      "model_module_version": "1.5.0",
      "model_name": "HTMLModel",
      "state": {
       "layout": "IPY_MODEL_cb8645169d6944c694669fb81d6428d0",
       "style": "IPY_MODEL_7f32c695355b442d9ae6caaf577883ea",
       "value": "<p style='font-family: IBM Plex Sans, Arial, Helvetica, sans-serif; font-size: 20px; font-weight: medium;'>Circuit Properties</p>"
      }
     },
     "1c39779c748e4bb5a2c91e6c80412cb5": {
      "model_module": "@jupyter-widgets/controls",
      "model_module_version": "1.5.0",
      "model_name": "HTMLModel",
      "state": {
       "layout": "IPY_MODEL_b1e7fd3081fa40a6a78ba92b368aa68c",
       "style": "IPY_MODEL_988109292cf6479197f2dca39a38336a",
       "value": "<table><style>\ntable {\n    border-collapse: collapse;\n    width: auto;\n}\n\nth, td {\n    text-align: left;\n    padding: 8px;\n}\n\ntr:nth-child(even) {background-color: #f6f6f6;};\n</style><tr><th></th><th>Type</th><th>Gate error</th></tr><tr><td><font style='font-weight:bold'>cx12_16</font></td><td>cx</td><td>0.02889</td></tr><tr><td><font style='font-weight:bold'>cx13_8</font></td><td>cx</td><td>0.03028</td></tr><tr><td><font style='font-weight:bold'>cx13_12</font></td><td>cx</td><td>0.03068</td></tr><tr><td><font style='font-weight:bold'>cx13_14</font></td><td>cx</td><td>0.03319</td></tr><tr><td><font style='font-weight:bold'>cx13_18</font></td><td>cx</td><td>0.02619</td></tr><tr><td><font style='font-weight:bold'>cx13_19</font></td><td>cx</td><td>0.02739</td></tr><tr><td><font style='font-weight:bold'>cx14_13</font></td><td>cx</td><td>0.03319</td></tr><tr><td><font style='font-weight:bold'>cx14_18</font></td><td>cx</td><td>0.01779</td></tr><tr><td><font style='font-weight:bold'>cx14_19</font></td><td>cx</td><td>0.02085</td></tr><tr><td><font style='font-weight:bold'>cx15_10</font></td><td>cx</td><td>0.02773</td></tr><tr><td><font style='font-weight:bold'>cx15_16</font></td><td>cx</td><td>0.03497</td></tr><tr><td><font style='font-weight:bold'>cx16_11</font></td><td>cx</td><td>0.0178</td></tr><tr><td><font style='font-weight:bold'>cx16_12</font></td><td>cx</td><td>0.02889</td></tr><tr><td><font style='font-weight:bold'>cx16_15</font></td><td>cx</td><td>0.03497</td></tr><tr><td><font style='font-weight:bold'>cx16_17</font></td><td>cx</td><td>0.02143</td></tr><tr><td><font style='font-weight:bold'>cx17_11</font></td><td>cx</td><td>0.01799</td></tr><tr><td><font style='font-weight:bold'>cx17_16</font></td><td>cx</td><td>0.02143</td></tr><tr><td><font style='font-weight:bold'>cx17_18</font></td><td>cx</td><td>0.0228</td></tr><tr><td><font style='font-weight:bold'>cx18_13</font></td><td>cx</td><td>0.02619</td></tr><tr><td><font style='font-weight:bold'>cx18_14</font></td><td>cx</td><td>0.01779</td></tr><tr><td><font style='font-weight:bold'>cx18_17</font></td><td>cx</td><td>0.0228</td></tr><tr><td><font style='font-weight:bold'>cx19_13</font></td><td>cx</td><td>0.02739</td></tr><tr><td><font style='font-weight:bold'>cx19_14</font></td><td>cx</td><td>0.02085</td></tr></table>"
      }
     },
     "1c4563c8edc34219b54a7f0f5746f10d": {
      "model_module": "@jupyter-widgets/base",
      "model_module_version": "1.2.0",
      "model_name": "LayoutModel",
      "state": {}
     },
     "1c462a61b7534654aaf4ea7fd34a3920": {
      "model_module": "@jupyter-widgets/controls",
      "model_module_version": "1.5.0",
      "model_name": "HTMLModel",
      "state": {
       "layout": "IPY_MODEL_63676fe645c443d1a3c4ef891e5d6e68",
       "style": "IPY_MODEL_6211bea434744cc69187edfd2ceffc88",
       "value": "<table><style>\ntable {\n    border-collapse: collapse;\n    width: auto;\n}\n\nth, td {\n    text-align: left;\n    padding: 8px;\n}\n\ntr:nth-child(even) {background-color: #f6f6f6;};\n</style><tr><th></th><th>Type</th><th>Gate error</th></tr><tr><td><font style='font-weight:bold'>cx7_12</font></td><td>cx</td><td>0.02113</td></tr><tr><td><font style='font-weight:bold'>cx8_3</font></td><td>cx</td><td>0.04</td></tr><tr><td><font style='font-weight:bold'>cx8_4</font></td><td>cx</td><td>0.02772</td></tr><tr><td><font style='font-weight:bold'>cx8_7</font></td><td>cx</td><td>0.03691</td></tr><tr><td><font style='font-weight:bold'>cx8_9</font></td><td>cx</td><td>0.02233</td></tr><tr><td><font style='font-weight:bold'>cx8_12</font></td><td>cx</td><td>0.05001</td></tr><tr><td><font style='font-weight:bold'>cx8_13</font></td><td>cx</td><td>0.03028</td></tr><tr><td><font style='font-weight:bold'>cx9_4</font></td><td>cx</td><td>0.03384</td></tr><tr><td><font style='font-weight:bold'>cx9_8</font></td><td>cx</td><td>0.02233</td></tr><tr><td><font style='font-weight:bold'>cx10_5</font></td><td>cx</td><td>0.02643</td></tr><tr><td><font style='font-weight:bold'>cx10_6</font></td><td>cx</td><td>0.01845</td></tr><tr><td><font style='font-weight:bold'>cx10_11</font></td><td>cx</td><td>0.03386</td></tr><tr><td><font style='font-weight:bold'>cx10_15</font></td><td>cx</td><td>0.02773</td></tr><tr><td><font style='font-weight:bold'>cx11_5</font></td><td>cx</td><td>0.03646</td></tr><tr><td><font style='font-weight:bold'>cx11_6</font></td><td>cx</td><td>0.01651</td></tr><tr><td><font style='font-weight:bold'>cx11_10</font></td><td>cx</td><td>0.03386</td></tr><tr><td><font style='font-weight:bold'>cx11_12</font></td><td>cx</td><td>0.04782</td></tr><tr><td><font style='font-weight:bold'>cx11_16</font></td><td>cx</td><td>0.0178</td></tr><tr><td><font style='font-weight:bold'>cx11_17</font></td><td>cx</td><td>0.01799</td></tr><tr><td><font style='font-weight:bold'>cx12_7</font></td><td>cx</td><td>0.02113</td></tr><tr><td><font style='font-weight:bold'>cx12_8</font></td><td>cx</td><td>0.05001</td></tr><tr><td><font style='font-weight:bold'>cx12_11</font></td><td>cx</td><td>0.04782</td></tr><tr><td><font style='font-weight:bold'>cx12_13</font></td><td>cx</td><td>0.03068</td></tr></table>"
      }
     },
     "1c8f457c91064b73964a326269962a68": {
      "model_module": "@jupyter-widgets/controls",
      "model_module_version": "1.5.0",
      "model_name": "GridBoxModel",
      "state": {
       "children": [
        "IPY_MODEL_7043752ec2a94ca78ceb491aa6869dfe",
        "IPY_MODEL_ab90833cb20d47ff810891ce84f4ded3",
        "IPY_MODEL_c598c622c1084d74a79d0fa07f062e70"
       ],
       "layout": "IPY_MODEL_b64bcd6b0f3d493ba48b84b0dab48c4c"
      }
     },
     "1d4ee8616c5c4377a44a25225be7b06f": {
      "model_module": "@jupyter-widgets/base",
      "model_module_version": "1.2.0",
      "model_name": "LayoutModel",
      "state": {}
     },
     "1d55f9645fc04b398c599c333d0f513c": {
      "model_module": "@jupyter-widgets/controls",
      "model_module_version": "1.5.0",
      "model_name": "DescriptionStyleModel",
      "state": {
       "description_width": ""
      }
     },
     "1e251312b2e74b34b7feb2b3374ab18f": {
      "model_module": "@jupyter-widgets/output",
      "model_module_version": "1.0.0",
      "model_name": "OutputModel",
      "state": {
       "layout": "IPY_MODEL_e61f18cd6f1648adba2820a3850d3aee",
       "outputs": [
        {
         "data": {
          "image/png": "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\n",
          "text/plain": "<Figure size 792x648 with 5 Axes>"
         },
         "metadata": {},
         "output_type": "display_data"
        }
       ]
      }
     },
     "20168a69eab8474c88d0b57f0863dc05": {
      "model_module": "@jupyter-widgets/controls",
      "model_module_version": "1.5.0",
      "model_name": "DescriptionStyleModel",
      "state": {
       "description_width": ""
      }
     },
     "215531b49335492abc198b13072bfcb8": {
      "model_module": "@jupyter-widgets/base",
      "model_module_version": "1.2.0",
      "model_name": "LayoutModel",
      "state": {
       "overflow_y": "scroll"
      }
     },
     "242df9765c2a445fb33efd2520e8d599": {
      "model_module": "@jupyter-widgets/controls",
      "model_module_version": "1.5.0",
      "model_name": "DescriptionStyleModel",
      "state": {
       "description_width": ""
      }
     },
     "25039a328e7e4fee81b03fa766f65305": {
      "model_module": "@jupyter-widgets/controls",
      "model_module_version": "1.5.0",
      "model_name": "TabModel",
      "state": {
       "layout": "IPY_MODEL_49b323afa47648e6ab33d3caf9189a89"
      }
     },
     "262bacb7a7204613bd3d1d4565f1a3dc": {
      "model_module": "@jupyter-widgets/controls",
      "model_module_version": "1.5.0",
      "model_name": "DescriptionStyleModel",
      "state": {
       "description_width": ""
      }
     },
     "264e1f2491674d65994448b2b6fb362b": {
      "model_module": "@jupyter-widgets/controls",
      "model_module_version": "1.5.0",
      "model_name": "VBoxModel",
      "state": {
       "children": [
        "IPY_MODEL_fa5f296f88ed404bb09c2e7721c15ec9",
        "IPY_MODEL_be965b143fd944ecacde4a27d3b7b368"
       ],
       "layout": "IPY_MODEL_6d001b31c7a647329c5ae8df91774198"
      }
     },
     "272baee075ac487f89e7d23ea29563c2": {
      "model_module": "@jupyter-widgets/controls",
      "model_module_version": "1.5.0",
      "model_name": "ButtonStyleModel",
      "state": {}
     },
     "27468a0285e04dd3bcb4e5d37003263d": {
      "model_module": "@jupyter-widgets/base",
      "model_module_version": "1.2.0",
      "model_name": "LayoutModel",
      "state": {
       "grid_gap": "0px 0px",
       "grid_template_areas": "\n                                                   \"top top top\"\n                                                   \"left middle right\"\n                                                   ",
       "grid_template_columns": "33% 33% 33%",
       "grid_template_rows": "auto auto"
      }
     },
     "27520c152e1a483b83c0e4deedfc77ec": {
      "model_module": "@jupyter-widgets/controls",
      "model_module_version": "1.5.0",
      "model_name": "TabModel",
      "state": {
       "_titles": {
        "0": "Configuration",
        "1": "Qubit Properties",
        "2": "Multi-Qubit Gates",
        "3": "Error Map",
        "4": "Job History"
       },
       "children": [
        "IPY_MODEL_1c8f457c91064b73964a326269962a68",
        "IPY_MODEL_e446dc47f83e480db3a6f09cc7603590",
        "IPY_MODEL_c0151345d86c4679b4905c3c46d11b2a",
        "IPY_MODEL_46d04b7c4f3d414896716ac56c2b8004",
        "IPY_MODEL_b640acc1a2734b74af9598f9aef8e6fd"
       ],
       "layout": "IPY_MODEL_67ef1a20969b4936acc54ff64bf417bf"
      }
     },
     "285f114200014c53ae7826807796d9bd": {
      "model_module": "@jupyter-widgets/controls",
      "model_module_version": "1.5.0",
      "model_name": "TabModel",
      "state": {
       "_titles": {
        "0": "Year",
        "1": "Month",
        "2": "Week"
       },
       "children": [
        "IPY_MODEL_e62c8f1faf47490192ce1c483e2c685e",
        "IPY_MODEL_6423e41c71a6426d80cbd8d9e36eaf8b",
        "IPY_MODEL_ade53ba70cd14b4db76051f2cd6abc36"
       ],
       "layout": "IPY_MODEL_c6a5157891b041bc987d5c2ca6a5563f"
      }
     },
     "28b5d190cdf44f4db5790a6abeebc0b1": {
      "model_module": "@jupyter-widgets/controls",
      "model_module_version": "1.5.0",
      "model_name": "HTMLMathModel",
      "state": {
       "layout": "IPY_MODEL_138fd54f4bb74c4ab1311135248d660e",
       "style": "IPY_MODEL_1aa78b315457472b87d3c9b83bcb62e6",
       "value": "<table><style>\ntable {\n    border-collapse: collapse;\n    width: auto;\n}\n\nth, td {\n    text-align: left;\n    padding: 8px;\n}\n\ntr:nth-child(even) {background-color: #f6f6f6;}\n</style><tr><th>Property</th><th>Value</th></tr><tr><td><font style='font-weight:bold'>n_qubits</font></td><td>20</td></tr><tr><td><font style='font-weight:bold'>operational</font></td><td>True</td></tr><tr><td><font style='font-weight:bold'>status_msg</font></td><td></td></tr><tr><td><font style='font-weight:bold'>pending_jobs</font></td><td>0</td></tr><tr><td><font style='font-weight:bold'>backend_version</font></td><td>0.0.0</td></tr><tr><td><font style='font-weight:bold'>basis_gates</font></td><td>['u1', 'u2', 'u3', 'cx', 'id']</td></tr><tr><td><font style='font-weight:bold'>max_shots</font></td><td>65536</td></tr><tr><td><font style='font-weight:bold'>max_experiments</font></td><td>900</td></tr></table>"
      }
     },
     "28e5e989412544649947ac5bb0a069c4": {
      "model_module": "@jupyter-widgets/controls",
      "model_module_version": "1.5.0",
      "model_name": "DescriptionStyleModel",
      "state": {
       "description_width": ""
      }
     },
     "297958c32f4b4307840842e603cb205e": {
      "model_module": "@jupyter-widgets/controls",
      "model_module_version": "1.5.0",
      "model_name": "HTMLModel",
      "state": {
       "layout": "IPY_MODEL_c12e50e3c078439a90f0f599b22407fd",
       "style": "IPY_MODEL_449076a4c5f242d88cd43fdcc807d734",
       "value": "<h5>Backend</h5>"
      }
     },
     "2a633d7ec4e44416803e27743f3fcc00": {
      "model_module": "@jupyter-widgets/controls",
      "model_module_version": "1.5.0",
      "model_name": "HTMLModel",
      "state": {
       "layout": "IPY_MODEL_1d4ee8616c5c4377a44a25225be7b06f",
       "style": "IPY_MODEL_b568fb5231d54c45be0c643f3fc2c63a",
       "value": "<div><font style='font-weight:bold'>last_update_date</font>: Thu 29 August 2019 at 03:57 UTC</div>"
      }
     },
     "2f2e998861f94e8e8455b920363d71a0": {
      "model_module": "@jupyter-widgets/controls",
      "model_module_version": "1.5.0",
      "model_name": "DescriptionStyleModel",
      "state": {
       "description_width": ""
      }
     },
     "308f18aa55d141b797d65472094d7ec1": {
      "model_module": "@jupyter-widgets/controls",
      "model_module_version": "1.5.0",
      "model_name": "VBoxModel",
      "state": {
       "children": [
        "IPY_MODEL_a087c29005814e3a972f4f8362250e54",
        "IPY_MODEL_a31cf9ba44964b698c86e84d9773a1cf"
       ],
       "layout": "IPY_MODEL_606fd4614a2347a4a31013a1c8dea94e"
      }
     },
     "30e034e59c224f6386a578139823b174": {
      "model_module": "@jupyter-widgets/controls",
      "model_module_version": "1.5.0",
      "model_name": "HBoxModel",
      "state": {
       "children": [
        "IPY_MODEL_7a9807f314f7428e9f1cd85dbf7e03d4",
        "IPY_MODEL_72b8ad43bd08454d986289c278685a33",
        "IPY_MODEL_ad7edb4ab1db489fa3a8548836ff64c0",
        "IPY_MODEL_6825ffd30bf34a489ae56cec02fb0d3d",
        "IPY_MODEL_4ac69d5987504a259ede1f701bb897da"
       ],
       "layout": "IPY_MODEL_8fb93d1359764a0eb1797a948cf97cbf"
      }
     },
     "31d11df8c7b14c8f9f9587869ffb7e4e": {
      "model_module": "@jupyter-widgets/controls",
      "model_module_version": "1.5.0",
      "model_name": "HTMLModel",
      "state": {
       "layout": "IPY_MODEL_b89fdf3fb89145a6864b9aeca2ef081c",
       "style": "IPY_MODEL_a502486ae0a846848c8f9607033dfb26",
       "value": "<table><style>\ntable {\n    border-collapse: collapse;\n    width: auto;\n}\n\nth, td {\n    text-align: left;\n    padding: 8px;\n}\n\ntr:nth-child(even) {background-color: #f6f6f6;};\n</style><tr><th></th><th>Type</th><th>Gate error</th></tr><tr><td><font style='font-weight:bold'>cx12_16</font></td><td>cx</td><td>0.02889</td></tr><tr><td><font style='font-weight:bold'>cx13_8</font></td><td>cx</td><td>0.03028</td></tr><tr><td><font style='font-weight:bold'>cx13_12</font></td><td>cx</td><td>0.03068</td></tr><tr><td><font style='font-weight:bold'>cx13_14</font></td><td>cx</td><td>0.03319</td></tr><tr><td><font style='font-weight:bold'>cx13_18</font></td><td>cx</td><td>0.02619</td></tr><tr><td><font style='font-weight:bold'>cx13_19</font></td><td>cx</td><td>0.02739</td></tr><tr><td><font style='font-weight:bold'>cx14_13</font></td><td>cx</td><td>0.03319</td></tr><tr><td><font style='font-weight:bold'>cx14_18</font></td><td>cx</td><td>0.01779</td></tr><tr><td><font style='font-weight:bold'>cx14_19</font></td><td>cx</td><td>0.02085</td></tr><tr><td><font style='font-weight:bold'>cx15_10</font></td><td>cx</td><td>0.02773</td></tr><tr><td><font style='font-weight:bold'>cx15_16</font></td><td>cx</td><td>0.03497</td></tr><tr><td><font style='font-weight:bold'>cx16_11</font></td><td>cx</td><td>0.0178</td></tr><tr><td><font style='font-weight:bold'>cx16_12</font></td><td>cx</td><td>0.02889</td></tr><tr><td><font style='font-weight:bold'>cx16_15</font></td><td>cx</td><td>0.03497</td></tr><tr><td><font style='font-weight:bold'>cx16_17</font></td><td>cx</td><td>0.02143</td></tr><tr><td><font style='font-weight:bold'>cx17_11</font></td><td>cx</td><td>0.01799</td></tr><tr><td><font style='font-weight:bold'>cx17_16</font></td><td>cx</td><td>0.02143</td></tr><tr><td><font style='font-weight:bold'>cx17_18</font></td><td>cx</td><td>0.0228</td></tr><tr><td><font style='font-weight:bold'>cx18_13</font></td><td>cx</td><td>0.02619</td></tr><tr><td><font style='font-weight:bold'>cx18_14</font></td><td>cx</td><td>0.01779</td></tr><tr><td><font style='font-weight:bold'>cx18_17</font></td><td>cx</td><td>0.0228</td></tr><tr><td><font style='font-weight:bold'>cx19_13</font></td><td>cx</td><td>0.02739</td></tr><tr><td><font style='font-weight:bold'>cx19_14</font></td><td>cx</td><td>0.02085</td></tr></table>"
      }
     },
     "33dcf8bdab3e46c696a96328395098c0": {
      "model_module": "@jupyter-widgets/base",
      "model_module_version": "1.2.0",
      "model_name": "LayoutModel",
      "state": {
       "margin": "0px 0px 0px 0px"
      }
     },
     "341ce13b5605487e8d54b5ba0c4dcfaf": {
      "model_module": "@jupyter-widgets/output",
      "model_module_version": "1.0.0",
      "model_name": "OutputModel",
      "state": {
       "layout": "IPY_MODEL_c7690fd3638b4aceb0539e0df9e029ec",
       "outputs": [
        {
         "data": {
          "image/png": "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\n",
          "text/plain": "<Figure size 792x648 with 5 Axes>"
         },
         "metadata": {},
         "output_type": "display_data"
        }
       ]
      }
     },
     "348e765435284560a5437dd4dc0e785c": {
      "model_module": "@jupyter-widgets/controls",
      "model_module_version": "1.5.0",
      "model_name": "DescriptionStyleModel",
      "state": {
       "description_width": ""
      }
     },
     "34ba1eff661c44bdb40d42813ea4429a": {
      "model_module": "@jupyter-widgets/controls",
      "model_module_version": "1.5.0",
      "model_name": "TabModel",
      "state": {
       "_titles": {
        "0": "Configuration",
        "1": "Qubit Properties",
        "2": "Multi-Qubit Gates",
        "3": "Error Map",
        "4": "Job History"
       },
       "children": [
        "IPY_MODEL_77b2b089304f4421b8751c7dd8ad9deb",
        "IPY_MODEL_264e1f2491674d65994448b2b6fb362b",
        "IPY_MODEL_8a21a0c59f5d4fa2b7913f2468e4a1c2",
        "IPY_MODEL_1e251312b2e74b34b7feb2b3374ab18f",
        "IPY_MODEL_3653fd9e5e014d73a945a78ec167d3de"
       ],
       "layout": "IPY_MODEL_edbde40ea61f4a14bf214782aedd6a4c"
      }
     },
     "363aba27febf4775a7ef65f11412f180": {
      "model_module": "@jupyter-widgets/controls",
      "model_module_version": "1.5.0",
      "model_name": "HTMLModel",
      "state": {
       "layout": "IPY_MODEL_7e695465fbd34420866d0732123e8e28",
       "style": "IPY_MODEL_d070a7c5d85b414c8e2452f488435133",
       "value": "<table><style>\ntable {\n    border-collapse: collapse;\n    width: auto;\n}\n\nth, td {\n    text-align: left;\n    padding: 8px;\n}\n\ntr:nth-child(even) {background-color: #f6f6f6;};\n</style><tr><th></th><th>Type</th><th>Gate error</th></tr><tr><td><font style='font-weight:bold'>cx12_16</font></td><td>cx</td><td>0.02889</td></tr><tr><td><font style='font-weight:bold'>cx13_8</font></td><td>cx</td><td>0.03028</td></tr><tr><td><font style='font-weight:bold'>cx13_12</font></td><td>cx</td><td>0.03068</td></tr><tr><td><font style='font-weight:bold'>cx13_14</font></td><td>cx</td><td>0.03319</td></tr><tr><td><font style='font-weight:bold'>cx13_18</font></td><td>cx</td><td>0.02619</td></tr><tr><td><font style='font-weight:bold'>cx13_19</font></td><td>cx</td><td>0.02739</td></tr><tr><td><font style='font-weight:bold'>cx14_13</font></td><td>cx</td><td>0.03319</td></tr><tr><td><font style='font-weight:bold'>cx14_18</font></td><td>cx</td><td>0.01779</td></tr><tr><td><font style='font-weight:bold'>cx14_19</font></td><td>cx</td><td>0.02085</td></tr><tr><td><font style='font-weight:bold'>cx15_10</font></td><td>cx</td><td>0.02773</td></tr><tr><td><font style='font-weight:bold'>cx15_16</font></td><td>cx</td><td>0.03497</td></tr><tr><td><font style='font-weight:bold'>cx16_11</font></td><td>cx</td><td>0.0178</td></tr><tr><td><font style='font-weight:bold'>cx16_12</font></td><td>cx</td><td>0.02889</td></tr><tr><td><font style='font-weight:bold'>cx16_15</font></td><td>cx</td><td>0.03497</td></tr><tr><td><font style='font-weight:bold'>cx16_17</font></td><td>cx</td><td>0.02143</td></tr><tr><td><font style='font-weight:bold'>cx17_11</font></td><td>cx</td><td>0.01799</td></tr><tr><td><font style='font-weight:bold'>cx17_16</font></td><td>cx</td><td>0.02143</td></tr><tr><td><font style='font-weight:bold'>cx17_18</font></td><td>cx</td><td>0.0228</td></tr><tr><td><font style='font-weight:bold'>cx18_13</font></td><td>cx</td><td>0.02619</td></tr><tr><td><font style='font-weight:bold'>cx18_14</font></td><td>cx</td><td>0.01779</td></tr><tr><td><font style='font-weight:bold'>cx18_17</font></td><td>cx</td><td>0.0228</td></tr><tr><td><font style='font-weight:bold'>cx19_13</font></td><td>cx</td><td>0.02739</td></tr><tr><td><font style='font-weight:bold'>cx19_14</font></td><td>cx</td><td>0.02085</td></tr></table>"
      }
     },
     "3653fd9e5e014d73a945a78ec167d3de": {
      "model_module": "@jupyter-widgets/controls",
      "model_module_version": "1.5.0",
      "model_name": "TabModel",
      "state": {
       "layout": "IPY_MODEL_e053940d79594d88a8c8f1abe983edff"
      }
     },
     "3714bfa289234ea0884758f0b9f5a7d3": {
      "model_module": "@jupyter-widgets/controls",
      "model_module_version": "1.5.0",
      "model_name": "DescriptionStyleModel",
      "state": {
       "description_width": ""
      }
     },
     "374adb6c8df64405aeed1084caf7e802": {
      "model_module": "@jupyter-widgets/base",
      "model_module_version": "1.2.0",
      "model_name": "LayoutModel",
      "state": {
       "width": "70px"
      }
     },
     "376e93bfc29b45bea9d1754fff09fb62": {
      "model_module": "@jupyter-widgets/base",
      "model_module_version": "1.2.0",
      "model_name": "LayoutModel",
      "state": {
       "grid_template_areas": "\n                                       \". . . . right \"\n                                        ",
       "grid_template_columns": "20% 20% 20% 20% 20%",
       "width": "100%"
      }
     },
     "383e17407f044f07adef354c79e83f3e": {
      "model_module": "@jupyter-widgets/controls",
      "model_module_version": "1.5.0",
      "model_name": "DescriptionStyleModel",
      "state": {
       "description_width": ""
      }
     },
     "39931d6bf98c483bb07a77facd7435ec": {
      "model_module": "@jupyter-widgets/controls",
      "model_module_version": "1.5.0",
      "model_name": "DescriptionStyleModel",
      "state": {
       "description_width": ""
      }
     },
     "3ace54d407c341b8abeea9a4915fb66b": {
      "model_module": "@jupyter-widgets/controls",
      "model_module_version": "1.5.0",
      "model_name": "HTMLModel",
      "state": {
       "layout": "IPY_MODEL_8ec096f389664d06b37d56a74898a494",
       "style": "IPY_MODEL_6f2599117b5541cba87e66c44b41eaa3",
       "value": "<div><font style='font-weight:bold'>last_update_date</font>: Thu 29 August 2019 at 03:57 UTC</div>"
      }
     },
     "3b23aeb347de464d8f993960d6ce44d1": {
      "model_module": "@jupyter-widgets/base",
      "model_module_version": "1.2.0",
      "model_name": "LayoutModel",
      "state": {
       "align_items": "center",
       "display": "flex-inline"
      }
     },
     "3ba110a6505c43babd4e07bae693a115": {
      "model_module": "@jupyter-widgets/controls",
      "model_module_version": "1.5.0",
      "model_name": "DescriptionStyleModel",
      "state": {
       "description_width": ""
      }
     },
     "3bb2ef8e7763435f8943b254800188e1": {
      "model_module": "@jupyter-widgets/base",
      "model_module_version": "1.2.0",
      "model_name": "LayoutModel",
      "state": {
       "width": "70px"
      }
     },
     "3d994092997144edb0208ea419a08889": {
      "model_module": "@jupyter-widgets/controls",
      "model_module_version": "1.5.0",
      "model_name": "DescriptionStyleModel",
      "state": {
       "description_width": ""
      }
     },
     "3e2e9acba06a4ec1a4a720eea0d3ed51": {
      "model_module": "@jupyter-widgets/base",
      "model_module_version": "1.2.0",
      "model_name": "LayoutModel",
      "state": {
       "grid_area": "top"
      }
     },
     "406e3ea721e345678380cab5cc848b1a": {
      "model_module": "@jupyter-widgets/controls",
      "model_module_version": "1.5.0",
      "model_name": "HTMLModel",
      "state": {
       "layout": "IPY_MODEL_91c7abd064c94742ab9c2b7d659a4c96",
       "style": "IPY_MODEL_3d994092997144edb0208ea419a08889",
       "value": "<div><font style='font-weight:bold'>last_update_date</font>: 2019-08-29 03:57:44+00:00</div>"
      }
     },
     "43255da44eb0464083d76af380934c1b": {
      "model_module": "@jupyter-widgets/controls",
      "model_module_version": "1.5.0",
      "model_name": "DescriptionStyleModel",
      "state": {
       "description_width": ""
      }
     },
     "43cd16a142a645acbd51265efd190a4f": {
      "model_module": "@jupyter-widgets/base",
      "model_module_version": "1.2.0",
      "model_name": "LayoutModel",
      "state": {
       "width": "145px"
      }
     },
     "441a99685d384dd09bff4c6ff3b71a08": {
      "model_module": "@jupyter-widgets/base",
      "model_module_version": "1.2.0",
      "model_name": "LayoutModel",
      "state": {
       "grid_gap": "0px 0px",
       "grid_template_areas": "\n                               \"left right right right\"\n                               \"bottom bottom bottom bottom\"\n                               ",
       "grid_template_columns": "31% 23% 23% 23%",
       "grid_template_rows": "auto auto"
      }
     },
     "443bfec842f94f0e801a1bd5c82646bf": {
      "model_module": "@jupyter-widgets/controls",
      "model_module_version": "1.5.0",
      "model_name": "ButtonModel",
      "state": {
       "button_style": "primary",
       "description": "Clear",
       "layout": "IPY_MODEL_5f1d1179cc154792ae44cb12d4b378b0",
       "style": "IPY_MODEL_4671014b8b814fa4b5ff00f294549143"
      }
     },
     "44687acf190b4b64886961602844cdfd": {
      "model_module": "@jupyter-widgets/base",
      "model_module_version": "1.2.0",
      "model_name": "LayoutModel",
      "state": {
       "max_height": "620px"
      }
     },
     "449076a4c5f242d88cd43fdcc807d734": {
      "model_module": "@jupyter-widgets/controls",
      "model_module_version": "1.5.0",
      "model_name": "DescriptionStyleModel",
      "state": {
       "description_width": ""
      }
     },
     "4671014b8b814fa4b5ff00f294549143": {
      "model_module": "@jupyter-widgets/controls",
      "model_module_version": "1.5.0",
      "model_name": "ButtonStyleModel",
      "state": {}
     },
     "46d04b7c4f3d414896716ac56c2b8004": {
      "model_module": "@jupyter-widgets/output",
      "model_module_version": "1.0.0",
      "model_name": "OutputModel",
      "state": {
       "layout": "IPY_MODEL_3b23aeb347de464d8f993960d6ce44d1",
       "outputs": [
        {
         "data": {
          "image/png": "iVBORw0KGgoAAAANSUhEUgAAApsAAAHbCAYAAACEIlGVAAAAOXRFWHRTb2Z0d2FyZQBNYXRwbG90bGliIHZlcnNpb24zLjQuMiwgaHR0cHM6Ly9tYXRwbG90bGliLm9yZy8rg+JYAAAACXBIWXMAAAsTAAALEwEAmpwYAACS8ElEQVR4nOzdd5hTVf7H8fd3GjMMXaQjXYoKKOi6CIIOWBDLCrqy9obrAiIq6iq6qKg/RUREVsUCLioWsLCASlEQdC3gyqwiWCiiFOllmJ7z++MkGIZkJsnkJrmZ7+t58jBJ7j3nJCQ3n3vuueeKMQallFJKKaWckBLvBiillFJKqeSlYVMppZRSSjlGw6ZSSimllHKMhk2llFJKKeUYDZtKKaWUUsoxGjaVUkoppZRjNGwqpZRSSinHaNhUSimllFKO0bCplFJKKaUco2FTKaWUUko5RsOmUkoppZRyjIZNpZRSSinlGA2bSimllFLKMRo2lVJKKaWUYzRsKqWUUkopx2jYVEoppZRSjtGwqZRSSimlHKNhUymllFJKOUbDplJKKaWUcoyGTaWUUkop5RgNm0oppZRSyjEaNpVSSimllGM0bCqllFJKKcdo2FRKKaWUUo7RsKmUUkoppRyjYVMppZRSSjlGw6ZSSimllHKMhk2llFJKKeUYDZtKKaWUUsoxGjaVUkoppZRjEipsiogRkbbxbkcsicgMEbkggvWqichqETnSgWYppZRSSUvzRljrVTpvVBg2RWS9iOSLyH4R2SIi00SkRqQVxoKILBaR68p5vqX3g7a/zO3PMW5nZ6AL8K73fhcR+VZEtovILX7LpYvI5yLS3PeYMaYQeBG4M5ZtVkoppZygecPRdsY1b4Tas3muMaYG0BU4Hvh7pBUmmDrGmBp+t9cDLSQiqWXup4VTSTnL3wC8Yowx3vsPA7dhPxB3i0gj7+O3ALOMMRvLrP8qcKWIVAunPUoppVSC0rxx6P2kyBthHUY3xmwBPsB+CAAQkZNF5FMR2S0iK0Wkj99zV4vIdyKyT0TWisgN/uWJyCgR2Swim0TkmjLP1RaRf4nINhHZICKjRSTF+9wYEXnZb1nfnkOaiDwI9AKe8u49PBXOa/SWN01EnhaReSKSB5zm3eO6Q0RygTxvXed59wx2e/duOvqVcdjyAao6G1jid78V8KEx5lfgB+AoEWkBDAQmlF3ZGPMLsAs4OdzXqJRSSiUqzRvJlTfCCpsi0szb4B+995sCc4GxQD1sSp4lvx/X/w0YANQCrgYmiMgJ3nXP8i7fD2gH9C1T3SSgNtAa6A1c4S2jXMaYu4GlwDDv3sOwcF6jn78ADwI1gWXexwYD5wB1vO2aAdwMHAnMA/4tIhl+ZRxc3hhT4l+4iGRj/7PX+D38DXCG931uCfwETARGGWOKg7TzO+yeiVJKKZUUNG8kV94INWy+IyL7gI3Y/9B/eB+/DJhnjJlnjPEYYxYAy4H+AMaYucaYn4y1BJiP3QsAuBiYaoz5xhiTB4zxVebtRr4E+LsxZp8xZj0wHrg8khdZju3evQTfraPfc+8aYz7xvq4C72NPGmM2GmPygT8Dc40xC7z/MY8BWUAPvzL8ly+rjvfffX6P3QbcCMwGRgKneJ9fJyLvisgSEbmoTDn7/MpSSiml3EzzhpVUeSPUsQAXGGMWikhv7HH7+sBuoAVwkYic67dsOvARgIicjf2gHI0NttWB/3mXawKs8Ftvg9/f9b3lbCjzfNMQ2xuq+mX3APyUHa9Q9rEm+LXPGOMRkY0c2sZAZfjs9v5bEyjwlrEB7xdHRKoD/wHOwO51vY7dq/tGRBYZY3b6rb8bpZRSyv00bxz+mOvzRrhjNpcA07CpGuyLm26MqeN3yzbG/J/YQaSzvMs2NMbUwXb9infdzUBzv+KP8vt7O1CM/XD5P/+r9+887AfJpxGHMlReoDL8H9uEX/tERLCv59cgyx9akN27+gn7xQjkXuA5Y8xW4DhguTFmD/AL4D9dQ0dgZfCXoZRSSrmL5o3kyhuRzLP5BNBPRLoALwPnisiZIpIqIpki0sc7BiADqAZsA0q8ex1n+JXzBnCViHTypmpfVznGmFLv8w+KSE3voNVbvPUBfA2cKiJHiUhtDj9bbSt2jIOT3gDOEZEcEUkHbgUKgU/DKGMednzIIUSkE9AHeNr70DrgdBFpiB1v8rN3uabYsSufRfgalFJKqUT1BJo3fO13dd4IO2waY7YB/wLu9Z4afz5wF/Y/eSMwCkgxxuwDbsK+SbuwA2Bn+5XzHvaD9CF2APCHZaoajt2jWIsdMPsqdp4nvGM1XgdysV3jc8qsOxEYJCK7ROTJcl7Objl03qtbylm27PuwBjuGZBJ2z+hc7JQNRaGWAUwBLvXupfibDIzwfgnAfrhvAr4FHvKepQf2PX3JOweWUkoplTQ0bxxsv+vzhvw+5ZKKBxF5FXjDGPNOmOtVw3Znn2qM+c2JtimllFIqOcQzb2jYVEoppZRSjkmoa6MrpZRSSqnkomFTKaWUUko5RsOmUkoppZRyjIZNpZRSSinlmFCvIFQZUT8DafDgwQDMmDEj2kXHU9npCJRSSikVOtef8RyjfBPzvKE9m0oppZRSyjGxmPoo6hXs3Gkv01mvXr1oFx1P2rOplFJKRc71PZsxyjcxzxuuDJtJSsOmUkopFTnNG6HRw+ihmDlzJjNnzox3M5RSSimloiZZ840rw+asWbOYNWtWvJuhlFJKKRU1yZpvXBk2lVJKKaWUO2jYVEoppZRSjtGwqZRSSimlHKNhUymllFJKOcaVUx/l5+cDkJWVFe2i40mnPlJKKaUi5/qpj2KUb3SezSpMw6ZSSikVOc0bodF5NkMxffp0pk+fHu9mKKWUUkpFTbLmG1eGzXnz5jFv3rx4N0MppZRSKmqSNd+4MmwqpZRSSil30LCplFJKKaUck+Z0BWsXLoh6mfm7dpFVt27Uy1VKKaWUqozK5J78XbsqXUZFWvft51jZwWjPplJKKaWUcozjUx+tXbjAkQrikcwdplMfKaWUUpFLiKmPnOyVjIbWffvp1EdKKaWUUip5OD5m0wlvzJ/PEevWc/3118e7KSrOcjoNrA7kACcBpwLNsJ/rQmA1sAT4DPh00apZCbHXGy+zhk5sjH2vTgZ6AHWxPer7gS+BT4HFAyeP+CFujUwQy8e91BnoBfQEugLVgVJgO7AU+BxY2H3UlTvj1cZE8O5Nk9KA3sAfvP+2ATKAImAd9vv3BfDR+U8OL45XOxPBxIvG1gH6YrdVvYCGQCqQD6zEfq4+Ab4e8eboKr2tqsremD8fgIvPOCPOLYkuVx5Gv+Wx8WTVrcuMGTOiXXQ86WH0MOR0GtgaGAlcjQ0B2dgNd1mF2B++fcBjwAuLVs3aG6t2JoJZQyf2Bm4HTgeKgRoE/rzlYY925AKPAu8MnDzCE6t2xtvycS9lAIOBO4CjsO9FoGvGebABPQN4BxjXfdSVX8WomQnh3ZsmNQD+BgzH7txlAekBFi3GhikPMBmYfP6TwzfHqp2JYOJFYzsDo4BB2G1RDQIfVfS9T5uAR4BXRrw5uiBW7UwSCRHSK3MY/ZbHxgPw+G23Rqs5h4nHYXQNm4lDw2YIcjoNTMMGp7uxP3IZYax+ALtBv3zRqlnvOdC8hDJr6MT6wPPY3pTqhPcZ2w+sAf48cPKInxxoXkJZPu6lE4A3gQbYMBCqUuwOzcvALd1HXZnnQPMSxrs3TRLgMuCf2O9fZhirF2DfrxHAi+c/OTwhgoFTJl40Ngu703YtdjsVaGc4mDxsL/rFI94c/YUDzUtWCfGZ0rB5OB2zqVwjp9PARsB/gbuw4SmcoIl3nSOAmTmdBr7oDa5Jydub+QNwFrbXN9yNSw3s4ePcWUMnXh7d1iWO5eNekuXjXvo7sAxoRXhBE2yAqA5cDvywfNxLx0W5iQnj3ZsmZQPvAU9j36dwgibe5bOBicCid2+aVDO6LUwcEy8a2wH4HrgG2+sbTtAE+z4dBSyeeNHY+yZeNFY7I5SrhRU2RaSeiLwtInkiskFE/uJUw5Tyl9NpYFNgBdAeuyGujOrAn4F3kzFwzho68UxgHlAHqFaJonxB6tlZQycOjULTEtE4YDQ2EFTmBz0LaAR8snzcS8dHo2GJxBs0P8aOy6zs9y8b+CPw6bs3TapV2bYlmokXjT0WO068Kfb7EynBfq5uA57SwKliRUSGichyESkUkWllnssRkdUickBEPhKRFqGUGW7P5mTsmJOGwKXA0yJyTJhlVFq19HQyM8PdqVZuldNpYDZ28HwDAo8Li0R1oA/2MHPSmDV04vHALCr3I1dWFvDorKETL4ximXG3fNxLtwB/JXrvlQA1gY+Wj3vpqCiVGXfv3jQpBZgLdCL83sxgMoF2wAfv3jQp3F6/hDXxorGNsSdF1SJ6Q6OqA1dij+ioJFctPZ1q6dH6mYvYJmAs8KL/gyJSH3gLuAeoBywHXg+lwJDDpohkAwOBe4wx+40xy4DZ2MNHMfXwiJuYOnVqrKtV8fMYttco2r2Q1YGLcjoNPCfK5cbFrKETqxH9oOlTHZg6a+jEhg6UHXPLx73UCXiAyvfSBZINvLp83EvJ0hP1N6A70QuaPtWA47An+rmet+dxOnaHI9r/99nA3RMvGts1yuWqBPPwiJt4eMRNcW2DMeYtY8w7wI4yT10IfGuMedMYUwCMAbqISIeKygynZ/NooMQY873fYyuBmPdsqqojp9PAXsAVBD4rOBqqA//K6TSwjkPlx9J92KMOToWcTMD1e3nLx72UCrxB9MOTTxp2vOt1DpUfM+/eNKkl9sxoJ0I53nLvf/emSUc7VH4sXYqdVsypbqlM4M2JF42Ne7eXqrKOweY+AIwxecBPhJADwwmbNYCyU8bswe7FHUJEhniP9y+fMXduGFWE5uU5c5k0aVLUy1UJ6VGc6anzlwUMcbgOR80aOrE2cBPOvlcZQO9ZQye6/SSYs4AWOHuCZDbwsDfYutndhH8iXrgygHsdrsNREy8am4LdVjkVysHuRDYCznewDhVnL8+Zy8tzop+b/PlnNO8t1N+/Gtjc5y9gDiwrnMOS+7HjUPzVws5feAhjzBRgCjgz9dFXq1eTtXUrw4cPj3bRKoHkdBrYHugS6vLpGencMOoK+px1CtWzM/lh1TqefnQaq3MrnKM8C7glp9PAxxatmuXWeSWvJMRpP9qe1pWWfzyGWo3rISkprJr7Gd/N+zzUejKAm7HTubjV7YR41nmLM/9IjaYNyKiZjSktJW/zdjYuWUHB9t2hrJ4BnIMdbuQ67940qQa2ty6k34njL+3Lke2bk1Eji5KCInZv/I3v/v0pe37ZXtGqqcDAd2+aNPz8J4fvqmSz46UvIfzglnX0Kcdw9s1/AuC/cz/n42kVTplTAzsP7Mxw61Lu8NXq1QBcNsC50V3+GS1MIefAssLZs/8eSBORdn6PdQG+DaMMpcJxHWHsEA39+9X86dL+7Nqxm08WfUmnrkfz6PP3UqtOSL8B1bFXIHKrkHs16xzVgKK8Ag7s2h9JPWnAX2YNneh0b5cjlo97qTH2Ci4hObLz0ZQWFrHzu3WUFhZTu3Uzjh7UF0kNadNZE/v/4lYDsfNihqR6vZrs+PFXfv5sFcV5BTTs2IKTrgv5B9ODnSHCrYYRZq9mjXo1Oe26sygtCfkt9jlm4kVjW4a7klJR8C1+HUDec3naEEIODDlseo/NvwXcLyLZInIKtjt/etjNVSo0fQlx/FOderU468LTKS0tZdQ1Y3hw1AQWzVlKdo3qXHDp2aEUkYm9hKPrzBo6MRt7WDgky1+az8cTZ7Hnl22RVlmMe8dq/wE7CXtIVv3r36x+5T02zP8Pa17/AICMmtlkHVEn1CJOdPGJQqcRxryjn0x6mxX/mk/uG4tZ/pJ9r7Lq1EBSQvqZqY69wpVb/ZEwx0qfMew88nbt58fPV4dbVwl2bKhSjhCRNBHJxB51SBWRTBFJA94GjhWRgd7n7wVyjTEVfojDHbP0N+whx9+AGcCNxhjt2VRRl9NpYApQ4RluPi3bHkV6ejq/bd7O7p12aPH339gL37Tt0CqUItKxcwi6UVfsFUdiJQXoFsP6oulEwghQB7b+fulzSbXDL43HQ3FefqhFZABNQm9eQvljuCu06tWZzhf1pvuVZwLw44f/xXhCHpnyh3DrSwQTLxp7BIcfWizX8eecROMOzXn/yXcoLS4Jt8oaaNhUzhqNvdrendgrhuUDo40x27BHPB4EdmG/s5eEUmBYU8kYY3YCF4SzjhNqZWeTXadOvJuhnNWQMC49VveI2gDkH/j9UsIF+fbvuvXrhFRGZlr6GY9ecF9CXO4sHDWrZ1C/diYpofUgRUP2/vyi5yZf8tBzsaowWtq3PYI6tcM/CT0lPY1WZ58CwNblq8IJm4XYCxH8Gnal8Rf2XKFNurahfrtmAOTv2sfOdWFdBr1puPUliPbYH+OQhpYc0fxIevzldD57fQnb12+NpD7B7mCqJFQr28lzzEJjjBmDndYo0HMLCaMjyMeVV08Zc+Nfad23X7yboZyVhR3HFZJdO+wJclnVfw8Smd6/d4V2Mgce47qcCYAIODfbUWAp4s4jwykp4bc7Lasa7Qb2Jbtxfbat/J5flqwItwinpu1yWthT7Hwy6W1S0lJp0PEoTrq2PydeczYL759O/q4Kzx8ASH33pkkp5z853G0n6YX1/9v2Dx1ITUulWacWNO14FPVb2KlrW3c/mpKiEj599aOo16ncY8yNf413ExzhyrCpqoRiwkhQG37aSHFxMQ0a16fuEbXZtWMP7Y9rC8BPa9aHVIZL8xPxyMguzeWYMBueUSuboy/qR2a92mz+LJdfl/43kmqLI1kpAXgI8ZreKempeEo8YAyeklJ++24DJYXFpGdVI7t+rVDDpiGMoxkJJLz/XxEkRWh5QttDHq7dsC6Nj27mTJ1KxZkrw+bzb71Nna/+y+233x7vpijnbCOM+f127djDB28vZsDF/Rj34hjW//Azvc/qwYG8fN555b2QyqiW6s65kks9HgyGULN5yx7HcESbJtRp3gCAJl3aUP2IWmxe+RObctdWuL4xhlKPGzMBFBaGd+Zvh7/0J6NmdQr37CclLY3mp50IwM7v1pG3pcIpfcCObw3rWHIC2YkdzlKhui0a0f3KM9j+4yaK8ws5onUT0rOqUbjvALs3hnwi2p7znxzuxg/WJsL4Lf38zY/5/M2PD97vN/RcOvXpEurURz4bwmuicovn33obgOsu/FOcWxJdrgybq9auJWuXW6djU6FYtGpWQU6ngb8ALUNdZ/LDL1JaUkLvs3rQ9KiT+G7l9zzz6Evs2VX2WgSB1c2K/1iZSBQWlSJhdMse0aYJLU/udPB+nWZHUqfZkRzYsTfEsAkl4U/XkhD25RVxRL0sUkObuoiMmnY2qWq1a9Cw++/v2YHfdoYaNjOB78JvaUJYAfQPZcGCPXns/203DTo0J61aBoX78/n1vz+w5v0vKCkoCrW+lRUvkpDWEmIPcJQcAJbFsD4VQ6vWVrwNdiNXhk1VZfyHMMJmUWERT459nifHPh9JXfs27N5+/YufPvt6JCvH26yhE3cBdUJZdsX0BayYHnIPymFSUqS4Xu2sBgMnj9gdcSFxsnzcS8cBnxLiGenLx71U2Sp/6D7qyrBPN04Qi4Ec7DXMy5W3bTefTHq7MnWVAEsqU0C8jHhztGfiRWO/JcIZGhZM/jcLJv87nFVKsTsCSrlGzE5fVSoC07FXLIiFNOD9GNXlhNeI3Tiu5W4Mml7fcPjl1pxyAHghRnU54S1iN4ayGHDljp7XC8Ru+rECNGwql3G8Z9OJs8azXngx6mWqhPQB9gc75HkRI1QCvLFo1axYhRAnTMRestLpgaf7sNeAdqXuo640y8e99Bh2njgnryMPdmd+msN1OOb8J4f/9O5Nk1YAp8Sguu/Of3L4qhjU45SXgfExqCcfeGLEm6PdOY6liqhM7vHlm2SbcceVPZuNGjWiUaNG8W6Gcpj3OuUP4XyPQTEwzuE6HDVw8ojVwBfY4OykfcAch+tw2jTCmFYrQgXAa91HXbmzwiUT2/04//3L89bjWiPeHL0PmIoNg07yAK6b31aFLlnzjSvD5oQJE5gwYUK8m6Fi4ylgHc6FgwPApEWrZiXDlbCuIoxLMYZLRIqBwQMnj3DrGEQAuo+6crcx5kaPxzg57OAAMNLB8mPi/CeHz8ceYXDqc1WEHas526HyY+lOY4yTYTMPGDnizdERX2dWJb5kzTeuDJuq6li0alYpcBG2pyjaSoEt2Ou7ut7AySPWA6NwoCcqJTWFRh0apJ92wyknRbvsWJt21Tj5dtW2E/MOFKV7nJnC6QBwefdRV+52ovA4uB7nejfzgatdOuXRIb7ZtKX9+p27MjyhX54zHEXAV0BEZz8qFW+uDJv3338/99/v6qMuKgyLVs1aDfyF6B6i8mCv7ZqzaNUsx3oD4+AZ7PixqIWDlNQUajWowdGntAYYtzN3+W3RKjvWpl01ToAngJs2btxLUXEpUQ6cB4D7uo+6cl40C42n858cvhPoR/RP1ssDzjz/yeG/RbncmLv+lGHdgQV5hUU1tuzdT5QDZxGwETh/xJujXR/KVfmSNd+4Mmx+9913fPedW6euU5FYtGrWu8Bg7I95ZbfkBcBvwB8WrZq1vpJlJZSBk0cY4Ebs+LEDlS0vJS2F2o1r0rn/MaT8PjelKwOnf9AE8HgMa9fuorCwJFqB8wDwj+6jrnTtCVTBnP/k8K+APtgz+Ss7/KAEO/a33/lPDv+8kmXFnS9o4p16bOeBA2zZuy+an6mfgJNHvDlaJ5euApI137gybKqqyRs4TwJWE3nP3QHgbaDjolWzknL23IGTR5iBk0cMB67AhoNIem5LgQNNOjT8vEv/Y0hNO2xT4arAWTZo+ng8hrXrdrF/f9En3vF2kSSEfGArcE73UVc+VunGJqjznxy+AugELCXy718edv7cY85/cvh/otW2eCkbNH12Hshnw85dPxtjthD5EZl84FnghBFvjg7pCgJKJSoJ91rB4Vq7cEGlKgh0+v/gwYMBmDFjRmWKTjQuvTJ37OV0GpgGjADuxE44XbOCVUqxgWstMGrRqllunk8zLLOGTqwPPILtFfYAFV0myTc2diEw8rQbTlmLHSd2dZDlR9Xr3D2hA1awoOnnfmDMscc0OAGYAJyI3RGv6HKpvsPKzwJjuo+6MlZzwsbVuzdNEuywlrFAfexnqrztl8GGzF3AP4BpyTBGM1jQ9FoDnHZsk0Z7gHuAodj3qKJp3Iqx26uvgFtGvDna9T2/Meb6z1U4+WbtwsguztG6b7+Y5w0Nm4lDw2aYcjoNTMVeTu8q4KQUkWZp3kO9xthrhnuMWY29EsqURatm/TdebY23WUMn1sL2dA4EunqMqeP77ov3o5eSIl9gpzV6buDkEVt86+7MXZ6CSwNnqEHzqmmjDm6nlo97qTUwBDgT6IAN6b55Dathe4v/C7wKvNF91JVOT3eTkLyhsydwHXYuzqOMMYfM8+oxhtSUlFewn58lyRAyIbSg+dwnT232PTDxorHVgEHApUA3Y0yDsiuJSK63zGdHvDn6ByfaXQW4/vOlYTNCToTNu+66C4CHHnqoMkUnGg2blbTonmfN/oJCPB5DamoKtatn0nvM9fq+BvDIBWNMSoqNmR5jKCk13DX7vqDvlRsDZyRBs6zl415KAZphe+9KgB1JMHemI969aVLmnn2F+Qhg7OcK4Kppo5LqOxhu0Axk7Ln3GhG70TfGJqTR/74/qd6nOHF92Awn37gpbLry2uhJFjJVlFRLT6Nauis/0jFX6jGUhnECQ73O3T07c5df570bKHCO25m7nEQJnNEImgDdR13pAX6ObuuS0/lPDi+YdtW4JPi5Dy4aQdPHFzKV8pes+UZPEFJKhaRe5+4e7CHTqUEWSYiThqIVNJXyF82gqVRV48qweddddx3salZKxU6iB04NmsoJGjRVrCRrvnFl2Fy3bh3r1q2LdzOUqpISNXBq0FRO0KCpYilZ840rw6ZSKr4SLXBq0FRO0KCpVHSEFTZFZJiILBeRQhGZ5lCblFIukCiBU4OmcoIGTVVVBct6IpIhIjNFZL2IGBHpE2qZ4fZsbsJO5PtimOsppZJQvAOnBk3lBA2aqoorL+stAy4DtgR4Lqiw5okxxrwFICLdsXPPxUXHjh3jVbVSqox4TYukQVM5QYOmiqdEyDfBsp4xpgi7zUVESgOuHIQrJyW89957490EpZSfWAdODZrKCRo0Vbwla75x5AQhERniPd6/fMbcuU5UoZRKMLE6pK5BUzlBg6aqKvwzmvc2xOk6HenZNMZMAaZA5S9XGcjIkSMBmDBhQrSLVkpVgtM9nBo0lRM0aKpEEYt845/RYsWVUx9t2bKFLVvCGpuqlIoRp3o4NWgqJ2jQVIkkWfNNuFMfpYlIJpAKpIpIpoi4ctynUso50Q6cGjSVEzRoKnW48rKeiFTzPgeQ4X1OKioz3J7N0UA+cCf21Pd872NKKXWIaAVODZrKCRo0lQqqvKy3xnu/KfCB9+8WFRUYVtg0xowxxkiZ25hwylBKVR2VDZwaNJUTNGgqFVx5Wc8Y0zLAc+srKtOVh8CPP/74eDdBKRWiSE8a0qCpnKBBUyWyZM03rgybt99+e7yboJQKQ7iBU4OmcoIGTZXokjXfuPJsdKWU+4R6SF2DpnKCBk2l4seVYfPGG2/kxhtvjHczlFJhqihwejyecS27NPkRDZoqiq4/ZdhfgIVo0FQJLlnzjSvD5u7du9m9e3e8m6GUikCwwOnxeNi0Zhudc9q3btOteaBVNWiqsF1/yrDLgZeB2gGe1qCpEkqy5htXhk2llLuVDZy+oNmsY0MAjundljKBU4OmCps3aL4EBJoHUIOmUjGiYVMpFRe+wOnxeKb6B00fv8CpQVOFrYKg+QMaNJWKGcfPRm/dt5/TVSilXGr24x8ZEfZ36dch4PPH9G5Lp1Pb7Duiy4kaNFXIvCcD/ZPAQbMIuEiDpnI7N+UrV0591KNHj3g3QSlVSb6zzo1h+NfzVwNw1LGND1tORALOw6lUIH5nndcI8HQRcNJznzy1MratUio0yZpvXBk2hw8fHu8mKKUqIdD0RuUFToJM/K6UvwqmN9KgqRJesuYbHbOplIqp8ubR/Hr+an5bv2NrkFVDupa6qpoqCJo/o0FTqbhxZdi8+uqrufrqQBchUUolslAmbC8pKm1ChNdSV1VTBUHze+BkDZrKDZI137gybBYUFFBQUBDvZiilwhDqlYGOHdQ/pCsNRb+Fyo1CCJp99GQg5RbJmm8cH7O5duGCqJeZv2tX1Mt201ldSrlNuJegDPda6qpq0qCpkp0TGSoeeceVPZtKKfeI9FrnoV5LPVrtVO6iQVMp99CwqZRyTKRB00cDpwpEg6ZS7uLKqY9O7nxcvJuglKpAZYOmjx5SV/40aKpkdvrpp8e7CY5wZdi8+Iwz4t0EpVQ5ohU0fTRwKtCgqZLf9ddfH+8mOEIPoyuloiraQdNHD6lXbRo0lXIvV4bNWx4bzy2PjY93M5RSZTgVNH00cFZNGjRVVTF48GAGDx4c72ZEnSvDplIq8TgdNH00cFYtGjSVcj8Nm0qpSotV0PTRwFk1aNBUKjmEHDZFpJqIvCAiG0Rkn4h8LSJnO9k4pVTii3XQ9NHAmdw0aCoVHyIyTESWi0ihiEzze/xkEVkgIjtFZJuIvCkijUMpM5yezTRgI9AbqA2MBt4QkZZhlKGUSiLxCpo+GjiTkwZNpeJqEzAWeLHM43WBKUBLoAWwj+Db3kOEPPWRMSYPGOP30BwRWQd0A9aHWk409O7eLZbVKaUCiHfQ9NFpkZKLBk1VlfXv3z/eTcAY8xaAiHQHmvk9/p7/ciLyFLAklDIjHrMpIg2Bo4FvAzw3xNsFu3zG3LmRVhHU+X36cH6fPlEvVykVmkQJmj7aw5kcNGiqqu7yyy/n8ssvd7QO/4zmvQ2JsKhTCZABA4loUncRSQdeAV4yxqwu+7wxZgq2q5W1CxdE/cemoLAIgMxqGdEuWilVgUQLmj7aw+luGjSVgvz8fACysrIcq8M/o0VKRDoD9wLnh7J82D2bIpICTAeKgGHhrh8Nd02axF2TJsWjaqWqtEQNmj7aw+lOGjSVsq655hquueaaeDejXCLSFngPGGGMWRrKOmGFTRER4AWgITDQGFMcdiuVUq6U6EHTRwOnu2jQVMo9RKQFsBB4wBgzPdT1wj2M/jTQEehrjMkPc12lHOUxhuLiUjzGkJKSQkaaTiMbTImnlOLSEgDSUlJJTy1/U+CWoOkTzUPq/TsPrgNkA6XArnm5Mwqj19LkcUKrnJTr/ng6pcZDqqSQlZ6O7Z8IrqoGTWMO/ZpU9D4pFUsikobNh6lAqohkAiXYjsYPgaeMMc+EU2bIYdObZm8ACoEtfl+OG4wxr4RTqVLRcGvOKMEOUL4cOEXEbrQFMAZE4J2cUZ8Di4AXxy8a92M82xtPXVr2yQQGAQOBEwUhxfsd9hhDRmoar7fs8wEwB5i+cv3i3b513RY0fSINnP07D27oXf5soDM2aBYDAqT37zz4F+Az4HVgzrzcGSVOvYZEd0KrnC7Y96oP0GHqZ4sRsd8/MNSpns2Trd6fBEz9at2ir/zXrUpBc0z/0alAf+AS4OTDlzCM6T/6Y+ADYOqYeWM3xbSBSh1qNPAPv/uXAfcBBmgNjBGRMb4njTE1KipQyu5hRZsTJwj5rov++G23Rq3M1n37Ra2sCOmubYhuzRmVgv2Buxeohw0D5b1/xdi9sq+AO8YvGveJ441MEF1a9qmFfZ98ZxvWrGCVA9jhNW8Cfx/Z55xNuDBo+tuZuzwFeJ7AgRNgVL3O3R/r33lwB+AR4AzsRrWiEfr7sJ+tx4HHqlKP5wmtcgYADwFtgGrYHpBgSrGdFBuAu79at+jtqhI0x/QfnQHcDIzCvk8Vff8KsNuyD4Hbx8wb+42jDUw+CbsdCpXvuugzZswAYO3CBVGvo3XffjHPG64Mmx98+ikAZ/boEbUyNWy6w605o1oBrwHHYENmuPKBl4Bbxy8adyCabUs0XVr26Qe8CtQAMsNcvQQoOPGoNv85pVX7fkEO8yV80PQpL3B6PB4mT5477/PPvz8NGwjCHX9xANgKXDwvd8bySjc2gZ3QKucI4DngTKB6BEUcSJXUr45p0Pq49NS02gGeT6ag2RW709aE8N8rgw2e/wc8NGbe2Crbex6mhN8WVWTmzJkADBo0CNCwGTInwqYTNGwmvltzRuUA72KDU3k9KRXJx4aDnuMXjfs1Gm1LJF1a9hFsELyFyALBQWkpqbSsdyT9Ox1PasohGcw1QdMnUOAsKCjikUdm8fPP2ygsrNT5jr5wcNO83BnPV66liemEVjmdsBM418SG8oilSgpH129B9fRD9oGSKWheDjyD7R2vzLY9D/gOyBkzb+zeaLQtyblmexSqZAmbrjyDYs++/ezZtz/ezVAxdGvOqL7AbGxvZmWCJtgfgGbAl7fmjArpuq4u83/ASCoZNMGeSLR+52/8+5sVeH7fMXVd0ITDz1IvLCxm7NjXWb9+a2WDJthAkQVM7N958A2VLSzRnNAqpyPwKXAElQyaAKXGw5rtGzhQXOB7KJmC5pXAs9jvX2V/1LOB44BPxvQfXdEheJUEdu7cyc6dO+PdjKhzZdi879lnue/ZZ+PdDBUjt+aMagO8QxTCk580oD6w8NacUelRLDeuurTscwUwlMiGGARU4vGwcfd2lv70Hbg0aPr4B85//nMuv/66g+Li0mhWUR14vH/nwadFs9B4OqFVTi1gMVCLKB6B8RgP32//meLSkh9JnqDZA/gnFY/3DUc1oC3w5pj+o/UIWJIbOnQoQ4cOjXczoi6iKwgpFSvek4FeI/wxh6FIB1oAf8eGKFfr0rJPU2AyUQyaPiUeD1//ur7kv7+sn/v1+o9cGTR96nXu7hnQ9S9zU1JSLi8pKXViG1gdmNG/8+C283JnJMMhmKeIctD08ZhS881vP65evnZhMgTNLOwMBdHcKfbJBHoCg7HjsJVyFVf2bKoq5Trs3K6VPXQeTDZw5605o452qPxYeoEoHOIMxmNMqsG83qVlH6f+L2Kif+fBNT0e87xDQdOnNvbMdlc7oVVOb+x0WU7s7GFAPMacfkKrnDOdKD/GHsAOM3BKNvDMmP6j6zpYh1KOcLxn04kTb7JeeNGxslXi8M6jeS8O9NSVkQ7cip1H1pW6tOzTBuiNfS1OEeyP6ZnAPAfrcdplOPs+gQ1nV/fvPPjv83JnuPnEjnuJ7iHhQKp76/nA4XocM6b/6GzgRpx/r1KxJ7g97nA9KkEkS87Rw+gqkZ2O7SEKyY3j/0rbrm0OeWzzui08dt34ilZNAy6/NWfUreMXjXPrYc/hhNn7e/qZPbn2b5fRtn0riouK+XHNOoZf+3f27S33LagJ3I5Lw2b/zoMF2/4Kd2CO696RR168N+Bzj49+moWzP66oCA9wBfYwtOuc0CqnBdCDEA+fH92xDSPuvJ6Ox7WnWmYGm3/Zyuv/eoc3X54dUnUntMpp99W6RT9Ups1xdAn2/zskRzY/kr7XnEnzDs1JTU9j3cqfeO/Zeez5bXdFq1YHbhvTf/QTY+aNDbk+peLNlWHz0ksvjXcTVGxcSQS9mh/PWnrw7707Q+5UKsH22M0Kt74EEVZv3Vnnnc4jT95LYWERH81fxoG8fI7t0oGsrMyKwiZAjy4t+9RauX6xG3vsOgJHhrLg9q07eefl9w7ez6pejTMvPB2ATRu3hlJENnA9Lg2b2MPnIXt8yv00adaIb1auZsPajZx9fg5/f2AE6378meWffV3R6inAn4GxEbY13oZg57OtUGZ2Jpc/eDW16tdizeerKS0ppdMpx1Cv8RE8PfSpwy5lGUBNoCv2IhUqySRrvnFl2BwwYEC8m6BiI+ReFX/v/jOknpSysoE/4MKw2aVlnwaE+EPnc/MddsTA3668PZQgUNYB4HjsnItu050Q5+LbvHErUx7918H75w62wwp/WLWWVf9dE2p9Hfp3Hpw6L3dGVE95j5E+hDhWMy0tlYaNbYa/7/Zx/PT9elq1OYpOndvTpFnDUIrI8NbnurDpPUP82FCXb97pKGrVr8WuLbuYcd/LAPx10lAatWlMhx4d+e6TVRUVkYL9HGvYTELJmm9cGTY3bbKXjW3SpEmcW6KccmvOqGrAUZGs+8A79yEi/PL9L8x9fh4b1/wSymop+cVFo87tcumoSOqMpyOrH8H2AzsxIc5n3KJVMxo3bUh+fgFX3XAJk154mO3bdvLyC2/y+vR3Klw/RaT2SUe1Wzz5kocq2fLYO6pOPX7eHdkcduf9xYbNd/16OyuSKikZf2zZuuTJix+MqM54ykrPIL+4KKRlS0pKmTH1bS67bhD/eHQUG9ZupMOx7Viz6kc+/GBZSGUIktO/82DXzXSQkZrGcQ2bl73oQVAlRfZiQNVrZVG3UV1Ki0upeYSdQrNRq8ahhM3q2DPTp0TcaJWwkjXfuPJs9FtvvZVbb43eddFVQjoSe93pkBXmF/Ltf1bx9eKV7Nq6i3YntGPI/11PzbqhzYWcFuKPRaIpNeF1mtWpa4fBZmVl0uyoJsyf+xENGtXnrgdu5rQzela4vscY9hXkR9TWeDsQYngq66TeJ9C0RWN2/LaLj9//T8jriUBBiTuvNFhYEt5E94sXLOPXjZs5tksHzvlTP0pLSlk8/xMO5IX2WTGYUA4hJ5yM1LSQd/QANvxvPT9/u4Fq1TMZ8eKt3DL9drLr2AMTNeqGfICidfgtVW6QrPnG8Z7Nyl5qKVnOxFJhSyfMS4+9OHrqwb9T01K586XbqdeoHm27tuG/H31d4fpBrv+d8IwxYf3Y7dq5++Dfd498kG9z11BQUMglV/yJPn178NH8inuiSow7z03wRBhmLrjsbADmvbGAkpLwwn2kdcZbOMGvdp1aTJr6MFnVs7jmohH89P16Jv/rEW64+Up27tgd6klCrhTudsPj8TDtzhc4ptdxHHnUkezZtocWx7ak82ldyNuTF2oxSXMhChWeaFy+Mh65ypWH0VWVUEgYPe/p1dLJqpHF3h2Hn7MS6o+mG3tVwP7YCRJy4Nz061b27d1PzVqH96KE2guVnuLOqTZTI9ihaNmuOV3/cCyFBUXMfXNhTOpMBCIS8neiSfNGZFXPoriomG9z11BcVMy6H3/m2C4daNU29NEwbtzhMxHseIkI/1u8EoDqtapz+hV9AVj79U+hFlFQ8SJKJQ4NmypRbSWMsFmjTg3unHY7P3z9I7u27qJlpxbUa1SPvTv38cNXoc2mUlTqxnM4IC0lvK9xSXEJr0ydyV9HXMXYx+8i96tvOeu8HEpKSpn3bsVhKi0lhTpZTk996oyamZlsywtvdqvzL7W9movnLWPvrn1hresxhuoZGWGtkyiyM6qxrzC0TLPux5/ZvWsvderW4pmXx/HLz5s561x7xc6vv/wmpDJSxJ3DWApKSsJu++Vjr+LAvgMU7C+gXfd2ZNfO5vsvVrM+d10oqxsgN5K2KhUvGjZVQhq/aFzprTmj1gCdQ1n+wN4DLF+wgrbHt6Vtlzbk5xXwv2Xf8N6L75O390AoRRRnZ1S7/98rX3Hd2bBdWvapCewgjENrU56cTnp6OucNOoszB5zGj2vW8fSEqfzv6+8qXLfE49m7bN13p0/+6OkVlWh2XPTvPPhCYCr28osVqlWnJn36nwJwyDRIofIYs3/JT9/Xmpc7w3Xd5tNa5UzHTqlVoYL8Am665u/87dZr6HBMOzoc246NGzYx69U5zJ+7OKT6PMbz9rzcGRdWoslxM6b/6B1AvVCX37puC8ecehxZNbPYv3Mfy974mMWvfBjq6vuB0AcOK5UAXBk2r7vuung3QcXGR0AnQvicFuYX8ubjMytTVwHwWWUKiJeV6xfv69Kyzybsdd5DUlpaypOPPseTjz4XSZXVgNC6qxLPF9hpdkKyd/c+/nTSlZWp7ys3Bk2vxcCfCHGu22++Xs3fLr890roOACGnrQT0BXBWqAu/9+xc3nt2bqR1pXnrU0koWfONK49b5OTkkJOTE+9mKOc9T5hnpFdCITbcutVk7A+200qBmSvXLy6MQV1RNy93xi/A1zGqbh/wZIzqcsJMYvcbkQK8FqO6nPAU9v87Fr4fM2/sjzGqS8VYsuYbV4bNtWvXsnbt2ng3Qzls/KJx3wCrY1BVAfDk+EXj3Dlo03qR2HyfC3H/dZkfJTbBoBRw7WnYX61btAcbOJ2eu8kDzPlq3aLtDtfjpPeJzUk7+7GfX5WkkjXfuDJs3n333dx9993xboaKjdtxvseuEPinw3U4auX6xTuA53D2vSoGvli5frHbr1zyb+A3wpxaK0x5wJh5uTNi1TPvlLE4f3ShELjP4TocNWbe2FJgNPb/3Uk7ceFVzlTokjXfuDJsqqpj/KJxC4G3cKjXQMCkp6beNX7RuB1OlB9jd+JsgCoCLnew/JiYlzujBLgI53qiSoE1wCSHyo+Zr9Yt+r5J3TrPp6c6NtVVHvDoV+sWuXUMsL/ngJU41xOcD1w8Zt5YVw5hUVVbWGFTRF4Wkc0isldEvheR5BzJqhLNUGAX9kc8qqqlp0nDWjXunDBorKuvyHFS2zOlWlq1h9NT052ak+gAcOPK9YtDuvZnopuXO+O/wP/hTE/UAeDP83JnuHPmez+fPPBCtzvOP+vyxnVrh3w5xjAUAWsB913LM4Ax88Ya4C84c3QhD3hyzLyxnztQtlKHEJFhIrJcRApFZJrf4528j+/y3haKSKdQygx36/Ew0NIYUws4DxgrIt3CLEOpsIxfNG4vcApRDpwZqakckV0doDmw2K2B86S2ZwrwBHBTiqSEPe9mCA4AD65cv3h6tAuOsweAGUQ3cOYBZ83LneH6Ezg+eeCFbsDClJSUOkPPPJ0jamZH85KuRcBG4LSv1i1y+1CDg8bMG7sByMGOrYzWUYY84B3g71EqT6mKbMIOoXkxwOODsNN81ceOSQ/pxL6wthzGmG+NMb4ufOO9tQmnDKUiMX7RuHVAd2ADlew5EDCZ6WkcWTPb/4olrgyc/kHT91hqSqp/4KxMODfYQ3d3rFy/+KFKlJOQvFMSDSE6Z/IXYMfTnT4vd8anlW1bvPmCJlAHoHq1DG4790ya169HempqZXts84D/ASd9tW5RMgxfOcSYeWOXA6cC26n8UI0DwAvAFd6eU6UcZ4x5yxjzDnb+Zv/Hdxtj1ht7aTHB/r60DaXMsHdTReSfInIAe5bwZmBegGWGeLtal8+YG/FcYkENHTqUoUOHRr1cldjGLxq3ATvv5mRsCAo3SBUAe9PTUm+pXyN7a4BL47kqcAYKmj6pKamkp6ZPAJZie1nCtR/4HvjDyvWLn6pMOxPZvNwZZl7ujDuwcyRuJvzQabDhaTbQdl7uDNfPf1g2aPpkZWRw8zn9vs/OrHYv9n0qCrPoYuz39l7gD1+tW7QzCs1NSGPmjf0v0A57Nv8Bwu/lPIA9ie3cMfPGjhgzb6zrh2So0MQi3/hnNO9tSJjr78b+nk4CQuqIkEiuBy0iqcAfgT7AI8aYoIdB1i5cUKm9sXhcMD5O3HdR4Di6NWfUccAo7IkexUANAr+HpdgwUIqd83Dy+EXjtk0YNLYDdtLqhgHW2Qj0GTlzdMLOP1Fe0PS6HxhTWFIIMAC4A+iG/dHLCrJOIfbkhp+x06u8snL94qQ5xFmR/p0HZwPXArdhg1Ymwa/KlAekYudm/b95uTM+jkUbnRYsaHp9D/Q55Z5rN5/QKucoYCRwHXbqohoE77zY531uGjD+q3WLQromY7IY03/0KdiT9/phv1/BxlUXY3/A9wGPAc+PmTc2VnN3Jouk7/1du3BBpcto3bdfSHlDRMYCzYwxVwV4Lhu4EthgjKmwVzGisOlX2TPAKmNM0ImLnQibq1atAqBTp5DGpbqFhs0I3Jozqg5wDnBySWnpsBQRe5zcQKnxkJGa9gD20m4Lxi8ad8hZom4NnKEGzS9+/OCQ716Xln3aYn/wehljBpddSURuBRYnwdRGldK/82DBjhHuBfQ2xpzpe85gMMaQmpJ6PfDevNwZv8arndEWatD0f/CEVjlZ2F7hk4HeGalpf/AYg4hQLTWDOpnZ/LJ32yDgva/WLYrFRQcS1pj+oxsDZwM9vLcjsDss+cB3wBJgGbBUezIj5vqwWVG+SZSw6X0+BdgGdDTG/FZuWZUMm88DecaYEcGWcSJsDh5sfydnzJhRmaITjYbNSrry5L8e9ll76bNnyn1f3RY4Iw2aZXVu0fuw53M3LNHPYAA5nQYe9l4tWjUrqd6rSIJmILecftth79XjHz6WVO+VSmiuD5sV5ZsEC5tp2J74HsaY/5ZXVshjNkWkgYhcIiI1RCRVRM4EBgOLQi1DqUQzcubo1djhIFsDPJ1QYzijFTSV8hetoKmUSg4ikiYimdie91QRyfQ+1k9EjvdmwFrYq8ntwvbMlyucE4QMcCPwi7fwx4CbjTGuvRybUuCOwKlBUzlBg6ZSKoDR2OEddwKXef8ejd1OzAD2AD9hZyM6yxhT4awLIYdNY8w2Y0xvY0wdY0wtY8xxxpjnwn8NSiWeRA6cGjSVEzRoKqUCMcaMMcZImdsYY8ybxpgOxpgaxpgjjTHnGGNyQylTL1eplFciBk4NmsoJGjSVUrHkyrB52223cdttt8W7GSoJJVLg1KCpnKBBU6nElaz5xpVhs1u3bnTrplfJVM5IhMCpQVM5QYOmUoktWfONK8PmihUrWLFiRbyboZJYPAOnBk3lBA2aSiW+ZM03rgybjz32GI899li8m6GSXDwCpwZN5QQNmkq5Q7LmG1eGTaViJZaBU4OmcoIGTaVUvKU5XUEVura5SlIjZ45ePWHQ2D4EvtKQL3BW6kpDGjSVEzRoKpVc3JqptGdTqRA42cOpQVM5QYOmUipRaNhUKkROBE4NmsoJGjSVUonElWHznnvu4Z577ol3M1QVFM3AqUFTOUGDplLulaz5xpVhs1OnTnTq1CnezVBVVDQCpwZN5QQNmkq5W7LmG1eGzWXLlrFs2bJ4N0NVYZUJnBo0lRM0aCrlfsmabxw/G33twgVhr1PR2VaTJ08GoGfPnhG1SaloiOQsdQ2aygkaNJVKDpHkm3BzVjzOaHdlz6ZSiSKcHk4NmsoJGjSVUolOw6ZSlRRK4Hzswvtbo0FTRZkGTaWUG2jYVCoKygucHo+n+bqdW9dkZ2Rq0FRR88kDL1wKLEWDplIqwWnYVCpKAgVOj8fDz7u307Z+47SctseRnZFZdjUNmips3qA5HcgK8LQGTaVUQnH8BCEnPPjgg/FuglIB+Z805PF4Gv68ezst6zUAIDsjk5y2x7Hox/+RV1QAGjRVBPyCpgR4WoOmUi6WrPnGlT2brVu3pnXriK4MqJTjRs4cvbrU4+mzdudWjy9o+vgCZ4PsWtPQoKnC9MkDL5xP8KC5FQ2aSrlasuYbV/ZsLlq0CICcnJw4t0Spw3nPOr+xZrWslKa1jyArPeOQ57MzMjm9beccEWkFrA1YiFJleE8GmkbgoFkMnKlBUyl3S9Z848qezeeff57nn38+3s1Q6jD+0xvtK8xn0Y+55BcXHbaciER0LXVVNVVw1nkxcOIp91y7MqaNUkpFXbLmm4jCpoi0E5ECEXk52g1Syq0CzaNZXuAkzGupq6pJg6ZSKpZEZJiILBeRQhGZFmSZe0XEiEjfUMqMtGdzMvBlhOsqlXTKm7B9X2E+n//8/SvGmIivpa6qphDm0eyqQVMpFWWbgLHAi4GeFJE2wEVAyMN2wg6bInIJsBtYFO66SiWjUK4MtHnfrstFpA8RXEtdVU0hTti+KqaNUkolPWPMW8aYd4AdQRaZDNwBBDxkF0hYYVNEamGna7klnPWUSlbhXIIynEtbqqpNrwyklEpEInIRUGiMmRfOeuH2bD4AvGCM+aWCxgzxHu9fPmPu3DCrqNj48eMZP3581MtVKhyRXOtcA6eqiAZNpaquWOQb/4zmvQ0Jcb2awEPAiHDrDDlsikhXoC8woaJljTFTjDHdjTHdB59zTrhtqlCTJk1o0qRJ1MtVKlSRBE0fDZwqGA2aSlVtscg3/hnNe5sS4qpjgOnGmPXh1hlOz2YfoCXws4hsAW4DBorIV+FWWllz5sxhzpw5sa5WKaByQdNHA6cqS4OmUirB800OcJOIbPHmwObAGyJyR0UrhhM2pwBtgK7e2zPAXODMcFtbWa+88gqvvPJKrKtVKipB00cDp/LRoKmUgsTINyKSJiKZQCqQKiKZIpKGDZvH8nsO3ATcgD1hqFwhh01jzAFjzBbfDdgPFBhjtoX9SpRyoWgGTR8NnEqDplIqwYwG8oE7gcu8f482xuwokwNLgV3GmP0VFRjxFYSMMWOMMZdFur5SbuJE0PTRwFl1adBUSiUab76TMrcxAZZraYxZGEqZrrxcpVKx5GTQ9NHAWfVo0FRKVRUaNpUqRyyCpo8GzqpDg6ZSqipxZdicPHkykydXOB5VqUqJZdD00cCZ/DRoKqWCSdZ848qwWa9ePerVqxfvZqgkFo+g6aOBM3lp0FRKlSdZ840rw+bMmTOZOXNmvJuhklQ8g6aPBs7ko0FTKVWRZM03rgybs2bNYtasWfFuhkpCiRA0fTRwJg8NmkqpUCRrvklzuoLWffs5XYVSUZFIQdNn5MzRqycMGtsHWAw0LPO0L3D2GTlz9NpYtUmFR4OmUspJbshZruzZVCraEjFo+mgPp3tp0FRKKQ2bSiV00PTRwOk+GjSVUsrSsKmqNDcETR8NnO6hQVMppX4nxjj+Gxr1CvLz8wHIysqKdtHxJPFugJv1an9evUY1jthR6inFYBCE9NQ0Nu3bnrV0zeyCQOu4KWj6mzBobAcCj+EE2AgEHcPZq/15ArTIK8pbJ2I/csYYPMZDzWo1U5eume1xqNmuM6jb1WlAp/1FB1aK9+vpMYZSTykLV80M+n2tikFzZ+7yGsDx77782cepaSmUlnjYszOPLb/u4v/e+z/dtvnp3KJ3I+AEoAGQChwAvgO+zd2wpDiebUsCCbWtjkSM8k3Mv5OuDJtJSjfIYerV/rxWwDDgUqCuIBlllzGYYmAt8CTw8tI1s/eCe4OmTziB0xswewC3Af2w3/vqZVcSkULgM2A8MG/pmtmlzrQ+cQ3qdnU14ELgFqALUGCMqQm+DZndkRGR3cBs4PGZK6au9K1flYLmztzlRwLXATcATYG8woLi2iKCMQZjDOkZaaSmpmwEngeerde5e6Be+aTXuUXvY4GbsZ+t6kABNmgK4NvBywS+BR4H3szdsCTgTrIqV0JurxNQ8oXNtQsXVKqCQGdZTZ8+HYDLL7+8MkUnGg2bIerV/rzGwHNADnYoyGEhM4A877JPGGPGFHmKxuHSoOkTSuB8639fNAJeAhoDWYQ2dGYf9sfwxqVrZiffHBwBDOp2tWBD0yPY72LNEFYrAYqwvVJXjLygZxZVIGjuzF1eE5gAXIYNSqF0weRjP3uvAyPqde6+27EGJpDOLXq3B6Zhd1zSCW0GmH3ef+8BJuVuWKJHG0KX0NvsUJSXb9YuXBCVOlr37adhs6xAYXPw4MEAzJgxozJFJxoNmyHo1f68y4CngWrYjXdYjDEHgOJiT3FtE3i75Iqg6RMscJZ6PHy9af2+Dbu2p2N7TCJxABuerlm6ZvaOSjU0gQ3qdnUL4DXgOCA7giI8QPHJ7Zt7/tDhqKwUOeyrnExB83Tse1WTyD5XBdgdv8vqde7+fjTblkg6t+idgj2SMAa7rYrk/Ig8YDVwce6GJTq1WWhcsd0uT3n5xs1hU08QUq7Qq/150qv9eY8AzwI1iCBoAohIdaB2eko6cni+d1XQhMAnDRWXlrJk7So27t4RaSDwqQ6cBXzdq/15R1WqoQlqULerjwP+C3QnsqAJdjtabfmPv2b9+/PvKPUc0hGVTEHzamAOcCSRf64ygSOAWTtzl98YrbYlks4teqcBM4B7Cf1oQiDZQFfgq84tep8QndYpFR8aNpVbjAWGYgNQpYgIIkKZwOm6oOnjHzhLPR6WrvuOvQX5eKJz1CIDewj+017tzwt0uN61BnW7+mjgY+xh70pf4KKk1MPPv+1m7her8R4xSqageSkwmdAOmYeiOvDYztzl10apvITQuUVvAaYDA4h858VfKlAb+Mg77lMpV9KwqRJer/bnnYUdXB+NjfdBfoHzMVwaNH18gfPrTesPRDFo+qRiz5x9w3uykesN6nZ1BjAPqEUUh7CUeDxs2Labz9ds/I3kCZodgClEL2j6VAcm7cxd3jnK5cbTDcC5RGGnuIyawLzOLXon1RQsqurQsKkSWq/259UGXib6G2+f0vSU9I5uDpo+b/3vi/obdm1PiXLQ9EkHugHXOFF4HIzB9thGfRtYUurhP6t/rjnhnWU1ol12rO3MXZ4KvEHlhmOUJxN4c2fu8oiGxSSSzi16twQeI8o7xV6CHX7wsANlK+U4V4bNGTNmJNvJQSq4+3Bm4w2AiKSKSJ9e7c/r61QdseDtcXwJ50IB2P+Hib3anxfKmdoJa1C3q1tie8qd2oEBO/xgioPlx8pVQGuc+60Q7LRJf3Wo/FiajD0ZyCnVgSHeM9xVkkrWfOPKsKmqhl7tz6uOncfPyQAFdiN+h8N1OO1U7KHuWLg0RvU4ZRjOb/tSgZMHdbvatVd02pm7XIC/4+DOnlc2cLu3Plfq3KJ3M+B0ojD2twJpBJ+yTamE5fQXwxHPPfccANdff32cW6Ic9meCTGVx0ZXncc7AvrRs25zU1FRenDSDqU/9vjfY56xTuGbYYJq2aMyO33byzoz3ePX5t4LVI0CvXu3PO2rpmtk/R/1VxMZtBAkF5b1Xbdq3ZPjfr6Vj53ZUz67O5l+2cnFOud+rbOB24Jlov4BY8E7aPoQgPVDnDO7H6ef3olnrpqSmpvDGs+/wxpR3Aeh51smcOeg0mrRsTGZWBlt/2cacV+fz4btLg1WXgg22tzjwUmLhZKBRsCer1W9Atbr1Sc3MQkTI37qJ/K2bAMioXZeshk1ISc8AgdKiIgp3/Ebhjm3BiquDPcnto+i+hJgJemb9ZdcM4oKL+9Pm6Jakpqby9ISpPP3EtEOWqV2nFrPmT6VBw/rs3bOPnp0HBCsuHbiqc4veo3I3LDkQtdarhJGs+SasvXsRWSwiBSKy33tb41TDyvPhhx/y4YcfxqNqFVuDsNMcHab9MW3Yu3sfv23efthzx3Rtz30TRtGwSX0WzV1KaloqN466ivP+fGZ5dZUArjyU7j2EnkOQE13Ke68aNjmSevXr8v2qdeFU2bhX+/OaRNTY+DuBcubia92xJfv35LFj687Dnuty8jEc2bg+K//zDau//oGj2jbjb/deQ7deXYIVl4G9Yoxb9aecowppWdmY0lI8xUWHPZeSkWED5u4dFO/fR1pmFtlNW5CWHXQERnXsiTVuNZAg71XH49qzZ/detmz6LejK9z58K3Xr1Qm1rmLgD+E2ULlDIuQbERkmIstFpFBEpvk93lJEjF8G3C8i94RSZiSHkoYZY2p4bzp2RDmpW7Anxt4+gZuuuJsfVx8eki69fiApKSm8OOk1HrrzCR664wkALhsyqLy6srGXdHSjNvx+ybvDlPdeffrRl1wxYBhvTH0nnPoKKef/JsF1o5w5Wifd+xz/uOER1n9/eAf33Ffn87dzb+PJe6bwwNDxfLt8NWBDaDmaDup2tVvPIO6NHQ4QUN7Gdexbu4bS/MM72Aq2bWX/+h848OvP7F//IyXeZVIygl7sKwU7FMR1OrfonY4d1xrQ3SMf5NpLbmbNqh8DPn/ewDM5/cxePP/U9FCrzMK93z/lDpuw0w2+GOT5On458IFQCnTlYXSV/Hq1P68WUC+Sddt1tNv9Nd/8AMDqb+xGvnGzhtSomc3+fXkB18vOqHbt2HPvdd28f10at+SbLT9TamJzVTuB2qd2bDf7w7ufjUl90dS20RH8uCWyiyGt/37jIffT0u3mc8fWXUHXEUhrWKP2gVtzRkVUZzzd+uCfyKweypVgA0vNyqZa3XqkZFQjLas6pQX5FO/dHXT54qKSbmP6j3bdrBA5bU5gybqVlHhKw163cdOG3DHmJv713Bt8+dnXwY/FHyoDG8wfC7tCpUJgjHkLQES6A82iUWYkPZsPi8h2EflERPpEoxFKBVAXe93p8FesXweAAwcKACjILzj4XL0j6wRdr6Q0/B+LRFBcWkKQS286wgB5hYUxqy+a8ouKo1LOgEvPoH2Xtmz+eSvzZ5U3zFCiPedpzKRXq1xfRGpmJpn1G5JRqw7GGIr37cF4gu8QpaUH7URNaEWlkX2mRIQHH7+LXzduZtJjz4e7ev2IKlUqOjaIyC8iMlVEQvoshhs278AeLmiKndbj3yLSpuxCIjLEe7x/+Yy5c8OsomKZmZlkZjp9grKKs4jPTN21fTcA1avbz0hW9d+PYu7ctjvoeu6MBPHh0vwUlf/ji4ecz1W3DGbLL79x342Pkp9XUPFKLlTZU8OLdu1gZ+5ydq/+H6X5B8g8shGZRwY93wgRieL0+omvUZMGdD+5KyLChGcfYMQdQwC7vZr04sPUO6JOeavrTDJJKhb5xj+jeW9DQlx1O3Ai0AI7lKMm8EooK4a162qM+dzv7ksiMhg7iHxSmeWm4J1jbu3CBVH/WZo6dWq0i1SJZz8RDvP4YfU6GjVtQMfOR/P1l9/S4bh2AGz59begh9ABUlPcuf1OTUnxXnYzNglQgMwMd87BnZEWee+ZiHDtHZdx1kWns3b1Bh666XF279gb0npuVFLiISM1wu9ESgp4ezE9RYWU5B8grXo2qRnBp6EsLfG4co8vLSWyz5Tvc9G+U1vad2p78PH09DR65/QgM6vcwFHxB0+5UizyjX9GC3O9/cBy792tIjIM2CwiNY0x+8pbt7JjNg1Val9UxcrSNbO392p/XgFBpqgZMKgfnbt14uhOtmO9V98/0LhpA5Yu/IwZz7/FKaedyFVDL6FVuxZ072HPFn7luVnl1lmrmjvP46hRQbvLe682rPuFy64fRIMmRwJQu24t7np4BLt37eWfjwbe6GWkpdK4Tq3ovogYaVS7Bj9v2x300HbOBafSoWs7WnVoAcCJfU7gyCb1+WLxV7Tt1IqzLjqd0lIP61Zv4IKrzgFgy8bfeP+NRQHLMxjSIwwj8bZj2z4aN6sb9Plq9eqTVr0GqVl2bvz0WnVISc+gaO9uqjduhqeokNKiQlLSM0ivWRuA4v3BM9KencF3BBNZzWrVKS1neMCFl5zD8d2Po+OxRwNw2hk9adKsER/OX0bnFr0PLtf95K68+PrEiqY+Ajtzxn+i03qlKsW3Ia1wrzTksCkidbDTLSzBftj/jB2kPCL89lXOpEm2I3X48OGxrlrFVi7QK9ATnbt14uwLcw7eb9exNe06tmbzr78x9akZ3HfLY1w97BL6ntOLndt388xjL/HOjPfKq6tg6/49t4/+9/2TylsoEfVqf146kEeQs6zLe6/27cs75Lnq2VmcfWEOm3/ZGjRsFpaU5s38/L/Hj/jXfT9E9YXEwD+7Xd0XmAnUDvR8h67tOO3cngfvt2p/FK3aH8W2Tdup18AGr9TUFHIu+P3E6W+Xrw4aNoHfnvhofMMoNT+mduYufwI7gXjADoW06jWoVu/34VppWdVJy6qOp7iI4n17Sa9Vm7TsmhiPh9L8PAp2bKNo9+FTSvnUa1DzhTHzxl4X5ZcRE7Nb9P4ZaB7oueO7H8f5F5198H6HY9rR4Zh2bPplCx/NXxZJdXnAlxE1VCW8RMg3IpKGzYepQKqIZGJzXzdgN/AD9ryKJ4HFxpg9FZZpQhx8JSJHAvOADkApsBq4xxizoLz1KnsYvXXffoc9NnjwYIBku6ST9hCX0av9ebdjr2Ediy7HA8Afl66ZnRuDuqKuV/vzPgdOilF1u4D6S9fMjs3p71E0qNvVtYCtOH9VKrDTUb0+c8XUv8Sgrqjbmbt8APAqdlyW0/YB19br3P3NGNQVdZ1b9H4euJLYzPBSADTP3bDk8IlzlQsHYhyqvHyzdmG5cStkrfv2KzdviMgY4B9lHr4PWAM8hL1a3V5gAXC7MWZLRXWGPCDHGLPNGHOiMaamMaaOMebkioKmUpU0ldiF8LVuDZpej2F/sJ1WAExyY9AEmLli6l7gbewOs9PygSdiUI9T3sdOIB4LHuDdGNXlhCeJcPaMMHmADzRoKicZY8YYY6TMbYwxZoYxppUxJtsY09gYc0UoQRP0jDaVwJaumb0NmIvzwWA/8IjDdTjtHexhjlhw3wSbhxqPnZjeab/g4sOd9Tp3L8GGqHyHqyoEnqnXuXsswpojcjcsycUeWnRaPjq/pnIhDZsq0Y3C2WDgATYCrzlYh+OWrpldjB0/7dhZFsaYfOCppWtmb3KqjliYuWLqCmA+zvZEHQD+OnPFVLcf1puA3RlzUh7u39kDe310J4N5EbAM+MTBOpRyhCvDZp06dahTp068m6FiYOma2euAO3EuRBUCFy1dMztWvYJOehn4HAcOfXrHdmcUlhS+EO2y46F2teqTpJzLVlZSAfDKzBVTFztUfszU69x9L/AXbHiOuqLCYt57Z8U79Tp3D34ZJpdIT01fLoiTO2KFwJW5G5a4fQdGlSNZ840rw+bTTz/N008/He9mqNiZDCwl+r0GB4BRS9fM/jbK5cbF0jWzDXAp9gSeqI+pLCotSjWY+Se2OSPodaDd4G+n3tytWlr6rNqZ1Z0YD1wErAducaDsuKjXuftC7NCJqO7wFRYWs+Lzn/jw/dxrru0x9LZolh1r3Vr3TQdeT01JPewiJ1GSD/wld8OSrQ6VrxJEsuYbV4ZNVbV4T0b5E/AZ0ethOQA8uHTN7MlRKi8hLF0zewtwCrCDKI3hNMZQVFrkuyRmc2CxWwPn3069uRuwEKiTkZpOrYyoTnRQCPwMnDpzxVSnDz3H2q3ADKIUOAsLi/nmvxt4e8bB6SLHuTVw+oIm8CcRIS0l6iek5wPX525YMifaBSsVK64Mm48++iiPPvpovJuhYmjpmtkFwFnYQ8WV6eEswf5g/m3pmtkPRaNtiWbpmtk/AicAK6lEODDGFBhjPH5B08eVgdM/aPoey0zPoE5mNmJ7giszNjgP+Ag4aeaKqdsq1dAEVK9zdwMMAcZiv38R9ZwbY0xJSWnp4vnf8Nq0pWUve+q6wOkfNH2P+QKnvapXpT5ThdijFBfmblgS0iUBlfsla74JeZ7NSoh6BTrPZtXWq/15vbG9LDUIfQ5AD/ZH8ivg0qVrZm90qHkJo1f781KAYcDD3oeqh7hqIfZ7+3RhSeE0g5kPBJqYfCPQ58uf5q+tdGMdFiho+vk+v7jo3H1F+f8ALsROZBzqeM792M/WDdg5NZN+PN3O3OWdgDew10fOJrRtl8EG8k3FRSUX33XT9BHA1UGWHfXCp5MT/ozrQEHTjwGuKy4t3gO8gP1M1Qix6BLsuOt5wJDcDUuCz4SvynL99y9G+SbmecOVPZuqalu6ZvYS7A/dVdipZQqBw65g4P027fU+/yZw2tI1s0+tCkET7PCDpWtmPwk0A0YDm7DDB/b672QaY3wnAO3Hvo+PA+2Wrpl9yxc/fZAL9MFOhF6WK3o4KwqaQJ+p//nn9zNXTL0U6IK9ZvAB7LylZXuGS7HvUQHwIzASaDJzxdTXqkLQBKjXufsq4DjgfOAD7DjVPZTpxSsuLiH/QCHe5z8EBgIdG3Y/eSVwHXYe3UASvoczlKC5Yu3CF3M3LJkFNAaGYyfELiDAtsprH/Zz9yLQLXfDkkEaNFWy0J7NxKE9mxHq1f68+sAJR1av/UGRpwRjIEWEamkZbN2/84/AyqVrZjs9V2DC69X+PAFaAt2LS4vf8H/OYzxUS6t2DLBm6ZrZh81remKbMzoAi3FZD2coQfOfHz+xuewTg7pdnQ4cg708W1fs5S2LsYF9ObAC+LWqBMzy7MxdXhM4Huj+yZLvxmdkpFFcXMJvW/ewcf12ho8aUKde5+6HBaxrewxNAZ7HZT2coQbNQOt2btG7CdCtenrW7FJjRyIIkJaSzv6i/d2Ab3I3LHHtfKMJwPXfx2Tt2dSwmTg0bFbSkJ7DD/usTVk2Sd/XALq17nvYe7Vi7cJy3yu3Bc5Ig6aK3OV/uOGwz9X0z58N+rlyW+CsTND0l9Np4GHv06JVs3RbVXkaNkOjh9FD0ahRIxo1ahTvZihVpXz50/zVuOSQugZNd3jh08keXHJIPVpBU6nyJGu+cWXYnDBhAhMmTIh3M5SqctwQODVouosbAqcGTRUryZpvoj4hWFlrFy4IednWffs52BKlVDR8+dP81Se2OaMPgQ+p+wJnXA6pa9B0pxc+ney5tsfQ67x3Ax1SH3dtj6HE45C6Bk0VrnByTzzEI2u5smfz/vvv5/777493M5SqshKxh1ODprslYg+nBk0Va/98/XX++frr8W5G1LkybH733Xd899138W6GUlVaIgVODZrJIZECpwZNFQ8/bvyFHzf+Eu9mRJ0rw6ZSKjEkQuDUoJlcEiFwatBUKro0bCqlKiWegVODZnKKZ+DUoKlU9GnYVEpVWjwCpwbN5BaPwKlBUylnuDJstmrVilatWsW7GUopP7EMnBo0q4ZYBk4NmioRNGvYgGYNG8S7GVHnyrD50EMP8dBDD8W7GUqpMmIRODVoVi2xCJwaNFWiuOXyy7nl8svj3Yyoc2XYVEolLicDpwbNqsnJwKlBUynnhR02ReQSEflORPJE5CcR6eVEw8pz1113cdddd8W6WqVUiJwInBo0qzYnAqcGTZVoHp8+ncenT49rG0RkmIgsF5FCEZlW5rnqIvJPEdkuIntE5ONQygwrbIpIP+AR7BUeagKnAjG/Ssi6detYt25drKtVSoUhmoFTg6aC6AZODZoqEf2y9Td+2fpbvJuxCRgLBPr8TwHqAR29/44MpcBwezbvA+43xnxmjPEYY341xvwaZhlKqSoiGoFTg6byF43AqUFTqeCMMW8ZY94Bdvg/LiIdgPOAIcaYbcaYUmPMilDKDDlsikgq0B04UkR+FJFfROQpEckK/SUopaqaygRODZoqkMoETg2aSkXsJGADcJ/3MPr/RGRgKCuG07PZEEgHBgG9gK7A8cDosguKyBDv8f7lM+bODaMKpVQyiiRwatBU5YkkcGrQVOrQjOa9DQlx1WbAscAeoAkwDHhJRDpWtGI4YTPf++8kY8xmY8x24HGgf9kFjTFTjDHdjTHdB59zThhVhKZjx4507Fjha1NKJZBwAqcGTRWKcAKnBk3lBm2bN6Nt82aO1uGf0by3KSGumg8UA2ONMUXGmCXAR8AZFa2YFkbjdonIL9gv5cGHQ10/mu699954VKuUqqQvf5q/+sQ2Z/QBFmOPlvhrDiy+uNtVN9XPrjMVDZoqBC98OtlzbY+h13nvXh1gkXFX/uGvadhDgBo0VUL725//HO8mlCc3wGMh5cBwTxCaCgwXkQYiUhd7FtKcMMtQSlVh5fVw1qqW3XzL/h1vF5QU1QmwqgZNFVB5PZwej4e84vyHj6xeV4OmUiEQkTQRyQRSgVQRyRSRNOBj4Gfg795lTgFOAz6oqMxww+YDwJfYjf53wH+BB8Mso9JGjhzJyJEhnW2vlEpAgQJnrWrZ5BXlk19SyJrt6ykoKfJfRYOmKlegwOnxeNhXdIDamTVoWqsBR1av67+KBk2VcB5+4QUefuGFeDdjNPaQ+Z3AZd6/RxtjioHzscMn9wDPAVcYY1ZXVGBYYdMYU2yM+Zsxpo4xppEx5iZjTEG4r6KytmzZwpYtW2JdrVIqivwDpy9olhoPAEWlJf6BU4OmCol/4PQPmj5+gVODpkpI23btZtuu3XFtgzFmjDFGytzGeJ/71hjzR2NMtjGmkzHm7VDK1MtVKqXi5suf5q9uUbvxTUWlxQeDpk9RaQmrt61n3a5NV2jQVKF64dPJnp92bvzr1rydef5B06dprQa0qN3oEw2aSsWOhk2lVNz87dSbuzWoUffZtvWak5aSetjzxZ4Sth/Y/Wak11JXVU+31n3T9xUdeG1r3o7sHQf2BFymblbtntf2GHprjJumVJWlYVMpFRf+0xtlpVejQ/2WAQMnEV5LXVU9Zac32rh3C8ECJ/CYBk6lYsOVYfP444/n+OOPj3czlFIRCjSPpgZOVRnB5tHUwKncpFPr1nRqnXybOVeGzdtvv53bb7893s1QSkWgvAnbs9KrfV+rWvapVOJa6qrqqWDCdjbu3XI9wSd+18CpEsZ1F/6J6y4M+DF2NVeGTaWUO4VyZaAPvpm5lAivpa6qnoqCJvas8+cp/0pDGjiVclDIVxCKVOu+/aJe5o033gjA008/HfWylVLOCOcSlKFcaejENmf0+fKn+Wsda7BKeCEGzRcgpCsNPXZtj6G88Onk8Q40VVUhlck9yZpvXNmzuXv3bnbv3h3vZiilQhTJtc7DuZa6qnrCCZo+IVxLXXs4VVwla75xZdhUSrlHJEHTRwOnCiSSoOmjgVOp2NOwqZRyTGWCpo8GTuWvMkHTRwOnUrGlYVMp5YhoBE0fDZwKohM0fTRwKhU7rgybPXr0oEePHvFuhlIqiGgGTR8NnFVbNIOmjwZOlWiSNd+4MmwOHz6c4cOHx7sZSqkAnAiaPho4qyYngqaPBk6VSJI13zg+9dHahQucrsKVnJgSSql4czJo+ui0SFWLk0HTR6dFUonE6dwUj/zhyp7Nv098kr9PfDLezVBK+YlF0PTRHs6qIRZB00d7OFUiuPrqq5My37gybBYWF1NYXBzvZiilvGIZNH00cCa3WAZNHw2cKt4KCgqSMt+4MmwqpRJHPIKmjwbO5BSPoOmjgVOp6NOwqZSKWDyDpo8GzuQSz6Dpo4FTqejSsKmUikgiBE0fDZzJIRGCpo8GTqWix5Vh8+TOx3Fy5+Pi3QylqqxECpo+GjjdLZGCpo8GThVrp59+elLmG1eGzYvPOIOLzzgj3s1QqkpKxKDpo4HTnRIxaPpo4FSxdP311ydlvgk5bIrI/jK3UhGZ5GTjlFKJJZGDpo8GTndJ5KDpo4FTVSUiMkxElotIoYhM83v80jI58ICIGBHpVlGZIYdNY0wN3w1oBOQDb0byQirrlsfGc8tjOreuUrHkhqDpo4HTHdwQNH00cKpYGDx4cCLkm03AWOBF/weNMa+UyYJ/A9YCX1VUYKRXEBoI/AYsjXB9paKiS8s+ArQFujfMPoLC0iI8xpAqKVRPz6RLyz7nAF+uXL/4tzg3Ne56th+QDnQBuqenpCEiABgMHmPo2X5AL2DFsjVzDpRd101B06cyVxrq1rpvbaA70A04EagJlAK/Ap8By4FvV6xdWOrYC3CJ14ZMaIZ9j/7QrWVTUkUoNYa8wiJ2HyjgtSETjrpkysify67npqDpU5krDQ3rfXMK0Ano3qhGHdJS0hABj8dQUFLEsN439wO+fGrJE7udewVKVcwY8xaAiHQHmpWz6JXAv4wxpqIyJYRlDl9J5EPgY2PMmIqWXbtwQfgVVMCX+h+/zb07kQEuFyXxaIdbdWnZJxv4C3AH0BgbBGoGWHQPkAl8CjwKzF+5frEnVu1MBD3bD2iO3QO9Efs5SwOq+y9jjEFE9gAZwCvAE8vWzPkW3Bk0/Z3Y5owOBA6cABuBPl/+NH9tt9Z9BTgJuA0YABQCWdj3xN9+77/5wATguRVrF253oOkJ67UhE9KBC7Dfv2OAIqAGfkfLPMZQ6vGQnppaAKwBHgFmXTJlZJEbg6a/a3sMTQGeJ3DgBLjNFziH9b65HnAtcAv2PcLvX8C+Vyn2+5cJvAc8Bnz61JInov77meRc/34NHjyY/F27HM03rfv2CylviMhYoJkx5qoAz7XA9mq2Ncasq7CscMNmKBWIyBBgCMDYm0d0G3zOOWHVURENm1Vbl5Z9zsceykqnzEa7AvuB9cBFK9cvXu1A0xJKz/YDMoB7gFuxIaBaiKuWAMXArDZ1mz6XnZH1Li4Nmj4VBU5jzCCDeQA4BRswQx1ilI/9gbsTmLxi7cKk35F5bciEk4E3gLqE9/3bB+wrLCm+9MnF82/CpUHTJ5TAmZWevg94HLt9rx5kubI82M/Vl8BlTy154tfKtrUK0bAZgjb9zrgBb0bzmmKMmVJ2uQrC5j1AjjGmTyh1RnI2+uXAsvKSrDFmijGmuzGme7SDpqq6urTsU71Lyz6zgFcJ/4cO7/KdgBVdWva5xXsIPin1bD/gaOBbbG9KFqEHTbA9n1nAxet3b16cV5RfJ8AyrgmaUP4YTo/xNDeYz4DTgGzC2y5mYUPEw8Bn3Vr3bVT51iam14ZMSHltyITxwIfYYQjhfv9qAk1SU1IX5rQ/5k++YRxluCJoQsVjODNSUx8zxkzCfqZCDZpgP3/Z2B2f1cN633xJZduqlD//jOa9HRY0Q3AF8FKoC0cSNsOqwAm9u3ejd/cKT35SSaRLyz41sWOEzya8DXdZKd717wfGJ2Pg7Nl+wHHA50BrKvdeZZQaj6zdtYm9hXn+j7sqaPoECpwec7AjUrA95ZHKBroCK7q17tu8EuUkpNeGTEjF9mb+FRuwI5aWkpJ6bJNm/KlzN1IODZyuCZo+wQJntbQ0UkQQkbJDMMLhO3LzwrDeNw+tRDnKRfr375/w+UZETgGaADNDXSessCkiPYCmxOksdJ/z+/Th/D594tkEFUNdWvZJAz7A9kpW6ofOTzb2MMLdUSovIfRsP6AFsASoTZTm0TUYNuzeQl5RPrg0aPr4B06/oBkt6UAD4JNurfvWiXbhcfY8ld/ROygjNY2j6h1B/2O6+h5yXdD0KRs4q6WlIUCQnttIVAceHdb75r9Eq0CVuC6//PK45xsRSRORTCAVSBWRTBHxP6H8SmCWMWZfqGWG+2N0JfBWOBU4oaCwiILCong2QcXW7UBn7OD5aMoG7urSsk/3KJcbFz3bD0jB9j7VIspjgA2G9bs3l+4p2H+2W4Omz5c/zV9tjLkIZ8Z3pWED5zMOlB0Xrw2ZcD5wMVEKmj7pqWm0qd+A04/u9Kxbg6aPL3BmpKb+EOWg6VMdmDKs981HRbtglVjy8/MTId+Mxo4bvhO4zPv3aABvCL2YMI9whxU2jTE3GGMuD2cdJ9w1aRJ3TdL55KuCLi37dMR+yLMdqiITeLNLyz7hjGlMVH/Fnhmc6kThpcZTvGHPljucKDuWurXuKwbzD+yJUE6oBpzbrXVf1w9Yf23IhCOAaUQ5aPpkpKXR7ahWg18bMiHQiVuukpWeflqKSFMHgqZPNeDVYb1vTrqhP+p311xzTdzzjTFmjDFGytzGeJ8rMMbUMcYsCqdMV16uUlUpjxHeyS3hEuBI7IlvrtWz/YBM4P9wLpSDDeZXeA/Vu9kfgZOp3BjNilQHJnunU3Kz24je0JVgMoG7HK4jFp4SEUdCuVcadp7cHAfrUMoRGjZVwurSsk8T7IbV6c9pNnCHy08WuihG9aQAbj9ZYRTOByiAI4CeMajHEa8NmZCBnZvV6V7/DOCa14ZMiMX/iSOG9b75ROwZ+k7Lxu4AKOUqkV5BSKlYuJYg4+ouvWYQF1x0Nm2ObklqaipPPzGNZ56YBsB5g87igcfuPGydwefewKr/rQlWV2Ps1WKWR6PhcXArgSe156Irz+Ocgf1o1fYoUlNTeXHSq7z41KsHn2/Y5EhuvO1qTuzRlczqmfy2eTvPjJ/GkvmfBiouA7ihZ/sBf1+2Zo7rrp7TrXXfutgTXQLuwAy++kLOv+gsWrdrQWpqKs9O/BdTJv4LgH9//DJNmh0+s9Hyz1Zyw18CzomXDdyMe6+0di5B3qejc46n9SnHUKvJEaSkpPDNv//DN//+DICUtFS6DOxFs+PbkFmzOkV5BWxZtYH/vrGEogOFweoywIXYCwq40QiCjCnvM6g3f+z/Bxq3bERKagrzpr7PvGnvA5CWkcbZV55Jt5wTqF2vFtt+3c68qe/x9ce5weoRoPew3jc3fGrJE4EuxapUQtKwqRLZ2QTZgHc69mj27NnHls3baBogAAD85+Mv+enHDQfv79i+s7y60oBeuDBs9mw/oBr2TP2A2h/Tln279/Pb5u00bnbo0LjadWvx9IxxNGhUn/999R0/fb+eRk2OpEmzcofQpQBHA99Fo/0x9geggCC9dR2Pbcee3fvYunnbYcFy9pvvU6vO73n+9DN70ahJA37ZEHTObQFOjUqr4yOHIHNp1mvRkKK8AvJ37iO7fu1Dnut09om0zzmewrwC1v/nOxof25JWPY4BhM+nfRCsrppAP9wbNk8jyFjpo9o348DeA+z6bTdHNK53yHMXDr2AUy/oyW8bf+OL+V/S9dQuXHPfVUwY9iTrvl0frK4i7FCQd6LXfKWc5cqweWaPP8a7Ccph3kPaxwV7/u5bHgJgwpSxQcPmvNmLmD3z/VCrrIYNBhPCamhiOBZ7tmDAMYhjb38cgIcm331Y2LzoivNo0Kg+895ayEN/fyLU+gy2F9iNYbM75Zzscu+tjwAw/pn7Dgubz016+eDfderV5sLBAwCY8dLb5dVXq1vrvkesWLtwR8Qtjp+eBJnV4LMX7feq59/OPSxs1jiyDgDrPvmGr2cupd1pXeg2+HSy69eqqD5XbtiH9b65Jnbcd0D/etDm5+vHXntY2Dy+T1cAXh33Oj+u/InN67cyaPifOOOyvjz79+eDFZmNvRb9O5Vtu0o8AwcOZNuqb+PdjKhzadjsEe8mKOcdSSU/n7ffO4y7x45k869beePld3l16qxyl8/OyLzgkQvGuO5yZ10bt+R/W36mNIJ5I7ud3AWA+g3q8e6y6aSlpfLZ0hU8+dBz7Nm1N9hqNdMkdfoZx140PfJWx0d6ShrFnsqfhD7oLwPIzKzGF59+xY+rg18WWJCMulm1tw/o4r4pEi/pfgJpqeFPbPDjklyadmlNq1OOJS0zgybHtqKksJjVH1R40KBVRA2Nv47AAezctmEpKSoGoPnRzdjw3c80a9sEgKZtmpa3Wiq2h14loUGDBrF2YdgfpYTnyhOE9uzbz559++PdDOWsbCCiMYEej4dvvv6O+XMX88niz2neoil3/GM4A709UcGUelw3BBGAUuPBRDhlZJ26trepS/dj+Ozj5ezetYczzzuNO8YOL3c91yVyr2i0Oy09jUGXngvAqy++FUKd7ny3UlIi+3nYs3kHW1b9TLXsTNqe2pnq9WqyY91m9myqsHM3/bUhE9z4mxTuZTsP+uDlhQAMHPYnJiwYx8ln2wxZq17A4df+KlxAudPOnTuTMt843rPZum+/qJc5ePBgAGbMmBH1slXCiDj5zXlrPnPemn/w/k23X8+1f7uUvmefyqwZc4KuJ9GdBz1mpBIt37VrD81bNWXurAU8fv8zdDiuHc/PnMDJp3YnNTWF0tKoX2XH9c44pw9HNqzPz+t/YemHn1W4vDs/VYAxEMGckSdemkPzbu344aOv+Xrmx7Q7/Xi6DuxFjyHnsODhcrfZBnfux0S8rVr27idsXLORDie2R0TYs30Pl94xmP27KwwbTs0Rq+Js6FA72Uey5Rs37kWqqmEn9sznsDVvEfgQlMdT/u9YRporR5WQkZoW8RVLflqzPuDjRYVF5QZNByeudlRKFNo9+Oo/ATBjarljNf3qdOdmtjjCHY1aTY4AYOeGrZQWl7Jz/Rb7eJnxigHkXTJlpBvD5jYivJBCaloqG1b/zAfTF/D+v+bTpnMbANas+L6iVfVMdOUq7vx1VUlv5frF+7u07LMNaBLo+T/9+RyOP/E4Oh7TDoDTzuhJk2aN+Gj+Mi69ZhC1a9fk29zV1Kpdk959TwFg3jsLy63zyGx3jpOpnVkdU85P9IBBZ9C5Wyfad7I/ZL36nkyjpg1YuvAz3pj2DucOOoNzBvajWmY1junaAYD33/mw3DpTXRqg0lPSKSotDvr8BRefTdfux9LhWPu56tOvB02aNmTxgk9YvOBTup54LJ2Oa8/ePfv496ygZ1YfZDCkpbhzM7vrwAEa1Q58Uk/rnsdyZNsm1D2qAQBNu7Yh+4ha/PL1T2z/aRN1mtany4U9OaJ1Yxp1tFdY3PZj0LP2fb6JYvNj6XvK2TH+4zkn0+a41jQ/uhkAnXseR71G9chd9j/q1K9N937d2LR2M41bNaLNca05sC+f9/41P1hxAIW4dzotVUW5cyuoqoovgfMDPXH8icdx/qCzDt7v0KktHTq1ZdMvW5j79gIGDR5Aztm9SU1J4YfVP/HK1FnMfWdBeXXt/3HH5mGzVswI63qviaBn+wEC7CPI1YM6d+tE/wv7HrzfrmNr2nVszZZff2Ppos+4/a/3c8MtV9B3QG92btvFv555g2mTyz2EU1hYWtRi2ao5rutd6da674nAQuz14w/TtfuxnDvozIP323dqS/tObdn061YWL/iUwVddCMC7b7xH/oGCUKr8aW7ujLaVb3nsvTZkwj+wl4o97HfiyLZNvNMZWXWbN6Bu8wbk7djL129+jKfUQ9POrWn1x04U5RWw7tNVfD2r3HzkAT6O9muIhaeWPFEyrPfNP2AvFXuYNse15uSzTzp4v1m7pjRr15SdW3ay7tv1VK9ZnT+ceSIlJaX879NvePfZOWz/dXt5VRYCK6L6IpRymJjyukSiI+oVJOmYTXcel3RQl5Z9BgPPEpvB8IVAq5XrF2+OQV1R17P9gDexk2LHostxzbI1czrEoJ6o69a6bzrwG1AnBtUVABNWrF3oyksxvjZkwgnYHjQnL8Hosx8485IpIwNeSSDRDet98z3A34nNlan2AQ2eWvJESHs7VYwbh2EcIkb5JuZ5w5XHwi699FIuvfTSeDdDOe8tYrPxMMACtwZNr8ewc206bT/2GuyutGLtwmLgKWwQjIV/xqieqLtkysivgPUxqm4r8J8Y1eWEKcTmB7wIeE6DZvJK1nzj+GH0tQvLPXQJhH/G+oAB5U9ho5LDyvWLC7u07PMUMBJnewzycXGA8voC2ICd88/JHz0P8LqD5cfC09jLezqpBPhwxdqFvzhcj9MexB5diHh6nxDkAQ+79OQgAJ5a8sTWYb1vnoMd9hPw4gpRUordWVJJqrx8E0qeCoUTswRVxJU9m5s2bWLTpk3xboaKjQeBXQ6WXwC8u3L94k8crMNxy9bMMcDlONtjlwdcv2zNnFj0oDpmxdqFm4AHsK/HKYXAXx0sP1ZeA77Fual2PMAPwDSHyo+lm3D++/fYU0ueCH4VAeV6yZpvXBk2b731Vm691emOCZUIVq5ffAC4BHuFDifkAX9zqOyYWrZmzlfAkzjzXhUCi5etmfOGA2XHw6PAOioxR2I58oCbV6xduNGBsmPqkikjPdjvX6FDVRQAF18yZaQ7r6jg56klT2wGbsSZnRgP4NtJUkksWfONK8OmqlpWrl+8FLiH6IeoPKD/yvWLd0e53Hi6Bzv2LZq9j8XAz8BlUSwzrlasXVgKnIOdzzWaM9cfAN4AXohimXF1yZSR63Fmh+8AcMUlU0b+EOVy4+lV4CWiGzg9wG7grKeWPBF83i6lEpiGTeUKK9cvfhwYQ3R+8EqxZ3SeuXL94i+iUF7CWLZmTjEwAFhGdN6rAmAtcMqyNXN2R6G8hLFi7cKfgT9iJ+UuikKRedjxrNevWLvQteMPA7lkysg52J2NA0TnpL0DwDWXTBk5KwplJYynljxhgOHAdKITOIuxO0Q9nlryxNoolKdUXGjYVK6xcv3iccDF2I1vpIf18oD/Ad3cPk4zmGVr5hQA/YFHsD2ckYaDA8ArQPdla+Zsi1LzEsqKtQt/Ao4DFhB5OC/Bfq5uBa719pomnUumjHwb6I09ES3S9+oAsBHIuWTKSLefaBbQU0ue8GCH5gzHfi4iHe+aBywGjntqyRNrotM6peJDw6ZylZXrF88F2mBPXCgg9B+9fcAe7GHm7ivXL06mQ3eHWbZmTsmyNXPuB07CTo6fT2g/eh7sj9xPwLnL1sy5btmaORVeqNnNVqxduG3F2oUDgKuALdjPSigBvQj7GfwQ6LRi7cJnk61Hs6xLpoxcDnTg97HBoX428rCfwWeA9pdMGVnxReVd7KklT5inljwxFWgPvI/9nIS6g7wPOxfsDcCZTy15YoszrVQqdhyf1H3twgUVVhDuafiLFi0CICcnJ7JGJSad1D1MXVr2OQK4DrgGaMXvvXji/TcNu0P1NTAReHvl+sXROFzqOj3bD+gEjADOBepzeEjPwgaHD4HHgc+8Z7hXKd1a900B+mKn2+qBvQxh2ZCQjT1Z4w3gqRVrF26IaSMTxGtDJmQDg4Gh2Cm3irFDVHzfvxSgGrAaO93UK5dMGbkvPq2Nr2G9b26O7e28BGjG4cMRMrA7g58DE4APnlryRFL2kDvM9dus8vJNFKc+inneCCtsikhL7CTFf8RugGcCNxtjgvaYOBE2k5SGzUro0rJPBnAs0Bi74S7AXrN47cr1i12/AYqmnu0H1AY6A3WxgWAfkJush8oj1a11XwGaYC9DmI0NA9uB3BVrFzo5bZLrvDZkQiq2F68lNmAWYQ+3f5cMZ5pH07DeN2dhv38NsDvEecB3wC/eMZ8qckn9/sUqbIrIMOyRnuOAGcaYq/yeuxi4D7vTtBG4yxjzTkV1hhs252G79/+KvdzbAuA5Y8yTwdZxImyuXWvHSbdu3Tqs9RKchk2llFIqcq4Pm+XlmxiGzQuxQ6rOBLJ8YVNEmmKnjDsfOzykP/Am0NIY81t5ZYZ7BaFWwFPGmAJgi4i8j93rj6m7774bSLproyullFKqCkuEfGOMeQtARLpjezB9mgG7jTHvee/PFZE87HkU5YbNcE8QegK4RESqexPu2dh0q5RSSimlktdy4DsROU9EUkXkAuyQytyKVgw3bH6M7cncC/zirfidsguJyBARWS4iy2fMnRtmFUoppZRSygn+Gc17GxLKesaYUuBf2IsXFHr/vcEYU+EY9pDDpoikYHsx38IOlq+PPcHgkQANmmKM6W6M6T74nHNCrUIppZRSSjnIP6N5b1NCWU9E+mIv9dsHeyJub+B5Eela0brh9GzWA47CjtksNMbsAKZiB4gqpZRSSqnk1RX42Biz3BjjMcZ8iZ2uq29FK4Z8gpAxZruIrANuFJHHgBrAlYRwrD7ahg4dGusqlVJKKaUclQj5RkTSsPkwFUgVkUzs1G9fAneKSFdjzNcicjzQCzslZrnCPRv9QuxJQndgJ+/9EDv5cUz17Nkz1lUqpZRSSjkqQfLNaOAffvcvA+4zxowRkTHATBFpCGwDHjLGzK+owLDCpjHma+yx+rhatWoVAJ06dYpzS5RSSimloiMR8o0xZgwwJshzTwFPhVtmuD2bCeGBBx4AdJ5NpZRSSiWPZM034U59pJRSSimlVMg0bCqllFJKKcdo2FRKKaWUUo7RsKmUUkoppRzjyhOEbrvttng3QSmllFIqqpI137gybHbr1i3eTVBKKaWUiqpkzTdijHG6jqhXsGLFCiDp/lMk3g1QSimlXMzxQOO0GOWbmOcNV4bNwYMHA0k3D5WGTaWUUipyrg+bMco3Mc8beoKQUkoppZRyjIZNpZRSSinlGA2bSimllFLKMRo2lVJKKaWUYxw/QWjtwgVRqaB1334H/161ahUAnTp1ikbRiUJPEFJKKaUi5/oThCrKN2sXLqh0Ha379ot53nDlPJtJFjKVUkoppZI237jyMPqyZctYtmxZvJuhlFJKKRU1yZpvXNmzOXnyZAB69uwZ55YopZRSSkVHsuYbV/ZsKqWUUkopd9CwqZRSSimlHKNhUymllFJKOUbDplJKKaWUcowrTxB68MEH490EpZRSSqmoStZ8E1bPpoh0FJEPRWSPiPwoIn9yqmHlad26Na1bt45H1UoppZRSjkiEfCMiw0RkuYgUisi0Ms9d581/+0XkfRFpEkqZIYdNEUkD3gXmAPWAIcDLInJ06C8hOhYtWsSiRYtiXa1SSimllGMSJN9sAsYCL/o/KCJ9gIeA87E5cB0wI5QCwzmM3gFoAkww9hqXH4rIJ8DlwD1hlFNpzz//PAA5OTmxrFYppZRSyjGJkG+MMW8BiEh3oJnfUwOAN40x33qffwD4VUTaGGN+Kq/Myp4gJMCxhz0oMsTbBbt8xty5laxCKaWUUkpFg39G896GhLN6gL8Py4FlhdOzuQb4DRglIhOA04DewEdlFzTGTAGmAKxduMCEUYdSSimllHKIf0YL0/vAayLyDPADcC9ggOoVrRhyz6Yxphi4ADgH2ALcCrwB/BJ+e5VSSimllFsYYxYC/wBmAeu9t32EkAPDOoxujMk1xvQ2xhxhjDkTaA18EW6DlVJKKaWUuxhjJhtj2hljGmJDZxrwTUXrhTXPpoh0Br7HhtS/AY2BaWG3tpLGjx8f6yqVUkoppRyVCPnGO/tQGpAKpIpIJlDifawt8C3QHHsofqIxZldFZYZ7gtDlwGbs2M0coJ8xpjDMMiqtSZMmNGkS0tROSimllFKukCD5ZjSQD9wJXOb9ezSQCbwK7Mce1f4PIc5GFFbPpjFmFDAqnHWcMGfOHAAGDBgQ55YopZRSSkVHIuQbY8wYYEyQpztHUqYrL1f5yiuvABo2lVJKKZU8kjXfVHaeTaWUUkoppYLSsKmUUkoppRyjYVMppZRSSjlGw6ZSSimllHKMK08Qmjx5cryboJRSSikVVcmab8QYxy9drtdGD41UvIhSSimlgtC8EZqY5w1XHkafOXMmM2fOjHczlFJKKaWiJlnzjSvD5qxZs5g1a1a8m6GUUkopFTXJmm9cGTaVUkoppZQ7aNhUSimllFKO0bCplFJKKaUco2FTKaWUUko5xpVTH+Xn5wOQlZUV7aLjSac+UkoppSLn+qmPYpRvYp43XBk2k5SGTaWUUipymjdCo/NshmL69OlMnz493s1QSimllIqaZM03rgyb8+bNY968efFuhlJKKaVU1CRrvnFl2FRKKaWUUu6gYVMppZRSSjlGw6ZSSimllHKMhk2llFJKKeUYx6c+EpEhxpgpbik3VtzefqWUUiqRJMvvqtOvIx7vUyx6Noe4rNxYcXv7lVJKqUSSLL+rTr+OmL9PehhdKaWUUko5RsOmUkoppZRyTCzCplPjAtw+LsPt7VdKKaUSSbL8rjr9OmL+PsXi2uhKKaWUUqqK0sPoSimllFLKMZUKmyJyloisEZEfReTOAM9XE5HXvc9/LiIt/Z77u/fxNSJyZpn11ovI/0TkaxFZHqDcuiLytojkisgXInJsqOs6QUReFJHfROQbv8e6ishnvnaIyElB1n1ERL7x3v7s93gr73v2o/c9zIjFa1FKKaXiKZl/U53MN05lsqgwxkR0A1KBn4DWQAawEuhUZpm/Ac94/74EeN37dyfv8tWAVt5yUv3WWw/UL6fuccA/vH93ABaFuq4TN+BU4ATgG7/H5gNne//uDywOsN45wAIgDcgGvgRqeZ97A7jE+/czwI2xfE1605ve9KY3vcXjlsy/qU7lGyczWTRulenZPAn40Riz1hhTBLwGnF9mmfOBl7x/zwRyRES8j79mjCk0xqwDfvSWF6pOwIcAxpjVQEsRaRj5S6kcY8zHwM6yDwO1vH/XBjYFWLUT8LExpsQYkwfkAmd536PTse8Z2Pfwgmi3WymllEo0Vfw3NdJ8E89MVqHKhM2mwEa/+794Hwu4jDGmBNgDHBHCugaYLyIrRCTQ5KMrgQsBvF3pLYBmIa4bKzcD40RkI/AY8PcAy6zEfhGqi0h94DSgOfY92u19zyDwe6uUUkpVFTeTHL+pTuUbJzNZpaVFs7Ao6mmM+VVEGgALRGS1d0/H5/+AiSLyNfA/4L9AaYjrxsqNwEhjzCwRuRh4Aejrv4AxZr6InAh8CmwD/sPvr0MppZRSVrL8piZDvglbZXo2f8XuMfg08z4WcBkRScN2fe+oaF1jzK/ef38D3qZMd64xZq8x5mpjTFfgCuBIYG0o68bQlcBb3r/fDNYOY8yDxpiuxph+gADfY9+jOt73DAK/t0oppVRVkRS/qQ7mG8cyWTRUJmx+CbTznuGVgR1sOrvMMrOxHxCAQcCHxo5GnQ1c4j0zqhXQDvgCQESyRaSm72/gDOAb/0JFpI7fmWTXYcdo7A1l3RjaBPT2/n068EPZBUQkVUSO8P7dGegMzPe+Rx9h3zOw7+G7jrdYKaWUSkyu/011ON84ksmiJeLD6MaYEhEZBnyAPQvqRWPMtyJyP7DcGDMb2809XUR+xA72vcS77rci8gawCigBhhpjfN3EDYG37ZhV0oBXjTHvi8hfves+A3QEXhIRA3wLXFveupG+xlCJyAygD1BfRH4B/gFcj+0KTwMK8F74XkS6A381xlwHpANLve3dC1zmN6bkDuA1ERmL7UZ/wenXoZRSSsVbEv+mOpZvHMxkUaFXEFJKKaWUUo7RKwgppZRSSinHaNhUSimllFKO0bCplFJKKaUco2FTKaWUUko5RsOmUkoppZRyjIZNpZRSSinlGA2bSimllFLKMRo2lVJKKaWUYzRsKqWUUkopx2jYVEoppZRSjtGwqZRSSimlHKNhUymllFJKOUbDplJKKaWUcoyGTaWUUkop5RgNm0oppZRSyjEaNpVSSimllGM0bCqllFJKKcdo2FRKKaWUUo7RsKmCEpFOIrJcRCSCdYeLyCPlPN9SRIyI7BeRIZVradUmItd630cjIm3j3R6lVOLQ7bg7iMjR3vexVESui3d7oq3KhU0RWS8ifcs8dpWILItXm5wgImNE5OVKFvMA8JgxxnjLfEJEdonIf0SkmV9dfxGRJ8us+xxwqYg0qKCOOsaYKWXa3kpEPCLydCXb7zgRGSkiW0Rkr4i8KCLVgix3sogsEJGdIrJNRN4UkcYBlssQke9E5Jcyj6eKyFgR2SQi+0TkvyJSB8AY84IxpoYjL1CpCHi3Ccu9P56bReQ9EenpfW6MN6Bc7Ld8mvexln6P9RCRD72f9z0i8m8R6eR97lJv2ftFJN+7vfDd3x/zF+wQ3Y47T0QuEZE13s/YbyLykojUKmf5Kd7lPSJyVThlicgw7/eiUESm+a9rjPneux1fGuWXmBCqXNh0moiklrmfFub6FS4fbpmR8Aah04B3vPdPAroBjYBlwJ3ex2sDo4DR/usbYwqA94ArIqj+CmAX8Odg4S0RiMiZ2PchB2gBtAbuC7J4XWAK0NK77D5gaoDlRgHbAjx+H9AD+CNQC7gcKIi89Uo5Q0RuAZ4AHgIaAkcB/wTO91tsJ3Bf2e2lXxl/BOYD7wJNgFbASuATEWltjHnFGFPD++N8NrDJdz8aO166HbeqwnYc+AQ4xRhTG7sNTwPGlrP8SuBvwFcRlLXJe//FKLTbVTRshkBEOvj1Sq0ps0c+TUSeFpF5IpIHnCa29/QOEckF8rx77eeJyLcisltEFotIR78yDls+QBuMiAwVkR+AH7yPTRSRjWJ71VaISC/v42cBd2G/5PtFZKX38doi8oK3p+FXsT1lATf2QD/gK+/GBuzGfpkxphBYhP0iATwIjDPG7A1QxmLgnJDe5N9fp2A3UqOBYuBc7+N/FpHlZZYdKSKzvX8f4e352CsiX3pfm9O91VcCLxhjvjXG7ML2IFwVaEFjzHvGmDeNMXuNMQeAp4BT/JcRkVbAZcDDZR6vC9wMXG+M2WCsb/z+b5RKCN7Qcj8w1BjzljEmzxhTbIz5tzFmlN+i7wNF2M97II8C/zLGTDTG7DPG7DTGjAY+A8ZE2Dbdjut2/DDGmI3GmO1+D5UCQYcjGWMmG2MWEWBnv6KyvN+Jd4AdlW64y2jYrICIZAMLgFeBBsAlwD/FezjH6y/YL2tN7N4iwGDsF7QO9gs9AxsYjgTmAf8WkQy/Mg4ub4wpCdKcC4A/AL66vwS6AvW87XtTRDKNMe9jexVe9+7pd/EuPw0owX74jwfOAIKNDTkOWON3/1ugl4hkYXvyvhWR7kB7Y8yrQcr4DugS5LlgegLNgNeAN7CBDuDfQHsRaee37F+wrxtgMpCH3WO/0m+9ColIT++PR7BbzyCrHoPdy/VZCTQUkSNCqPZU7HvqbxL2xyW/zOPHYf/fBok9ZP+9iAwNoQ6lYu2PQCbwdgXLGeAe4B8iku7/hIhUx/bivxlgvTewASosuh0/SLfjwdfdgz3iNBDbMx+RaJaVTKpq2HzH/0OIPcQTzABgvTFmqjGmxBjzX2AWcJHfMu8aYz4xxnj89iCf9O7l5AN/BuYaYxYYY4qBx4As7AaVAMsH87B3Dz8fwBjzsjFmh7dd44FqQPtAK4pIQ6A/cLO3t+E3YAJ2oxtIHeyXBW9d33hf92fYw2KPAk8CN4nITSLysYi8It5xhF77gNrlvJ5ArgTe8/YUvgqcJSINvL2B72I35ng3Vh2A2d69+oHAP4wxB4wxq4CXQq3QGLPMGFOnnFuwPesawB6/+76/a5ZXn4h0Bu7FHrbyPfYnINUYE+hHuhn2fTwa2zMxCBgjImH/6CrlsCOA7eUErYOMMbOxQ0bKBqV62N+mzQFW2wzUj6Bduh1Ht+MVrFsbu60dB6wP8/U6UlYyqaph8wL/DyF2/EUwLYA/lAmnl2L3vHw2BljP/7EmwAbfHWOMx/t80wrKKK9MROQ2sSeT7PG2qzbBN8QtgHRgs9/reBa7lx/ILsqEJmPMBGNMF2PMn4GLgY+xn6Eh2L3k7/COAfKqyaFhrFzeve2LgFe89f0H+Bm75wt2ozXY+/dfgHe8G68jsWNj/N+fUN7PytqPHT/p4/t7X4BlARB7tvh7wAhjzFLvY9nYjf5NQVbz/XDdb4zJN8bkYnsM+lei7Uo5YQdQP9Ah5CBGA3dje0N9dgEe4LAT6LyPbQ/weEV0O/57u3U7HoQx5lfsEI/XEqmsZFBVw2Y4NgJLyuwh1TDG3Oi3jAmwnv9jm7AbCeDgeJbmwK8VlBG0TO+4ntuxG4u63tC8B5Cyy/q9jkKgvt/rqGWMOSZIXbnYnrTDePeuh2DHZh0L5Hr39L8EOvst2pFDDzNX5E/YwPZP7+HiLdgNue9QygLgSBHpit1Y+Q69bMMeVmrmV1bzUCsVkV7idyZrgFuvIKt+y6GHl7oAW40xAcfjiEgLYCHwgDFmut9T7bAnDi31vua3gMbe96Al9v8CDv0/DeXzolSs/Qe7nbkglIWNMQuAH/Hb4TfG5HnLuSjAKhdjxxqGS7fjZeh2PKg0oE2o9cawLFfTsFmxOcDRInK5iKR7byeK38DwELwBnCMiOd7xSbdiNxifVqJdNbFfzG1Amojcy6G9bFuBliKSAmCM2Yw9u3O8iNQSkRQRaSMivYOUvwA4QUQyAzz3ODDGuze6DjhRRGoAfYC1fsv1xvbihepK7Fl6x2HHMHXFnkTTRUSO824I38QemqjnbSPGmFJsQBsjItVFpANhnD1pjFlq/M5kDXALNhXFv4Brxc5jVwfbSzMt0IIi0hT4EHjKGPNMmae/wW5Ufa/5Ouz/X1dgozHmJ+x0GHeLSDXvZ+8S7GdTqYRhjNmDHSIyWUQu8H4f00XkbBF5NMhqd2MDl787gSu9h3ZrikhdERmLHRMabMaH8uh2/HC6HefgNFpHef9ugR23G3SHRuz0dJnYHYJ0Ecn0/f9UVJbYk8wygVQg1buu47MSJAINmxUwxuzDDsC+BLtnuwV4BDuuJtQy1mDPupyEPQR0LnCuMaaoEk37ANtF/z320E4Bhx5y8A2u3yEivikargAygFXYwyszCXyoCmPMVmw48p+uBBE5HTv4/W3vcl8Ac711nwb8n3e5TOxh3pDG3HjDWA7whDFmi99thfd1+vaKXwX6Am+aQ8eFDcMeftoCTMcO5C/0K/9bEbk0lLaEytgB/I8CH2EPE20A/hGkzuuwJxiMkTLzAXrHah18zdhpYTze+6Xe9Qdje1V2YN/ve4w9I1KphOIdd3gLdudrG3bbMAzv9DsBlv8E+KLMY8uAM4ELseM0N2BPhulpjPkhgjbpdtyPbscP0Qn4VOwsBJ9gT6i63q/O90TkLr/l52OHNvXATmeXjz3hs8KysN+JfOzO1GXevw+ZbipZiTF6NE4FJvZMzZeAk0yYHxQRGQ40N8aU7bHwPd8C+0UsAEYZY56rbHvLlP8I0MgYE/LZjG4lIldjTxLIBDoZY9ZWsIpSqorQ7bg7iD1Z6kvsjsTfjDHT4tui6NKwqZKC95BLBvA/4ETstCTXGTunmVJKqQSn2/HkVSXGCqgqoSb2kEsT7Din8dgpNpRSSrmDbseTlPZsKqWUUkopx+gJQkoppZRSyjEaNpVSSimllGMcH7NZM6ueKfUUe+/JwccP/iUBHvO7J4c9KSEtV3apw5aWQxYPUrZ/8wLV+vtCgWvzLhf0NQZuU6DlJHCDDy9PJODjEqSBEqTSw8s9/H8vyFtT5r059JHDnwteX4AWHvJc8HUCrBXsbpAGBXtthy4gQV/PIQ9LkCcDtSmkNzXw9yfwsn6v6fAPVYh1BXvDQ2mDsHLVdx8YY84KsraKMd0mU85rDNymQMvpNvnw5xzfJsdwe3x4nbpNrgzHw2app5h2jbsBIJJCiu9LIUKKpCAHv4j2/u/P+R5PKXM/2HKHlpcicvA/JNTlUkQCLBusDDm0jEOe45B1Di5H2XU4pA3lPfd7OwixjN+Xs+34vU0iHPJaDimjTD1l1/NfToI+d+jj/mUGeh2+vwOVd1h7y66XUnEZlH1dKeXX5fvb+5/2/+3da4wddRnH8e+vW1oMArtSTYhFdyGtsRIULKTG2BhRaES3JDSmGCOQYNIA8kLjhcQ3lDfqC0OMxKpFU1RSSBPNUhVDAmg0aaHKRSkg24WEEkyhxRq8QFseX8x/y3h6ujvdPf+ZObu/TzLZmTP/s/M8c/mf58xl95g4J8eRjll+eR6UltU15jc/LTQZ44KO6WIjHX0PHeuUBR3tSjEx5e8QHCeO/39dx1lWl+WUci6tSM54/4Uz+V/Wlon7ZPfJfdsn5+6Piw1QWrb75F7xZXQzMzMzy8bFppmZmZll42LTzMzMzLJxsWlmZmZm2bjYNDMzM7NsXGyamZmZWTYuNs3MzMwsGxebZmZmZpaNi00zMzMzy8bFppmZmZll42LTzMzMzLJxsWlmZmZm2bjYNDMzM7NsXGyamZmZWTYuNs3MzMwsGxebZmZmZpaNIiLvAqR7gSVZF1JYArxcw3LaYj7l61z728sRsabpIKxQY5/cdnPxWMvB66maflpPtffJ2YvNukjaFRErm46jLvMpX+dqZr3mY60ar6dqvJ6m5svoZmZmZpaNi00zMzMzy2YuFZs/bDqAms2nfJ2rmfWaj7VqvJ6q8Xqawpy5Z9PMzMzM2mcundk0MzMzs5bpi2JT0hpJT0sal/T1LvNXS/qzpMOS1nXMOyLp0TSM1Rf1zFTIdYOkv6R8/iBpRWneTel9T0u6tN7IZ2a6fEvtrpAUklam6WFJ/ylt2031RT0zVXKV9BlJuyU9IenO0utXSXomDVfVF7VZ/5J0sqSHJD2Wjqmbu7RZLOmudFzulDTcQKitIGlA0iOStneZd7Wkl0p97rVNxNg0SYOStkl6StKTkj7UMV+Svpv2p8clXdBUrK0SEa0egAFgD3A2sAh4DFjR0WYYOA+4A1jXMe/VpnPoca6nlcZHgXvT+IrUfjEwkn7PQNM5zTbf1O5U4PfADmBlaZv/tekcerxtlwGPAENp+h3p59uAifRzKI0PNZ2TBw9tHwABb03jJwE7gVUdba4DNqXx9cBdTcfd4Pr6EnAnsL3LvKuB7zUdY9MDsAW4No0vAgY75n8S+E3a91YBO5uOuQ1DP5zZvAgYj4iJiHgd2AqsLTeIiOci4nHgjSYC7KEquf6zNHkKMHnT7Vpga0S8FhHPAuPp97XZtPkmtwDfAv5bZ3A9ViXXLwC3RcQrABGxL71+KXBfRBxI8+4D/EfSzaYRhVfT5Elp6HxQYS1FAQGwDbhYkmoKsTUkLQUuAzY3HUtbSTodWA3cDhARr0fEPzqarQXuSPveDmBQ0pn1Rto+/VBsvhN4vjS9N71W1cmSdknaIenynkbWe5VylXS9pD3At4EbT+S9LTNtzOkSxFkR8asu7x9Jl3x+J+kjGePshSrbZzmwXNIf0/665gTea2ZdpEvDjwL7KL607exocvT4iojDwEHgjFqDbIdbga8y9UmbK9Kl4W2SzqonrFYZAV4CfpI+ezZLOqWjjfvrLvqh2Jytd0fxV/0/C9wq6ZymA5qtiLgtIs4BvgZ8o+l4cpG0APgO8OUus18E3hUR55Mu/Ug6rc74MlhIcSn9o8CVwI8kDTYZkFm/i4gjEfEBYClwkaRzGw6pdSR9CtgXEX+aotk9wHBEnEdxdWXLFG3nqoXABcD302fPv4DjPmtgb+qHYvMFoPwNaml6rZKIeCH9nAAeBM7vZXA9dqK5bgUun+F722C6mE8FzgUelPQcxf0vY5JWptsF9gOkDnIPxZnBtqqyffYCYxFxKN0K8TeK4rMft61Zq6TLnQ9w7C0oR48vSQuB04H9tQbXvA8Do6mf3Qp8TNLPyg0iYn9EvJYmNwMfrDfEVtgL7C2dHd9GUXyWub/uoh+KzYeBZZJGJC2iuIG70lPlkoYkLU7jSygOqN3ZIp29aXOVtKw0eRnwTBofA9anJytHKIqUh2qIeTamzDciDkbEkogYjohhigeERiNil6S3SxoAkHQ2Rb4T9adQWZX9+JcUZzUn99flFDn9Frgk7c9DwCXpNTObQuonBtP4W4BPAE91NBsDJv/Cwzrg/khPeswXEXFTRCxN/ex6inXwuXKbjvsOR4EnawyxFSLi78Dzkt6TXrqYY2uKMeDz6an0VcDBiHixzjjbaGHTAUwnIg5LuoHiw3UA+HFEPCFpI7ArIsYkXQj8guJJ3U9Lujki3ge8F/iBpDcoCutvRkRri80quQI3SPo4cAh4hdRJpnZ3U+z4h4HrI+JII4lUVDHf41kNbJR0iOIeow0RcSB/1DNTMdfJonI3cAT4yuTZW0m3UBSsABvbnKtZi5wJbElfTBcAd0fE9o7j7nbgp5LGgQMUxZYBHevpRkmjFJ8vByieTp+Pvgj8PJ00mACukbQBICI2Ab+meCJ9HPg3cE1TgbaJ/4OQmZmZmWXTD5fRzczMzKxPudg0MzMzs2xcbJqZmZlZNi42zczMzCwbF5tmZmZmlo2LTTMzMzPLxsWmmZmZmWXjYtPMzMzMsvkfA1gAENAOKjkAAAAASUVORK5CYII=\n",
          "text/plain": "<Figure size 792x648 with 5 Axes>"
         },
         "metadata": {},
         "output_type": "display_data"
        }
       ]
      }
     },
     "49b323afa47648e6ab33d3caf9189a89": {
      "model_module": "@jupyter-widgets/base",
      "model_module_version": "1.2.0",
      "model_name": "LayoutModel",
      "state": {
       "max_height": "620px"
      }
     },
     "4ac69d5987504a259ede1f701bb897da": {
      "model_module": "@jupyter-widgets/controls",
      "model_module_version": "1.5.0",
      "model_name": "HTMLModel",
      "state": {
       "layout": "IPY_MODEL_9b5aa17609334dc489522d99ff898c3c",
       "style": "IPY_MODEL_b90a43b4a30e4da981d9fb46f7666db2",
       "value": "<h5>Message</h5>"
      }
     },
     "4b295b20ad714c339a2c752bec578e7a": {
      "model_module": "@jupyter-widgets/base",
      "model_module_version": "1.2.0",
      "model_name": "LayoutModel",
      "state": {
       "width": "95px"
      }
     },
     "4db29c0b45ab449dbe68a982929e3ab9": {
      "model_module": "@jupyter-widgets/controls",
      "model_module_version": "1.5.0",
      "model_name": "DescriptionStyleModel",
      "state": {
       "description_width": ""
      }
     },
     "4dd6e6d97ad94c93a7a1514a059abe1e": {
      "model_module": "@jupyter-widgets/base",
      "model_module_version": "1.2.0",
      "model_name": "LayoutModel",
      "state": {
       "grid_gap": "0px 0px",
       "grid_template_areas": "\n                                                   \"top top top\"\n                                                   \"left middle right\"\n                                                   ",
       "grid_template_columns": "33% 33% 33%",
       "grid_template_rows": "auto auto"
      }
     },
     "4ea530b4af644683b6227c935557f9ca": {
      "model_module": "@jupyter-widgets/base",
      "model_module_version": "1.2.0",
      "model_name": "LayoutModel",
      "state": {
       "grid_area": "middle"
      }
     },
     "4edb1e70753641b68fdf3d58c475c012": {
      "model_module": "@jupyter-widgets/base",
      "model_module_version": "1.2.0",
      "model_name": "LayoutModel",
      "state": {
       "grid_area": "left"
      }
     },
     "51f34eb2bd9a4bd9aaf57c5755ff2e8c": {
      "model_module": "@jupyter-widgets/base",
      "model_module_version": "1.2.0",
      "model_name": "LayoutModel",
      "state": {
       "align_items": "center",
       "display": "flex-inline"
      }
     },
     "5215c2eed2d74a079735f7cb340093f6": {
      "model_module": "@jupyter-widgets/base",
      "model_module_version": "1.2.0",
      "model_name": "LayoutModel",
      "state": {
       "overflow_y": "scroll"
      }
     },
     "54cdfbfc6f0d4b9598fa30ca9fa65cbc": {
      "model_module": "@jupyter-widgets/controls",
      "model_module_version": "1.5.0",
      "model_name": "HTMLModel",
      "state": {
       "layout": "IPY_MODEL_f4454b01088246508f345489e709501f",
       "style": "IPY_MODEL_a7577710c7dd4ac4b8fdee67dcb3f657",
       "value": "<table><style>\ntable {\n    border-collapse: collapse;\n    width: auto;\n}\n\nth, td {\n    text-align: left;\n    padding: 8px;\n}\n\ntr:nth-child(even) {background-color: #f6f6f6;};\n</style><tr><th></th><th>Type</th><th>Gate error</th></tr><tr><td><font style='font-weight:bold'>cx7_12</font></td><td>cx</td><td>0.02113</td></tr><tr><td><font style='font-weight:bold'>cx8_3</font></td><td>cx</td><td>0.04</td></tr><tr><td><font style='font-weight:bold'>cx8_4</font></td><td>cx</td><td>0.02772</td></tr><tr><td><font style='font-weight:bold'>cx8_7</font></td><td>cx</td><td>0.03691</td></tr><tr><td><font style='font-weight:bold'>cx8_9</font></td><td>cx</td><td>0.02233</td></tr><tr><td><font style='font-weight:bold'>cx8_12</font></td><td>cx</td><td>0.05001</td></tr><tr><td><font style='font-weight:bold'>cx8_13</font></td><td>cx</td><td>0.03028</td></tr><tr><td><font style='font-weight:bold'>cx9_4</font></td><td>cx</td><td>0.03384</td></tr><tr><td><font style='font-weight:bold'>cx9_8</font></td><td>cx</td><td>0.02233</td></tr><tr><td><font style='font-weight:bold'>cx10_5</font></td><td>cx</td><td>0.02643</td></tr><tr><td><font style='font-weight:bold'>cx10_6</font></td><td>cx</td><td>0.01845</td></tr><tr><td><font style='font-weight:bold'>cx10_11</font></td><td>cx</td><td>0.03386</td></tr><tr><td><font style='font-weight:bold'>cx10_15</font></td><td>cx</td><td>0.02773</td></tr><tr><td><font style='font-weight:bold'>cx11_5</font></td><td>cx</td><td>0.03646</td></tr><tr><td><font style='font-weight:bold'>cx11_6</font></td><td>cx</td><td>0.01651</td></tr><tr><td><font style='font-weight:bold'>cx11_10</font></td><td>cx</td><td>0.03386</td></tr><tr><td><font style='font-weight:bold'>cx11_12</font></td><td>cx</td><td>0.04782</td></tr><tr><td><font style='font-weight:bold'>cx11_16</font></td><td>cx</td><td>0.0178</td></tr><tr><td><font style='font-weight:bold'>cx11_17</font></td><td>cx</td><td>0.01799</td></tr><tr><td><font style='font-weight:bold'>cx12_7</font></td><td>cx</td><td>0.02113</td></tr><tr><td><font style='font-weight:bold'>cx12_8</font></td><td>cx</td><td>0.05001</td></tr><tr><td><font style='font-weight:bold'>cx12_11</font></td><td>cx</td><td>0.04782</td></tr><tr><td><font style='font-weight:bold'>cx12_13</font></td><td>cx</td><td>0.03068</td></tr></table>"
      }
     },
     "5558f1370f354f278640328a01e23066": {
      "model_module": "@jupyter-widgets/controls",
      "model_module_version": "1.5.0",
      "model_name": "HTMLModel",
      "state": {
       "layout": "IPY_MODEL_4b295b20ad714c339a2c752bec578e7a",
       "style": "IPY_MODEL_92a7958f4eb84ee28f16361362695122",
       "value": "<h5>Status</h5>"
      }
     },
     "55b0c86dc98246aebcc3607fde86742d": {
      "model_module": "@jupyter-widgets/controls",
      "model_module_version": "1.5.0",
      "model_name": "DescriptionStyleModel",
      "state": {
       "description_width": ""
      }
     },
     "55ce683f7bcb4d32ad681482374160fd": {
      "model_module": "@jupyter-widgets/controls",
      "model_module_version": "1.5.0",
      "model_name": "HTMLModel",
      "state": {
       "layout": "IPY_MODEL_a3446c11c5a84d7fb8b0c4b32d321bab",
       "style": "IPY_MODEL_74016ee8c81a47039b11b18baae80eab",
       "value": "<h5>Status</h5>"
      }
     },
     "565750a6bce44daa8d1a9cf93687efe7": {
      "model_module": "@jupyter-widgets/controls",
      "model_module_version": "1.5.0",
      "model_name": "HTMLModel",
      "state": {
       "layout": "IPY_MODEL_1a89e3a43d4242e29a9f28cdf2b3c348",
       "style": "IPY_MODEL_7c8e908a465443d8b5a87191a4e44b7d",
       "value": "<div><font style='font-weight:bold'>last_update_date</font>: Thu 29 August 2019 at 03:57 UTC</div>"
      }
     },
     "56686e94ace64e9f933d3ced78697166": {
      "model_module": "@jupyter-widgets/base",
      "model_module_version": "1.2.0",
      "model_name": "LayoutModel",
      "state": {
       "grid_area": "right",
       "padding": "0px 0px 0px 0px",
       "width": "70px"
      }
     },
     "58f7eba8b004420d91162769bcf44f62": {
      "model_module": "@jupyter-widgets/controls",
      "model_module_version": "1.5.0",
      "model_name": "DescriptionStyleModel",
      "state": {
       "description_width": ""
      }
     },
     "5a04d5ad321848b480bdc22dc26abead": {
      "model_module": "@jupyter-widgets/controls",
      "model_module_version": "1.5.0",
      "model_name": "HTMLModel",
      "state": {
       "layout": "IPY_MODEL_de0a1fde491c4337941f05db569d1c16",
       "style": "IPY_MODEL_f9d93f8ba0c5420bb34de71a0d8f6f63",
       "value": "<table><style>\ntable {\n    border-collapse: collapse;\n    width: auto;\n}\n\nth, td {\n    text-align: left;\n    padding: 8px;\n}\n\ntr:nth-child(even) {background-color: #f6f6f6;};\n</style><tr><th></th><th>Type</th><th>Gate error</th></tr><tr><td><font style='font-weight:bold'>cx7_12</font></td><td>cx</td><td>0.02113</td></tr><tr><td><font style='font-weight:bold'>cx8_3</font></td><td>cx</td><td>0.04</td></tr><tr><td><font style='font-weight:bold'>cx8_4</font></td><td>cx</td><td>0.02772</td></tr><tr><td><font style='font-weight:bold'>cx8_7</font></td><td>cx</td><td>0.03691</td></tr><tr><td><font style='font-weight:bold'>cx8_9</font></td><td>cx</td><td>0.02233</td></tr><tr><td><font style='font-weight:bold'>cx8_12</font></td><td>cx</td><td>0.05001</td></tr><tr><td><font style='font-weight:bold'>cx8_13</font></td><td>cx</td><td>0.03028</td></tr><tr><td><font style='font-weight:bold'>cx9_4</font></td><td>cx</td><td>0.03384</td></tr><tr><td><font style='font-weight:bold'>cx9_8</font></td><td>cx</td><td>0.02233</td></tr><tr><td><font style='font-weight:bold'>cx10_5</font></td><td>cx</td><td>0.02643</td></tr><tr><td><font style='font-weight:bold'>cx10_6</font></td><td>cx</td><td>0.01845</td></tr><tr><td><font style='font-weight:bold'>cx10_11</font></td><td>cx</td><td>0.03386</td></tr><tr><td><font style='font-weight:bold'>cx10_15</font></td><td>cx</td><td>0.02773</td></tr><tr><td><font style='font-weight:bold'>cx11_5</font></td><td>cx</td><td>0.03646</td></tr><tr><td><font style='font-weight:bold'>cx11_6</font></td><td>cx</td><td>0.01651</td></tr><tr><td><font style='font-weight:bold'>cx11_10</font></td><td>cx</td><td>0.03386</td></tr><tr><td><font style='font-weight:bold'>cx11_12</font></td><td>cx</td><td>0.04782</td></tr><tr><td><font style='font-weight:bold'>cx11_16</font></td><td>cx</td><td>0.0178</td></tr><tr><td><font style='font-weight:bold'>cx11_17</font></td><td>cx</td><td>0.01799</td></tr><tr><td><font style='font-weight:bold'>cx12_7</font></td><td>cx</td><td>0.02113</td></tr><tr><td><font style='font-weight:bold'>cx12_8</font></td><td>cx</td><td>0.05001</td></tr><tr><td><font style='font-weight:bold'>cx12_11</font></td><td>cx</td><td>0.04782</td></tr><tr><td><font style='font-weight:bold'>cx12_13</font></td><td>cx</td><td>0.03068</td></tr></table>"
      }
     },
     "5ad82147ddac48ee819d5522d66c48c9": {
      "model_module": "@jupyter-widgets/base",
      "model_module_version": "1.2.0",
      "model_name": "LayoutModel",
      "state": {
       "margin": "0px 0px 10px 0px"
      }
     },
     "5b807abb65de4491b949331587545a9c": {
      "model_module": "@jupyter-widgets/controls",
      "model_module_version": "1.5.0",
      "model_name": "DescriptionStyleModel",
      "state": {
       "description_width": ""
      }
     },
     "5e696e539daa48119370fe68294ad17c": {
      "model_module": "@jupyter-widgets/controls",
      "model_module_version": "1.5.0",
      "model_name": "DescriptionStyleModel",
      "state": {
       "description_width": ""
      }
     },
     "5eea0016eb0a4e99920398da07d99de4": {
      "model_module": "@jupyter-widgets/controls",
      "model_module_version": "1.5.0",
      "model_name": "DescriptionStyleModel",
      "state": {
       "description_width": ""
      }
     },
     "5f1d1179cc154792ae44cb12d4b378b0": {
      "model_module": "@jupyter-widgets/base",
      "model_module_version": "1.2.0",
      "model_name": "LayoutModel",
      "state": {
       "grid_area": "right",
       "padding": "0px 0px 0px 0px",
       "width": "70px"
      }
     },
     "5f6e8eb07d554fe8a4f94996cf61433f": {
      "model_module": "@jupyter-widgets/controls",
      "model_module_version": "1.5.0",
      "model_name": "GridBoxModel",
      "state": {
       "children": [
        "IPY_MODEL_d6b728a161854c2ca3d1305e64b05562",
        "IPY_MODEL_6ca9dd03011b487a86f48902f039b930",
        "IPY_MODEL_7decfc2f53a1462cbe69a79f4bbae7f9"
       ],
       "layout": "IPY_MODEL_441a99685d384dd09bff4c6ff3b71a08"
      }
     },
     "606fd4614a2347a4a31013a1c8dea94e": {
      "model_module": "@jupyter-widgets/base",
      "model_module_version": "1.2.0",
      "model_name": "LayoutModel",
      "state": {
       "border": "4px solid #000000",
       "max_height": "650px",
       "min_height": "650px",
       "overflow_y": "hidden"
      }
     },
     "6071ee00bcad4c55b417c1f6fb18bc14": {
      "model_module": "@jupyter-widgets/controls",
      "model_module_version": "1.5.0",
      "model_name": "GridBoxModel",
      "state": {
       "children": [
        "IPY_MODEL_c56a51e2c74242e4a23a5dbb2299c7e2",
        "IPY_MODEL_be1d28abcaef4f0781f15cf3dc6a784b",
        "IPY_MODEL_106a0b7746514663a5d123f6e96f78d1"
       ],
       "layout": "IPY_MODEL_ebad65d483a3442bba62a8bb8e14adb8"
      }
     },
     "60d700b5bfd54da1a2a46791b96523f4": {
      "model_module": "@jupyter-widgets/controls",
      "model_module_version": "1.5.0",
      "model_name": "HTMLModel",
      "state": {
       "layout": "IPY_MODEL_03fefd4e44c348d88838f7b0dc9f15cd",
       "style": "IPY_MODEL_3714bfa289234ea0884758f0b9f5a7d3",
       "value": "<h5>Job ID</h5>"
      }
     },
     "61278a45a24b4430a59ec7fcdd204806": {
      "model_module": "@jupyter-widgets/base",
      "model_module_version": "1.2.0",
      "model_name": "LayoutModel",
      "state": {
       "width": "70px"
      }
     },
     "614e8f4ace26418f9a4ed4a5db561463": {
      "model_module": "@jupyter-widgets/controls",
      "model_module_version": "1.5.0",
      "model_name": "VBoxModel",
      "state": {
       "children": [
        "IPY_MODEL_84a1fb5e56a8498898899f2070e2bae4",
        "IPY_MODEL_bf6db00e729c481fbff50d05f1a6772d"
       ],
       "layout": "IPY_MODEL_eda8598c14c84db191109e99f73140a1"
      }
     },
     "61aba622b2e2450581c13baa084ad41b": {
      "model_module": "@jupyter-widgets/base",
      "model_module_version": "1.2.0",
      "model_name": "LayoutModel",
      "state": {
       "grid_area": "left"
      }
     },
     "6211bea434744cc69187edfd2ceffc88": {
      "model_module": "@jupyter-widgets/controls",
      "model_module_version": "1.5.0",
      "model_name": "DescriptionStyleModel",
      "state": {
       "description_width": ""
      }
     },
     "626f2762f68245b0ae2580a28f651347": {
      "model_module": "@jupyter-widgets/base",
      "model_module_version": "1.2.0",
      "model_name": "LayoutModel",
      "state": {
       "grid_gap": "0px 0px",
       "grid_template_areas": "\n                                                   \"top top top\"\n                                                   \"left middle right\"\n                                                   ",
       "grid_template_columns": "33% 33% 33%",
       "grid_template_rows": "auto auto"
      }
     },
     "62e4019d026c43c5a9c419e6b07e2a73": {
      "model_module": "@jupyter-widgets/base",
      "model_module_version": "1.2.0",
      "model_name": "LayoutModel",
      "state": {
       "grid_area": "right"
      }
     },
     "63676fe645c443d1a3c4ef891e5d6e68": {
      "model_module": "@jupyter-widgets/base",
      "model_module_version": "1.2.0",
      "model_name": "LayoutModel",
      "state": {
       "grid_area": "middle"
      }
     },
     "63c1d55aef2a4edcad0327954626bb30": {
      "model_module": "@jupyter-widgets/controls",
      "model_module_version": "1.5.0",
      "model_name": "HTMLModel",
      "state": {
       "layout": "IPY_MODEL_ceccd34c0e3b48f5a5c9e68e93adb4e0",
       "style": "IPY_MODEL_39931d6bf98c483bb07a77facd7435ec",
       "value": "<p style='font-family: IBM Plex Sans, Arial, Helvetica, sans-serif; font-size: 20px; font-weight: medium;'>Circuit Properties</p>"
      }
     },
     "63f29e3b2afc4cbc8a9847ccdc7f3a27": {
      "model_module": "@jupyter-widgets/controls",
      "model_module_version": "1.5.0",
      "model_name": "DescriptionStyleModel",
      "state": {
       "description_width": ""
      }
     },
     "6423e41c71a6426d80cbd8d9e36eaf8b": {
      "model_module": "@jupyter-widgets/output",
      "model_module_version": "1.0.0",
      "model_name": "OutputModel",
      "state": {
       "layout": "IPY_MODEL_e338a8e0c105455f8e53cb926b188888",
       "outputs": [
        {
         "data": {
          "image/png": "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\n",
          "text/plain": "<Figure size 396x396 with 1 Axes>"
         },
         "metadata": {},
         "output_type": "display_data"
        }
       ]
      }
     },
     "6709d66d857a47fea160267d442c14c4": {
      "model_module": "@jupyter-widgets/controls",
      "model_module_version": "1.5.0",
      "model_name": "HTMLModel",
      "state": {
       "layout": "IPY_MODEL_03f4052e18154148bc78c04db575c825",
       "style": "IPY_MODEL_123b1968af134955b9761ce07629ee29",
       "value": "<table><style>\ntable {\n    border-collapse: collapse;\n    width: auto;\n}\n\nth, td {\n    text-align: left;\n    padding: 8px;\n}\n\ntr:nth-child(even) {background-color: #f6f6f6;};\n</style><tr><th></th><th>Type</th><th>Gate error</th></tr><tr><td><font style='font-weight:bold'>cx0_1</font></td><td>cx</td><td>0.03521</td></tr><tr><td><font style='font-weight:bold'>cx0_5</font></td><td>cx</td><td>0.04987</td></tr><tr><td><font style='font-weight:bold'>cx1_0</font></td><td>cx</td><td>0.03521</td></tr><tr><td><font style='font-weight:bold'>cx1_2</font></td><td>cx</td><td>0.03749</td></tr><tr><td><font style='font-weight:bold'>cx1_6</font></td><td>cx</td><td>0.03428</td></tr><tr><td><font style='font-weight:bold'>cx1_7</font></td><td>cx</td><td>0.06871</td></tr><tr><td><font style='font-weight:bold'>cx2_1</font></td><td>cx</td><td>0.03749</td></tr><tr><td><font style='font-weight:bold'>cx2_6</font></td><td>cx</td><td>0.04026</td></tr><tr><td><font style='font-weight:bold'>cx3_8</font></td><td>cx</td><td>0.04</td></tr><tr><td><font style='font-weight:bold'>cx4_8</font></td><td>cx</td><td>0.02772</td></tr><tr><td><font style='font-weight:bold'>cx4_9</font></td><td>cx</td><td>0.03384</td></tr><tr><td><font style='font-weight:bold'>cx5_0</font></td><td>cx</td><td>0.04987</td></tr><tr><td><font style='font-weight:bold'>cx5_6</font></td><td>cx</td><td>0.02293</td></tr><tr><td><font style='font-weight:bold'>cx5_10</font></td><td>cx</td><td>0.02643</td></tr><tr><td><font style='font-weight:bold'>cx5_11</font></td><td>cx</td><td>0.03646</td></tr><tr><td><font style='font-weight:bold'>cx6_1</font></td><td>cx</td><td>0.03428</td></tr><tr><td><font style='font-weight:bold'>cx6_2</font></td><td>cx</td><td>0.04026</td></tr><tr><td><font style='font-weight:bold'>cx6_5</font></td><td>cx</td><td>0.02293</td></tr><tr><td><font style='font-weight:bold'>cx6_7</font></td><td>cx</td><td>0.03754</td></tr><tr><td><font style='font-weight:bold'>cx6_10</font></td><td>cx</td><td>0.01845</td></tr><tr><td><font style='font-weight:bold'>cx6_11</font></td><td>cx</td><td>0.01651</td></tr><tr><td><font style='font-weight:bold'>cx7_1</font></td><td>cx</td><td>0.06871</td></tr><tr><td><font style='font-weight:bold'>cx7_6</font></td><td>cx</td><td>0.03754</td></tr><tr><td><font style='font-weight:bold'>cx7_8</font></td><td>cx</td><td>0.03691</td></tr></table>"
      }
     },
     "6743ecd568424b478fe1321ccd09f3b0": {
      "model_module": "@jupyter-widgets/controls",
      "model_module_version": "1.5.0",
      "model_name": "DescriptionStyleModel",
      "state": {
       "description_width": ""
      }
     },
     "679bf16aec6740f9b1cfcc7fcd735372": {
      "model_module": "@jupyter-widgets/controls",
      "model_module_version": "1.5.0",
      "model_name": "DescriptionStyleModel",
      "state": {
       "description_width": ""
      }
     },
     "67d86b37cd924ab3aaa144d42b4439b7": {
      "model_module": "@jupyter-widgets/controls",
      "model_module_version": "1.5.0",
      "model_name": "HTMLModel",
      "state": {
       "layout": "IPY_MODEL_bcf6602845804467953b21b90e6c1b3c",
       "style": "IPY_MODEL_58f7eba8b004420d91162769bcf44f62",
       "value": "<div><font style='font-weight:bold'>last_update_date</font>: 2019-08-29 03:57:44+00:00</div>"
      }
     },
     "67ef1a20969b4936acc54ff64bf417bf": {
      "model_module": "@jupyter-widgets/base",
      "model_module_version": "1.2.0",
      "model_name": "LayoutModel",
      "state": {
       "overflow_y": "scroll"
      }
     },
     "6825ffd30bf34a489ae56cec02fb0d3d": {
      "model_module": "@jupyter-widgets/controls",
      "model_module_version": "1.5.0",
      "model_name": "HTMLModel",
      "state": {
       "layout": "IPY_MODEL_374adb6c8df64405aeed1084caf7e802",
       "style": "IPY_MODEL_d5a1ba864afa4b488ecd248f1eb0f43c",
       "value": "<h5>Queue</h5>"
      }
     },
     "68d3c59b9a12464590b6c157351dc52b": {
      "model_module": "@jupyter-widgets/controls",
      "model_module_version": "1.5.0",
      "model_name": "DescriptionStyleModel",
      "state": {
       "description_width": ""
      }
     },
     "69cc10bc0b5241f7a629102e984e6d74": {
      "model_module": "@jupyter-widgets/controls",
      "model_module_version": "1.5.0",
      "model_name": "DescriptionStyleModel",
      "state": {
       "description_width": ""
      }
     },
     "6bf31e18c04749e4ab0aeda52271e6b2": {
      "model_module": "@jupyter-widgets/base",
      "model_module_version": "1.2.0",
      "model_name": "LayoutModel",
      "state": {
       "align_items": "center",
       "display": "flex-inline",
       "grid_area": "right",
       "max_height": "325px",
       "padding": "10px 10px 10px 10px",
       "width": "auto"
      }
     },
     "6c6a8edf1e784acb8aa2558d489208bd": {
      "model_module": "@jupyter-widgets/base",
      "model_module_version": "1.2.0",
      "model_name": "LayoutModel",
      "state": {
       "margin": "0px 0px 0px 0px"
      }
     },
     "6ca9dd03011b487a86f48902f039b930": {
      "model_module": "@jupyter-widgets/output",
      "model_module_version": "1.0.0",
      "model_name": "OutputModel",
      "state": {
       "layout": "IPY_MODEL_eb8907ca0cfd493bbf7798842a62fdc1",
       "outputs": [
        {
         "data": {
          "image/png": "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\n",
          "text/plain": "<Figure size 360x360 with 1 Axes>"
         },
         "metadata": {},
         "output_type": "display_data"
        }
       ]
      }
     },
     "6cc7ef3702c44427997a48ea0be17dca": {
      "model_module": "@jupyter-widgets/controls",
      "model_module_version": "1.5.0",
      "model_name": "DescriptionStyleModel",
      "state": {
       "description_width": ""
      }
     },
     "6d001b31c7a647329c5ae8df91774198": {
      "model_module": "@jupyter-widgets/base",
      "model_module_version": "1.2.0",
      "model_name": "LayoutModel",
      "state": {}
     },
     "6e374a7daacf4594b09f76d9cdc7fc1e": {
      "model_module": "@jupyter-widgets/base",
      "model_module_version": "1.2.0",
      "model_name": "LayoutModel",
      "state": {
       "grid_gap": "0px 0px",
       "grid_template_areas": "\n                                                   \"top top top\"\n                                                   \"left middle right\"\n                                                   ",
       "grid_template_columns": "33% 33% 33%",
       "grid_template_rows": "auto auto"
      }
     },
     "6e52ab4f6fd24ef5b51335e26e4d003e": {
      "model_module": "@jupyter-widgets/controls",
      "model_module_version": "1.5.0",
      "model_name": "HTMLModel",
      "state": {
       "layout": "IPY_MODEL_61aba622b2e2450581c13baa084ad41b",
       "style": "IPY_MODEL_a4985b5a9f60494db9e3a8a000c2484e",
       "value": "<table><style>\ntable {\n    border-collapse: collapse;\n    width: auto;\n}\n\nth, td {\n    text-align: left;\n    padding: 8px;\n}\n\ntr:nth-child(even) {background-color: #f6f6f6;};\n</style><tr><th></th><th>Type</th><th>Gate error</th></tr><tr><td><font style='font-weight:bold'>cx0_1</font></td><td>cx</td><td>0.03521</td></tr><tr><td><font style='font-weight:bold'>cx0_5</font></td><td>cx</td><td>0.04987</td></tr><tr><td><font style='font-weight:bold'>cx1_0</font></td><td>cx</td><td>0.03521</td></tr><tr><td><font style='font-weight:bold'>cx1_2</font></td><td>cx</td><td>0.03749</td></tr><tr><td><font style='font-weight:bold'>cx1_6</font></td><td>cx</td><td>0.03428</td></tr><tr><td><font style='font-weight:bold'>cx1_7</font></td><td>cx</td><td>0.06871</td></tr><tr><td><font style='font-weight:bold'>cx2_1</font></td><td>cx</td><td>0.03749</td></tr><tr><td><font style='font-weight:bold'>cx2_6</font></td><td>cx</td><td>0.04026</td></tr><tr><td><font style='font-weight:bold'>cx3_8</font></td><td>cx</td><td>0.04</td></tr><tr><td><font style='font-weight:bold'>cx4_8</font></td><td>cx</td><td>0.02772</td></tr><tr><td><font style='font-weight:bold'>cx4_9</font></td><td>cx</td><td>0.03384</td></tr><tr><td><font style='font-weight:bold'>cx5_0</font></td><td>cx</td><td>0.04987</td></tr><tr><td><font style='font-weight:bold'>cx5_6</font></td><td>cx</td><td>0.02293</td></tr><tr><td><font style='font-weight:bold'>cx5_10</font></td><td>cx</td><td>0.02643</td></tr><tr><td><font style='font-weight:bold'>cx5_11</font></td><td>cx</td><td>0.03646</td></tr><tr><td><font style='font-weight:bold'>cx6_1</font></td><td>cx</td><td>0.03428</td></tr><tr><td><font style='font-weight:bold'>cx6_2</font></td><td>cx</td><td>0.04026</td></tr><tr><td><font style='font-weight:bold'>cx6_5</font></td><td>cx</td><td>0.02293</td></tr><tr><td><font style='font-weight:bold'>cx6_7</font></td><td>cx</td><td>0.03754</td></tr><tr><td><font style='font-weight:bold'>cx6_10</font></td><td>cx</td><td>0.01845</td></tr><tr><td><font style='font-weight:bold'>cx6_11</font></td><td>cx</td><td>0.01651</td></tr><tr><td><font style='font-weight:bold'>cx7_1</font></td><td>cx</td><td>0.06871</td></tr><tr><td><font style='font-weight:bold'>cx7_6</font></td><td>cx</td><td>0.03754</td></tr><tr><td><font style='font-weight:bold'>cx7_8</font></td><td>cx</td><td>0.03691</td></tr></table>"
      }
     },
     "6e8a89ee66994d52adf3759dfb55ae6b": {
      "model_module": "@jupyter-widgets/controls",
      "model_module_version": "1.5.0",
      "model_name": "DescriptionStyleModel",
      "state": {
       "description_width": ""
      }
     },
     "6ece63d64af64542afc37d0d666f78dd": {
      "model_module": "@jupyter-widgets/base",
      "model_module_version": "1.2.0",
      "model_name": "LayoutModel",
      "state": {
       "grid_area": "top"
      }
     },
     "6f2599117b5541cba87e66c44b41eaa3": {
      "model_module": "@jupyter-widgets/controls",
      "model_module_version": "1.5.0",
      "model_name": "DescriptionStyleModel",
      "state": {
       "description_width": ""
      }
     },
     "6f7f4b8f131c4bddba54d86416f48f27": {
      "model_module": "@jupyter-widgets/controls",
      "model_module_version": "1.5.0",
      "model_name": "HTMLModel",
      "state": {
       "layout": "IPY_MODEL_1a05367d373748109b7e353c1c2720a8",
       "style": "IPY_MODEL_842e52d7a0c94f86aae5d0650ce022f7",
       "value": "<table><style>\ntable {\n    border-collapse: collapse;\n    width: auto;\n}\n\nth, td {\n    text-align: left;\n    padding: 8px;\n}\n\ntr:nth-child(even) {background-color: #f6f6f6;}\n</style><tr><th></th><th>Frequency</th><th>T1</th><th>T2</th><th>U1</th><th>U2</th><th>U3</th><th>Readout error</th></tr><tr><td><font style='font-weight:bold'>Q0</font></td><td>5.02007 GHz</td><td>123.01756 µs</td><td>82.60818 µs</td><td>0.0</td><td>0.00141</td><td>0.00282</td><td>0.06 </td><tr><td><font style='font-weight:bold'>Q1</font></td><td>4.90331 GHz</td><td>69.54337 µs</td><td>10.66094 µs</td><td>0.0</td><td>0.00418</td><td>0.00835</td><td>0.044 </td><tr><td><font style='font-weight:bold'>Q2</font></td><td>4.77786 GHz</td><td>92.53355 µs</td><td>29.11701 µs</td><td>0.0</td><td>0.00525</td><td>0.0105</td><td>0.112 </td><tr><td><font style='font-weight:bold'>Q3</font></td><td>5.0943 GHz</td><td>86.1611 µs</td><td>56.40714 µs</td><td>0.0</td><td>0.00426</td><td>0.00851</td><td>0.044 </td><tr><td><font style='font-weight:bold'>Q4</font></td><td>5.10678 GHz</td><td>107.2344 µs</td><td>21.56334 µs</td><td>0.0</td><td>0.00332</td><td>0.00665</td><td>0.035 </td><tr><td><font style='font-weight:bold'>Q5</font></td><td>5.14327 GHz</td><td>70.37233 µs</td><td>55.37966 µs</td><td>0.0</td><td>0.00256</td><td>0.00512</td><td>0.043 </td><tr><td><font style='font-weight:bold'>Q6</font></td><td>5.03349 GHz</td><td>77.12695 µs</td><td>62.789 µs</td><td>0.0</td><td>0.00086</td><td>0.00171</td><td>0.031 </td><tr><td><font style='font-weight:bold'>Q7</font></td><td>4.45737 GHz</td><td>115.35301 µs</td><td>61.19512 µs</td><td>0.0</td><td>0.00159</td><td>0.00317</td><td>0.189 </td><tr><td><font style='font-weight:bold'>Q8</font></td><td>5.01896 GHz</td><td>118.99757 µs</td><td>79.91584 µs</td><td>0.0</td><td>0.00096</td><td>0.00193</td><td>0.025 </td><tr><td><font style='font-weight:bold'>Q9</font></td><td>5.06523 GHz</td><td>52.51567 µs</td><td>23.81522 µs</td><td>0.0</td><td>0.00289</td><td>0.00578</td><td>0.049 </td><tr><td><font style='font-weight:bold'>Q10</font></td><td>4.95952 GHz</td><td>112.25671 µs</td><td>63.70903 µs</td><td>0.0</td><td>0.00125</td><td>0.00251</td><td>0.102 </td><tr><td><font style='font-weight:bold'>Q11</font></td><td>5.22967 GHz</td><td>73.77756 µs</td><td>62.21013 µs</td><td>0.0</td><td>0.00124</td><td>0.00248</td><td>0.036 </td><tr><td><font style='font-weight:bold'>Q12</font></td><td>4.66357 GHz</td><td>122.45582 µs</td><td>19.07433 µs</td><td>0.0</td><td>0.00181</td><td>0.00361</td><td>0.052 </td><tr><td><font style='font-weight:bold'>Q13</font></td><td>4.8982 GHz</td><td>102.98938 µs</td><td>49.48401 µs</td><td>0.0</td><td>0.00733</td><td>0.01466</td><td>0.043 </td><tr><td><font style='font-weight:bold'>Q14</font></td><td>5.23317 GHz</td><td>61.16598 µs</td><td>68.49908 µs</td><td>0.0</td><td>0.00083</td><td>0.00165</td><td>0.03 </td><tr><td><font style='font-weight:bold'>Q15</font></td><td>4.49111 GHz</td><td>94.2628 µs</td><td>82.00924 µs</td><td>0.0</td><td>0.0009</td><td>0.0018</td><td>0.045 </td><tr><td><font style='font-weight:bold'>Q16</font></td><td>5.07451 GHz</td><td>59.3939 µs</td><td>51.33196 µs</td><td>0.0</td><td>0.0012</td><td>0.00239</td><td>0.101 </td><tr><td><font style='font-weight:bold'>Q17</font></td><td>4.98481 GHz</td><td>75.04496 µs</td><td>58.7663 µs</td><td>0.0</td><td>0.001</td><td>0.00201</td><td>0.061 </td><tr><td><font style='font-weight:bold'>Q18</font></td><td>5.10934 GHz</td><td>76.17653 µs</td><td>48.10762 µs</td><td>0.0</td><td>0.00399</td><td>0.00798</td><td>0.045 </td><tr><td><font style='font-weight:bold'>Q19</font></td><td>5.1245 GHz</td><td>62.09861 µs</td><td>53.07004 µs</td><td>0.0</td><td>0.00242</td><td>0.00484</td><td>0.043 </td></table>"
      }
     },
     "6faad16c79df4ecdb1fadcee3e812079": {
      "model_module": "@jupyter-widgets/controls",
      "model_module_version": "1.5.0",
      "model_name": "HTMLModel",
      "state": {
       "layout": "IPY_MODEL_33dcf8bdab3e46c696a96328395098c0",
       "style": "IPY_MODEL_28e5e989412544649947ac5bb0a069c4",
       "value": "<h1 style='color:#ffffff;background-color:#000000;padding-top: 1%;padding-bottom: 1%;padding-left: 1%; margin-top: 0px'>fake_tokyo</h1>"
      }
     },
     "7028c7864db9474ca4b35f65407391a3": {
      "model_module": "@jupyter-widgets/controls",
      "model_module_version": "1.5.0",
      "model_name": "HTMLModel",
      "state": {
       "layout": "IPY_MODEL_4ea530b4af644683b6227c935557f9ca",
       "style": "IPY_MODEL_9b2d49253d2046509e144fe8c54c0dbc",
       "value": "<table><style>\ntable {\n    border-collapse: collapse;\n    width: auto;\n}\n\nth, td {\n    text-align: left;\n    padding: 8px;\n}\n\ntr:nth-child(even) {background-color: #f6f6f6;};\n</style><tr><th></th><th>Type</th><th>Gate error</th></tr><tr><td><font style='font-weight:bold'>cx7_12</font></td><td>cx</td><td>0.02113</td></tr><tr><td><font style='font-weight:bold'>cx8_3</font></td><td>cx</td><td>0.04</td></tr><tr><td><font style='font-weight:bold'>cx8_4</font></td><td>cx</td><td>0.02772</td></tr><tr><td><font style='font-weight:bold'>cx8_7</font></td><td>cx</td><td>0.03691</td></tr><tr><td><font style='font-weight:bold'>cx8_9</font></td><td>cx</td><td>0.02233</td></tr><tr><td><font style='font-weight:bold'>cx8_12</font></td><td>cx</td><td>0.05001</td></tr><tr><td><font style='font-weight:bold'>cx8_13</font></td><td>cx</td><td>0.03028</td></tr><tr><td><font style='font-weight:bold'>cx9_4</font></td><td>cx</td><td>0.03384</td></tr><tr><td><font style='font-weight:bold'>cx9_8</font></td><td>cx</td><td>0.02233</td></tr><tr><td><font style='font-weight:bold'>cx10_5</font></td><td>cx</td><td>0.02643</td></tr><tr><td><font style='font-weight:bold'>cx10_6</font></td><td>cx</td><td>0.01845</td></tr><tr><td><font style='font-weight:bold'>cx10_11</font></td><td>cx</td><td>0.03386</td></tr><tr><td><font style='font-weight:bold'>cx10_15</font></td><td>cx</td><td>0.02773</td></tr><tr><td><font style='font-weight:bold'>cx11_5</font></td><td>cx</td><td>0.03646</td></tr><tr><td><font style='font-weight:bold'>cx11_6</font></td><td>cx</td><td>0.01651</td></tr><tr><td><font style='font-weight:bold'>cx11_10</font></td><td>cx</td><td>0.03386</td></tr><tr><td><font style='font-weight:bold'>cx11_12</font></td><td>cx</td><td>0.04782</td></tr><tr><td><font style='font-weight:bold'>cx11_16</font></td><td>cx</td><td>0.0178</td></tr><tr><td><font style='font-weight:bold'>cx11_17</font></td><td>cx</td><td>0.01799</td></tr><tr><td><font style='font-weight:bold'>cx12_7</font></td><td>cx</td><td>0.02113</td></tr><tr><td><font style='font-weight:bold'>cx12_8</font></td><td>cx</td><td>0.05001</td></tr><tr><td><font style='font-weight:bold'>cx12_11</font></td><td>cx</td><td>0.04782</td></tr><tr><td><font style='font-weight:bold'>cx12_13</font></td><td>cx</td><td>0.03068</td></tr></table>"
      }
     },
     "7043752ec2a94ca78ceb491aa6869dfe": {
      "model_module": "@jupyter-widgets/controls",
      "model_module_version": "1.5.0",
      "model_name": "HTMLMathModel",
      "state": {
       "layout": "IPY_MODEL_e3afed80e1684b2db1ba945b838306f2",
       "style": "IPY_MODEL_383e17407f044f07adef354c79e83f3e",
       "value": "<table><style>\ntable {\n    border-collapse: collapse;\n    width: auto;\n}\n\nth, td {\n    text-align: left;\n    padding: 8px;\n}\n\ntr:nth-child(even) {background-color: #f6f6f6;}\n</style><tr><th>Property</th><th>Value</th></tr><tr><td><font style='font-weight:bold'>n_qubits</font></td><td>20</td></tr><tr><td><font style='font-weight:bold'>operational</font></td><td>True</td></tr><tr><td><font style='font-weight:bold'>status_msg</font></td><td></td></tr><tr><td><font style='font-weight:bold'>pending_jobs</font></td><td>0</td></tr><tr><td><font style='font-weight:bold'>backend_version</font></td><td>0.0.0</td></tr><tr><td><font style='font-weight:bold'>basis_gates</font></td><td>['u1', 'u2', 'u3', 'cx', 'id']</td></tr><tr><td><font style='font-weight:bold'>max_shots</font></td><td>65536</td></tr><tr><td><font style='font-weight:bold'>max_experiments</font></td><td>900</td></tr></table>"
      }
     },
     "70e9779905bf4d41a07e720f533edfb8": {
      "model_module": "@jupyter-widgets/controls",
      "model_module_version": "1.5.0",
      "model_name": "HTMLModel",
      "state": {
       "layout": "IPY_MODEL_ad4ced66c498448187a5a5cc565e8c71",
       "style": "IPY_MODEL_ec48929241c4447fa1819ce3ea72c429",
       "value": "<h1 style='color:#ffffff;background-color:#000000;padding-top: 1%;padding-bottom: 1%;padding-left: 1%; margin-top: 0px'>fake_tokyo</h1>"
      }
     },
     "71b498b618024cfc910d2ecb58d02f17": {
      "model_module": "@jupyter-widgets/controls",
      "model_module_version": "1.5.0",
      "model_name": "HTMLModel",
      "state": {
       "layout": "IPY_MODEL_9a89433ac25c4461a96c2c83b46f6836",
       "style": "IPY_MODEL_5b807abb65de4491b949331587545a9c",
       "value": "<table><style>\ntable {\n    border-collapse: collapse;\n    width: auto;\n}\n\nth, td {\n    text-align: left;\n    padding: 8px;\n}\n\ntr:nth-child(even) {background-color: #f6f6f6;};\n</style><tr><th></th><th>Type</th><th>Gate error</th></tr><tr><td><font style='font-weight:bold'>cx12_16</font></td><td>cx</td><td>0.02889</td></tr><tr><td><font style='font-weight:bold'>cx13_8</font></td><td>cx</td><td>0.03028</td></tr><tr><td><font style='font-weight:bold'>cx13_12</font></td><td>cx</td><td>0.03068</td></tr><tr><td><font style='font-weight:bold'>cx13_14</font></td><td>cx</td><td>0.03319</td></tr><tr><td><font style='font-weight:bold'>cx13_18</font></td><td>cx</td><td>0.02619</td></tr><tr><td><font style='font-weight:bold'>cx13_19</font></td><td>cx</td><td>0.02739</td></tr><tr><td><font style='font-weight:bold'>cx14_13</font></td><td>cx</td><td>0.03319</td></tr><tr><td><font style='font-weight:bold'>cx14_18</font></td><td>cx</td><td>0.01779</td></tr><tr><td><font style='font-weight:bold'>cx14_19</font></td><td>cx</td><td>0.02085</td></tr><tr><td><font style='font-weight:bold'>cx15_10</font></td><td>cx</td><td>0.02773</td></tr><tr><td><font style='font-weight:bold'>cx15_16</font></td><td>cx</td><td>0.03497</td></tr><tr><td><font style='font-weight:bold'>cx16_11</font></td><td>cx</td><td>0.0178</td></tr><tr><td><font style='font-weight:bold'>cx16_12</font></td><td>cx</td><td>0.02889</td></tr><tr><td><font style='font-weight:bold'>cx16_15</font></td><td>cx</td><td>0.03497</td></tr><tr><td><font style='font-weight:bold'>cx16_17</font></td><td>cx</td><td>0.02143</td></tr><tr><td><font style='font-weight:bold'>cx17_11</font></td><td>cx</td><td>0.01799</td></tr><tr><td><font style='font-weight:bold'>cx17_16</font></td><td>cx</td><td>0.02143</td></tr><tr><td><font style='font-weight:bold'>cx17_18</font></td><td>cx</td><td>0.0228</td></tr><tr><td><font style='font-weight:bold'>cx18_13</font></td><td>cx</td><td>0.02619</td></tr><tr><td><font style='font-weight:bold'>cx18_14</font></td><td>cx</td><td>0.01779</td></tr><tr><td><font style='font-weight:bold'>cx18_17</font></td><td>cx</td><td>0.0228</td></tr><tr><td><font style='font-weight:bold'>cx19_13</font></td><td>cx</td><td>0.02739</td></tr><tr><td><font style='font-weight:bold'>cx19_14</font></td><td>cx</td><td>0.02085</td></tr></table>"
      }
     },
     "727bf2224c454ad1baef8e693791e165": {
      "model_module": "@jupyter-widgets/controls",
      "model_module_version": "1.5.0",
      "model_name": "DescriptionStyleModel",
      "state": {
       "description_width": ""
      }
     },
     "72b8ad43bd08454d986289c278685a33": {
      "model_module": "@jupyter-widgets/controls",
      "model_module_version": "1.5.0",
      "model_name": "HTMLModel",
      "state": {
       "layout": "IPY_MODEL_43cd16a142a645acbd51265efd190a4f",
       "style": "IPY_MODEL_63f29e3b2afc4cbc8a9847ccdc7f3a27",
       "value": "<h5>Backend</h5>"
      }
     },
     "72cd555170394eecbc9d2f4ca7924305": {
      "model_module": "@jupyter-widgets/base",
      "model_module_version": "1.2.0",
      "model_name": "LayoutModel",
      "state": {
       "grid_gap": "0px 0px",
       "grid_template_areas": "\n                               \"left right right right\"\n                               \"bottom bottom bottom bottom\"\n                               ",
       "grid_template_columns": "31% 23% 23% 23%",
       "grid_template_rows": "auto auto"
      }
     },
     "737669241c57480382094470e11212cf": {
      "model_module": "@jupyter-widgets/base",
      "model_module_version": "1.2.0",
      "model_name": "LayoutModel",
      "state": {
       "grid_area": "bottom",
       "width": "auto"
      }
     },
     "74016ee8c81a47039b11b18baae80eab": {
      "model_module": "@jupyter-widgets/controls",
      "model_module_version": "1.5.0",
      "model_name": "DescriptionStyleModel",
      "state": {
       "description_width": ""
      }
     },
     "74aa207021bc4061a2498be47d757256": {
      "model_module": "@jupyter-widgets/controls",
      "model_module_version": "1.5.0",
      "model_name": "TabModel",
      "state": {
       "layout": "IPY_MODEL_fbb30a65a57d4d98b304766eb7879955"
      }
     },
     "767cadc5bed94c4e8f4a86e0fbcaf018": {
      "model_module": "@jupyter-widgets/controls",
      "model_module_version": "1.5.0",
      "model_name": "DescriptionStyleModel",
      "state": {
       "description_width": ""
      }
     },
     "7683df071a174ca0aef301a51b2e09ba": {
      "model_module": "@jupyter-widgets/base",
      "model_module_version": "1.2.0",
      "model_name": "LayoutModel",
      "state": {
       "margin": "0px 0px 0px 37px",
       "width": "600px"
      }
     },
     "77b2b089304f4421b8751c7dd8ad9deb": {
      "model_module": "@jupyter-widgets/controls",
      "model_module_version": "1.5.0",
      "model_name": "GridBoxModel",
      "state": {
       "children": [
        "IPY_MODEL_b6a1d5bf362747c0a3e8ca8bb539fbaf",
        "IPY_MODEL_c8a08b8dd6a5460d903fe96f3d79a4c6",
        "IPY_MODEL_ca0959053e22464cb6a59c961724709c"
       ],
       "layout": "IPY_MODEL_e2ab9e4f64e64186bed75ecb5464c1d5"
      }
     },
     "7a57a5e1bec146e9ba7df70eb9414729": {
      "model_module": "@jupyter-widgets/controls",
      "model_module_version": "1.5.0",
      "model_name": "DescriptionStyleModel",
      "state": {
       "description_width": ""
      }
     },
     "7a9807f314f7428e9f1cd85dbf7e03d4": {
      "model_module": "@jupyter-widgets/controls",
      "model_module_version": "1.5.0",
      "model_name": "HTMLModel",
      "state": {
       "layout": "IPY_MODEL_18afd0bdc17445be8f6640515ef6cd44",
       "style": "IPY_MODEL_348e765435284560a5437dd4dc0e785c",
       "value": "<h5>Job ID</h5>"
      }
     },
     "7aaccc31214c48a5b3ceee205d8af5aa": {
      "model_module": "@jupyter-widgets/controls",
      "model_module_version": "1.5.0",
      "model_name": "HTMLModel",
      "state": {
       "layout": "IPY_MODEL_9a116d5c7dc74e3781bb252bd15163be",
       "style": "IPY_MODEL_6e8a89ee66994d52adf3759dfb55ae6b",
       "value": "<table><style>\ntable {\n    border-collapse: collapse;\n    width: auto;\n}\n\nth, td {\n    text-align: left;\n    padding: 8px;\n}\n\ntr:nth-child(even) {background-color: #f6f6f6;}\n</style><tr><th></th><th>Frequency</th><th>T1</th><th>T2</th><th>U1</th><th>U2</th><th>U3</th><th>Readout error</th></tr><tr><td><font style='font-weight:bold'>Q0</font></td><td>5.02007 GHz</td><td>123.01756 µs</td><td>82.60818 µs</td><td>0.0</td><td>0.00141</td><td>0.00282</td><td>0.06 </td><tr><td><font style='font-weight:bold'>Q1</font></td><td>4.90331 GHz</td><td>69.54337 µs</td><td>10.66094 µs</td><td>0.0</td><td>0.00418</td><td>0.00835</td><td>0.044 </td><tr><td><font style='font-weight:bold'>Q2</font></td><td>4.77786 GHz</td><td>92.53355 µs</td><td>29.11701 µs</td><td>0.0</td><td>0.00525</td><td>0.0105</td><td>0.112 </td><tr><td><font style='font-weight:bold'>Q3</font></td><td>5.0943 GHz</td><td>86.1611 µs</td><td>56.40714 µs</td><td>0.0</td><td>0.00426</td><td>0.00851</td><td>0.044 </td><tr><td><font style='font-weight:bold'>Q4</font></td><td>5.10678 GHz</td><td>107.2344 µs</td><td>21.56334 µs</td><td>0.0</td><td>0.00332</td><td>0.00665</td><td>0.035 </td><tr><td><font style='font-weight:bold'>Q5</font></td><td>5.14327 GHz</td><td>70.37233 µs</td><td>55.37966 µs</td><td>0.0</td><td>0.00256</td><td>0.00512</td><td>0.043 </td><tr><td><font style='font-weight:bold'>Q6</font></td><td>5.03349 GHz</td><td>77.12695 µs</td><td>62.789 µs</td><td>0.0</td><td>0.00086</td><td>0.00171</td><td>0.031 </td><tr><td><font style='font-weight:bold'>Q7</font></td><td>4.45737 GHz</td><td>115.35301 µs</td><td>61.19512 µs</td><td>0.0</td><td>0.00159</td><td>0.00317</td><td>0.189 </td><tr><td><font style='font-weight:bold'>Q8</font></td><td>5.01896 GHz</td><td>118.99757 µs</td><td>79.91584 µs</td><td>0.0</td><td>0.00096</td><td>0.00193</td><td>0.025 </td><tr><td><font style='font-weight:bold'>Q9</font></td><td>5.06523 GHz</td><td>52.51567 µs</td><td>23.81522 µs</td><td>0.0</td><td>0.00289</td><td>0.00578</td><td>0.049 </td><tr><td><font style='font-weight:bold'>Q10</font></td><td>4.95952 GHz</td><td>112.25671 µs</td><td>63.70903 µs</td><td>0.0</td><td>0.00125</td><td>0.00251</td><td>0.102 </td><tr><td><font style='font-weight:bold'>Q11</font></td><td>5.22967 GHz</td><td>73.77756 µs</td><td>62.21013 µs</td><td>0.0</td><td>0.00124</td><td>0.00248</td><td>0.036 </td><tr><td><font style='font-weight:bold'>Q12</font></td><td>4.66357 GHz</td><td>122.45582 µs</td><td>19.07433 µs</td><td>0.0</td><td>0.00181</td><td>0.00361</td><td>0.052 </td><tr><td><font style='font-weight:bold'>Q13</font></td><td>4.8982 GHz</td><td>102.98938 µs</td><td>49.48401 µs</td><td>0.0</td><td>0.00733</td><td>0.01466</td><td>0.043 </td><tr><td><font style='font-weight:bold'>Q14</font></td><td>5.23317 GHz</td><td>61.16598 µs</td><td>68.49908 µs</td><td>0.0</td><td>0.00083</td><td>0.00165</td><td>0.03 </td><tr><td><font style='font-weight:bold'>Q15</font></td><td>4.49111 GHz</td><td>94.2628 µs</td><td>82.00924 µs</td><td>0.0</td><td>0.0009</td><td>0.0018</td><td>0.045 </td><tr><td><font style='font-weight:bold'>Q16</font></td><td>5.07451 GHz</td><td>59.3939 µs</td><td>51.33196 µs</td><td>0.0</td><td>0.0012</td><td>0.00239</td><td>0.101 </td><tr><td><font style='font-weight:bold'>Q17</font></td><td>4.98481 GHz</td><td>75.04496 µs</td><td>58.7663 µs</td><td>0.0</td><td>0.001</td><td>0.00201</td><td>0.061 </td><tr><td><font style='font-weight:bold'>Q18</font></td><td>5.10934 GHz</td><td>76.17653 µs</td><td>48.10762 µs</td><td>0.0</td><td>0.00399</td><td>0.00798</td><td>0.045 </td><tr><td><font style='font-weight:bold'>Q19</font></td><td>5.1245 GHz</td><td>62.09861 µs</td><td>53.07004 µs</td><td>0.0</td><td>0.00242</td><td>0.00484</td><td>0.043 </td></table>"
      }
     },
     "7b16cbb11dd34995889ac7ff27444ccb": {
      "model_module": "@jupyter-widgets/base",
      "model_module_version": "1.2.0",
      "model_name": "LayoutModel",
      "state": {
       "align_items": "center",
       "display": "flex-inline",
       "grid_area": "right",
       "max_height": "325px",
       "padding": "10px 10px 10px 10px",
       "width": "auto"
      }
     },
     "7bb96dbab16e4e29bada3112360a3fa9": {
      "model_module": "@jupyter-widgets/base",
      "model_module_version": "1.2.0",
      "model_name": "LayoutModel",
      "state": {
       "width": "145px"
      }
     },
     "7c8e908a465443d8b5a87191a4e44b7d": {
      "model_module": "@jupyter-widgets/controls",
      "model_module_version": "1.5.0",
      "model_name": "DescriptionStyleModel",
      "state": {
       "description_width": ""
      }
     },
     "7cc6094e25464e29bbbff6217edb95ba": {
      "model_module": "@jupyter-widgets/controls",
      "model_module_version": "1.5.0",
      "model_name": "HTMLModel",
      "state": {
       "layout": "IPY_MODEL_d68c7542d665499099d23fae664fa508",
       "style": "IPY_MODEL_b26ec49acbdb40bc8d9dfbcf5384db38",
       "value": "<table><style>\ntable {\n    border-collapse: collapse;\n    width: auto;\n}\n\nth, td {\n    text-align: left;\n    padding: 8px;\n}\n\ntr:nth-child(even) {background-color: #f6f6f6;};\n</style><tr><th></th><th>Type</th><th>Gate error</th></tr><tr><td><font style='font-weight:bold'>cx7_12</font></td><td>cx</td><td>0.02113</td></tr><tr><td><font style='font-weight:bold'>cx8_3</font></td><td>cx</td><td>0.04</td></tr><tr><td><font style='font-weight:bold'>cx8_4</font></td><td>cx</td><td>0.02772</td></tr><tr><td><font style='font-weight:bold'>cx8_7</font></td><td>cx</td><td>0.03691</td></tr><tr><td><font style='font-weight:bold'>cx8_9</font></td><td>cx</td><td>0.02233</td></tr><tr><td><font style='font-weight:bold'>cx8_12</font></td><td>cx</td><td>0.05001</td></tr><tr><td><font style='font-weight:bold'>cx8_13</font></td><td>cx</td><td>0.03028</td></tr><tr><td><font style='font-weight:bold'>cx9_4</font></td><td>cx</td><td>0.03384</td></tr><tr><td><font style='font-weight:bold'>cx9_8</font></td><td>cx</td><td>0.02233</td></tr><tr><td><font style='font-weight:bold'>cx10_5</font></td><td>cx</td><td>0.02643</td></tr><tr><td><font style='font-weight:bold'>cx10_6</font></td><td>cx</td><td>0.01845</td></tr><tr><td><font style='font-weight:bold'>cx10_11</font></td><td>cx</td><td>0.03386</td></tr><tr><td><font style='font-weight:bold'>cx10_15</font></td><td>cx</td><td>0.02773</td></tr><tr><td><font style='font-weight:bold'>cx11_5</font></td><td>cx</td><td>0.03646</td></tr><tr><td><font style='font-weight:bold'>cx11_6</font></td><td>cx</td><td>0.01651</td></tr><tr><td><font style='font-weight:bold'>cx11_10</font></td><td>cx</td><td>0.03386</td></tr><tr><td><font style='font-weight:bold'>cx11_12</font></td><td>cx</td><td>0.04782</td></tr><tr><td><font style='font-weight:bold'>cx11_16</font></td><td>cx</td><td>0.0178</td></tr><tr><td><font style='font-weight:bold'>cx11_17</font></td><td>cx</td><td>0.01799</td></tr><tr><td><font style='font-weight:bold'>cx12_7</font></td><td>cx</td><td>0.02113</td></tr><tr><td><font style='font-weight:bold'>cx12_8</font></td><td>cx</td><td>0.05001</td></tr><tr><td><font style='font-weight:bold'>cx12_11</font></td><td>cx</td><td>0.04782</td></tr><tr><td><font style='font-weight:bold'>cx12_13</font></td><td>cx</td><td>0.03068</td></tr></table>"
      }
     },
     "7de6e197fde84fbea8aa6ae3eeb60f68": {
      "model_module": "@jupyter-widgets/base",
      "model_module_version": "1.2.0",
      "model_name": "LayoutModel",
      "state": {}
     },
     "7decfc2f53a1462cbe69a79f4bbae7f9": {
      "model_module": "@jupyter-widgets/controls",
      "model_module_version": "1.5.0",
      "model_name": "HTMLMathModel",
      "state": {
       "layout": "IPY_MODEL_e89bbb4bd9c74a129c90c47fd2c7ec96",
       "style": "IPY_MODEL_4db29c0b45ab449dbe68a982929e3ab9",
       "value": "<table><style>\ntable {\n    border-collapse: collapse;\n    width: auto;\n}\n\nth, td {\n    text-align: left;\n    padding: 8px;\n}\n\ntr:nth-child(even) {background-color: #f6f6f6;}\n</style><tr><th></th><th></th></tr><tr><td>open_pulse</td><td>False</td></tr><tr><td>local</td><td>True</td></tr><tr><td>dynamic_reprate_enabled</td><td>False</td></tr><tr><td>simulator</td><td>False</td></tr><tr><td>coupling_map</td><td>[[0, 1], [0, 5], [1, 0], [1, 2], [1, 6], [1, 7], [2, 1], [2, 6], [3, 8], [4, 8], [4, 9], [5, 0], [5, 6], [5, 10], [5, 11], [6, 1], [6, 2], [6, 5], [6, 7], [6, 10], [6, 11], [7, 1], [7, 6], [7, 8], [7, 12], [8, 3], [8, 4], [8, 7], [8, 9], [8, 12], [8, 13], [9, 4], [9, 8], [10, 5], [10, 6], [10, 11], [10, 15], [11, 5], [11, 6], [11, 10], [11, 12], [11, 16], [11, 17], [12, 7], [12, 8], [12, 11], [12, 13], [12, 16], [13, 8], [13, 12], [13, 14], [13, 18], [13, 19], [14, 13], [14, 18], [14, 19], [15, 10], [15, 16], [16, 11], [16, 12], [16, 15], [16, 17], [17, 11], [17, 16], [17, 18], [18, 13], [18, 14], [18, 17], [19, 13], [19, 14]]</td></tr><tr><td>conditional</td><td>False</td></tr><tr><td>backend_name</td><td>fake_tokyo</td></tr><tr><td>memory</td><td>False</td></tr></table>"
      }
     },
     "7e695465fbd34420866d0732123e8e28": {
      "model_module": "@jupyter-widgets/base",
      "model_module_version": "1.2.0",
      "model_name": "LayoutModel",
      "state": {
       "grid_area": "right"
      }
     },
     "7f32c695355b442d9ae6caaf577883ea": {
      "model_module": "@jupyter-widgets/controls",
      "model_module_version": "1.5.0",
      "model_name": "DescriptionStyleModel",
      "state": {
       "description_width": ""
      }
     },
     "7f42698d7241408ab06d764513c116c4": {
      "model_module": "@jupyter-widgets/base",
      "model_module_version": "1.2.0",
      "model_name": "LayoutModel",
      "state": {
       "grid_area": "left"
      }
     },
     "7f9f108b375943088f15bee139b5f971": {
      "model_module": "@jupyter-widgets/controls",
      "model_module_version": "1.5.0",
      "model_name": "HTMLModel",
      "state": {
       "layout": "IPY_MODEL_61278a45a24b4430a59ec7fcdd204806",
       "style": "IPY_MODEL_20168a69eab8474c88d0b57f0863dc05",
       "value": "<h5>Queue</h5>"
      }
     },
     "81a5c94e54e048249b3432655cf6f396": {
      "model_module": "@jupyter-widgets/controls",
      "model_module_version": "1.5.0",
      "model_name": "DescriptionStyleModel",
      "state": {
       "description_width": ""
      }
     },
     "842e52d7a0c94f86aae5d0650ce022f7": {
      "model_module": "@jupyter-widgets/controls",
      "model_module_version": "1.5.0",
      "model_name": "DescriptionStyleModel",
      "state": {
       "description_width": ""
      }
     },
     "847c6702f1e044578ba07c7e7b16d31c": {
      "model_module": "@jupyter-widgets/base",
      "model_module_version": "1.2.0",
      "model_name": "LayoutModel",
      "state": {
       "grid_gap": "0px 0px",
       "grid_template_areas": "\n                                                   \"top top top\"\n                                                   \"left middle right\"\n                                                   ",
       "grid_template_columns": "33% 33% 33%",
       "grid_template_rows": "auto auto"
      }
     },
     "84a15781c6044ee8b99ac0e87e9f1117": {
      "model_module": "@jupyter-widgets/base",
      "model_module_version": "1.2.0",
      "model_name": "LayoutModel",
      "state": {
       "grid_area": "left",
       "width": "100%"
      }
     },
     "84a1fb5e56a8498898899f2070e2bae4": {
      "model_module": "@jupyter-widgets/controls",
      "model_module_version": "1.5.0",
      "model_name": "HTMLModel",
      "state": {
       "layout": "IPY_MODEL_f6f17b53eba24dcaa5075507405ea491",
       "style": "IPY_MODEL_242df9765c2a445fb33efd2520e8d599",
       "value": "<h1 style='color:#ffffff;background-color:#000000;padding-top: 1%;padding-bottom: 1%;padding-left: 1%; margin-top: 0px'>fake_tokyo</h1>"
      }
     },
     "85ec5db9e513409b99b3b2c64803458f": {
      "model_module": "@jupyter-widgets/controls",
      "model_module_version": "1.5.0",
      "model_name": "HTMLMathModel",
      "state": {
       "layout": "IPY_MODEL_84a15781c6044ee8b99ac0e87e9f1117",
       "style": "IPY_MODEL_7a57a5e1bec146e9ba7df70eb9414729",
       "value": "<table><style>\ntable {\n    border-collapse: collapse;\n    width: auto;\n}\n\nth, td {\n    text-align: left;\n    padding: 8px;\n}\n\ntr:nth-child(even) {background-color: #f6f6f6;}\n</style><tr><th>Property</th><th>Value</th></tr><tr><td><font style='font-weight:bold'>n_qubits</font></td><td>20</td></tr><tr><td><font style='font-weight:bold'>operational</font></td><td>True</td></tr><tr><td><font style='font-weight:bold'>status_msg</font></td><td></td></tr><tr><td><font style='font-weight:bold'>pending_jobs</font></td><td>0</td></tr><tr><td><font style='font-weight:bold'>backend_version</font></td><td>0.0.0</td></tr><tr><td><font style='font-weight:bold'>basis_gates</font></td><td>['u1', 'u2', 'u3', 'cx', 'id']</td></tr><tr><td><font style='font-weight:bold'>max_shots</font></td><td>65536</td></tr><tr><td><font style='font-weight:bold'>max_experiments</font></td><td>900</td></tr></table>"
      }
     },
     "8602a2e52ed0415088dd5de6e137fd6f": {
      "model_module": "@jupyter-widgets/base",
      "model_module_version": "1.2.0",
      "model_name": "LayoutModel",
      "state": {
       "width": "190px"
      }
     },
     "8618041b90eb41a4b9a9625d7c721b9b": {
      "model_module": "@jupyter-widgets/controls",
      "model_module_version": "1.5.0",
      "model_name": "HTMLModel",
      "state": {
       "layout": "IPY_MODEL_099a1146247f42ed9210c04fa558152f",
       "style": "IPY_MODEL_767cadc5bed94c4e8f4a86e0fbcaf018",
       "value": "<h5>Message</h5>"
      }
     },
     "884a3ba76d75490292e5015e7e0ca113": {
      "model_module": "@jupyter-widgets/controls",
      "model_module_version": "1.5.0",
      "model_name": "DescriptionStyleModel",
      "state": {
       "description_width": ""
      }
     },
     "8876346b2e334a08a3f835819311779b": {
      "model_module": "@jupyter-widgets/controls",
      "model_module_version": "1.5.0",
      "model_name": "DescriptionStyleModel",
      "state": {
       "description_width": ""
      }
     },
     "89ba143c8ebc40d78864360074051fea": {
      "model_module": "@jupyter-widgets/controls",
      "model_module_version": "1.5.0",
      "model_name": "VBoxModel",
      "state": {
       "children": [
        "IPY_MODEL_565750a6bce44daa8d1a9cf93687efe7",
        "IPY_MODEL_15c3bf91b6e74a3695ef9bf53924d511"
       ],
       "layout": "IPY_MODEL_c6233dde833441bcb0b5ab872300a1e4"
      }
     },
     "8a21a0c59f5d4fa2b7913f2468e4a1c2": {
      "model_module": "@jupyter-widgets/controls",
      "model_module_version": "1.5.0",
      "model_name": "GridBoxModel",
      "state": {
       "children": [
        "IPY_MODEL_406e3ea721e345678380cab5cc848b1a",
        "IPY_MODEL_f547fba75ed343d0b6ff0f5f37db9902",
        "IPY_MODEL_7cc6094e25464e29bbbff6217edb95ba",
        "IPY_MODEL_71b498b618024cfc910d2ecb58d02f17"
       ],
       "layout": "IPY_MODEL_6e374a7daacf4594b09f76d9cdc7fc1e"
      }
     },
     "8af722a3ed3e4b2bacb96390e31ec142": {
      "model_module": "@jupyter-widgets/base",
      "model_module_version": "1.2.0",
      "model_name": "LayoutModel",
      "state": {
       "align_items": "center",
       "display": "flex-inline",
       "grid_area": "right",
       "max_height": "325px",
       "padding": "10px 10px 10px 10px",
       "width": "auto"
      }
     },
     "8b7f06fb3bab412e89b0b5b5ccae30ca": {
      "model_module": "@jupyter-widgets/controls",
      "model_module_version": "1.5.0",
      "model_name": "HTMLModel",
      "state": {
       "layout": "IPY_MODEL_7bb96dbab16e4e29bada3112360a3fa9",
       "style": "IPY_MODEL_2f2e998861f94e8e8455b920363d71a0",
       "value": "<h5>Backend</h5>"
      }
     },
     "8d4c1a60a02b4a8bb65c08c50630c220": {
      "model_module": "@jupyter-widgets/controls",
      "model_module_version": "1.5.0",
      "model_name": "TabModel",
      "state": {
       "_titles": {
        "0": "Configuration",
        "1": "Qubit Properties",
        "2": "Multi-Qubit Gates",
        "3": "Error Map",
        "4": "Job History"
       },
       "children": [
        "IPY_MODEL_5f6e8eb07d554fe8a4f94996cf61433f",
        "IPY_MODEL_e43f9c1b2c8a475a90e4f3d98f9ac661",
        "IPY_MODEL_c1ccc9dd4e684116a0e6e927472ff17e",
        "IPY_MODEL_e376c089054d49589b4b938bad6e71bf",
        "IPY_MODEL_25039a328e7e4fee81b03fa766f65305"
       ],
       "layout": "IPY_MODEL_e06dd99e0a78458cbb935919b28347bb"
      }
     },
     "8e9a4ec706b5431d8d76d823b5543089": {
      "model_module": "@jupyter-widgets/controls",
      "model_module_version": "1.5.0",
      "model_name": "DescriptionStyleModel",
      "state": {
       "description_width": ""
      }
     },
     "8ec096f389664d06b37d56a74898a494": {
      "model_module": "@jupyter-widgets/base",
      "model_module_version": "1.2.0",
      "model_name": "LayoutModel",
      "state": {}
     },
     "8ed4ad72991b451ba6a4c126f09e3704": {
      "model_module": "@jupyter-widgets/base",
      "model_module_version": "1.2.0",
      "model_name": "LayoutModel",
      "state": {
       "align_items": "center",
       "display": "flex-inline",
       "grid_area": "right",
       "max_height": "325px",
       "padding": "10px 10px 10px 10px",
       "width": "auto"
      }
     },
     "8f26e3f12fd34f71a47f9ebfcbaa4d2c": {
      "model_module": "@jupyter-widgets/base",
      "model_module_version": "1.2.0",
      "model_name": "LayoutModel",
      "state": {}
     },
     "8fb93d1359764a0eb1797a948cf97cbf": {
      "model_module": "@jupyter-widgets/base",
      "model_module_version": "1.2.0",
      "model_name": "LayoutModel",
      "state": {
       "margin": "0px 0px 0px 37px",
       "width": "600px"
      }
     },
     "90086f2b38c744ce8abab4df818e73aa": {
      "model_module": "@jupyter-widgets/base",
      "model_module_version": "1.2.0",
      "model_name": "LayoutModel",
      "state": {
       "overflow_y": "scroll"
      }
     },
     "90c940b6a83f49dfb01a31c399742b14": {
      "model_module": "@jupyter-widgets/base",
      "model_module_version": "1.2.0",
      "model_name": "LayoutModel",
      "state": {
       "align_items": "center",
       "display": "flex-inline"
      }
     },
     "91c7abd064c94742ab9c2b7d659a4c96": {
      "model_module": "@jupyter-widgets/base",
      "model_module_version": "1.2.0",
      "model_name": "LayoutModel",
      "state": {
       "grid_area": "top"
      }
     },
     "9212e6d6b2884c55b3a721fded57539a": {
      "model_module": "@jupyter-widgets/controls",
      "model_module_version": "1.5.0",
      "model_name": "TabModel",
      "state": {
       "layout": "IPY_MODEL_44687acf190b4b64886961602844cdfd"
      }
     },
     "92a7958f4eb84ee28f16361362695122": {
      "model_module": "@jupyter-widgets/controls",
      "model_module_version": "1.5.0",
      "model_name": "DescriptionStyleModel",
      "state": {
       "description_width": ""
      }
     },
     "9391629cba82487dbda76697f1d2318d": {
      "model_module": "@jupyter-widgets/controls",
      "model_module_version": "1.5.0",
      "model_name": "GridBoxModel",
      "state": {
       "children": [
        "IPY_MODEL_af86956178ca4438a9bc41d22e5a78be",
        "IPY_MODEL_6e52ab4f6fd24ef5b51335e26e4d003e",
        "IPY_MODEL_7028c7864db9474ca4b35f65407391a3",
        "IPY_MODEL_991b649f1c9d42ee9b3494529b19207d"
       ],
       "layout": "IPY_MODEL_27468a0285e04dd3bcb4e5d37003263d"
      }
     },
     "94a5b88f91f645e98e2cd1ee5bbd4a6f": {
      "model_module": "@jupyter-widgets/base",
      "model_module_version": "1.2.0",
      "model_name": "LayoutModel",
      "state": {}
     },
     "9562896440f043dcab888c50ebd0cff1": {
      "model_module": "@jupyter-widgets/controls",
      "model_module_version": "1.5.0",
      "model_name": "HTMLModel",
      "state": {
       "layout": "IPY_MODEL_e0e23aecff994e3fbf9d2564f5fd3335",
       "style": "IPY_MODEL_a7f76c8c58574d53bb8b39cc5cc4e076",
       "value": "<table><style>\ntable {\n    border-collapse: collapse;\n    width: auto;\n}\n\nth, td {\n    text-align: left;\n    padding: 8px;\n}\n\ntr:nth-child(even) {background-color: #f6f6f6;}\n</style><tr><th></th><th>Frequency</th><th>T1</th><th>T2</th><th>U1</th><th>U2</th><th>U3</th><th>Readout error</th></tr><tr><td><font style='font-weight:bold'>Q0</font></td><td>5.02007 GHz</td><td>123.01756 µs</td><td>82.60818 µs</td><td>0.0</td><td>0.00141</td><td>0.00282</td><td>0.06 </td><tr><td><font style='font-weight:bold'>Q1</font></td><td>4.90331 GHz</td><td>69.54337 µs</td><td>10.66094 µs</td><td>0.0</td><td>0.00418</td><td>0.00835</td><td>0.044 </td><tr><td><font style='font-weight:bold'>Q2</font></td><td>4.77786 GHz</td><td>92.53355 µs</td><td>29.11701 µs</td><td>0.0</td><td>0.00525</td><td>0.0105</td><td>0.112 </td><tr><td><font style='font-weight:bold'>Q3</font></td><td>5.0943 GHz</td><td>86.1611 µs</td><td>56.40714 µs</td><td>0.0</td><td>0.00426</td><td>0.00851</td><td>0.044 </td><tr><td><font style='font-weight:bold'>Q4</font></td><td>5.10678 GHz</td><td>107.2344 µs</td><td>21.56334 µs</td><td>0.0</td><td>0.00332</td><td>0.00665</td><td>0.035 </td><tr><td><font style='font-weight:bold'>Q5</font></td><td>5.14327 GHz</td><td>70.37233 µs</td><td>55.37966 µs</td><td>0.0</td><td>0.00256</td><td>0.00512</td><td>0.043 </td><tr><td><font style='font-weight:bold'>Q6</font></td><td>5.03349 GHz</td><td>77.12695 µs</td><td>62.789 µs</td><td>0.0</td><td>0.00086</td><td>0.00171</td><td>0.031 </td><tr><td><font style='font-weight:bold'>Q7</font></td><td>4.45737 GHz</td><td>115.35301 µs</td><td>61.19512 µs</td><td>0.0</td><td>0.00159</td><td>0.00317</td><td>0.189 </td><tr><td><font style='font-weight:bold'>Q8</font></td><td>5.01896 GHz</td><td>118.99757 µs</td><td>79.91584 µs</td><td>0.0</td><td>0.00096</td><td>0.00193</td><td>0.025 </td><tr><td><font style='font-weight:bold'>Q9</font></td><td>5.06523 GHz</td><td>52.51567 µs</td><td>23.81522 µs</td><td>0.0</td><td>0.00289</td><td>0.00578</td><td>0.049 </td><tr><td><font style='font-weight:bold'>Q10</font></td><td>4.95952 GHz</td><td>112.25671 µs</td><td>63.70903 µs</td><td>0.0</td><td>0.00125</td><td>0.00251</td><td>0.102 </td><tr><td><font style='font-weight:bold'>Q11</font></td><td>5.22967 GHz</td><td>73.77756 µs</td><td>62.21013 µs</td><td>0.0</td><td>0.00124</td><td>0.00248</td><td>0.036 </td><tr><td><font style='font-weight:bold'>Q12</font></td><td>4.66357 GHz</td><td>122.45582 µs</td><td>19.07433 µs</td><td>0.0</td><td>0.00181</td><td>0.00361</td><td>0.052 </td><tr><td><font style='font-weight:bold'>Q13</font></td><td>4.8982 GHz</td><td>102.98938 µs</td><td>49.48401 µs</td><td>0.0</td><td>0.00733</td><td>0.01466</td><td>0.043 </td><tr><td><font style='font-weight:bold'>Q14</font></td><td>5.23317 GHz</td><td>61.16598 µs</td><td>68.49908 µs</td><td>0.0</td><td>0.00083</td><td>0.00165</td><td>0.03 </td><tr><td><font style='font-weight:bold'>Q15</font></td><td>4.49111 GHz</td><td>94.2628 µs</td><td>82.00924 µs</td><td>0.0</td><td>0.0009</td><td>0.0018</td><td>0.045 </td><tr><td><font style='font-weight:bold'>Q16</font></td><td>5.07451 GHz</td><td>59.3939 µs</td><td>51.33196 µs</td><td>0.0</td><td>0.0012</td><td>0.00239</td><td>0.101 </td><tr><td><font style='font-weight:bold'>Q17</font></td><td>4.98481 GHz</td><td>75.04496 µs</td><td>58.7663 µs</td><td>0.0</td><td>0.001</td><td>0.00201</td><td>0.061 </td><tr><td><font style='font-weight:bold'>Q18</font></td><td>5.10934 GHz</td><td>76.17653 µs</td><td>48.10762 µs</td><td>0.0</td><td>0.00399</td><td>0.00798</td><td>0.045 </td><tr><td><font style='font-weight:bold'>Q19</font></td><td>5.1245 GHz</td><td>62.09861 µs</td><td>53.07004 µs</td><td>0.0</td><td>0.00242</td><td>0.00484</td><td>0.043 </td></table>"
      }
     },
     "9596d231402842b5ae4bff138fe193f7": {
      "model_module": "@jupyter-widgets/output",
      "model_module_version": "1.0.0",
      "model_name": "OutputModel",
      "state": {
       "layout": "IPY_MODEL_51f34eb2bd9a4bd9aaf57c5755ff2e8c",
       "outputs": [
        {
         "data": {
          "image/png": "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\n",
          "text/plain": "<Figure size 792x648 with 5 Axes>"
         },
         "metadata": {},
         "output_type": "display_data"
        }
       ]
      }
     },
     "9618ea30244449daba89c936d801c3aa": {
      "model_module": "@jupyter-widgets/base",
      "model_module_version": "1.2.0",
      "model_name": "LayoutModel",
      "state": {
       "grid_area": "top"
      }
     },
     "965d89b25b6d4a34a0362c6bf44d92b6": {
      "model_module": "@jupyter-widgets/controls",
      "model_module_version": "1.5.0",
      "model_name": "DescriptionStyleModel",
      "state": {
       "description_width": ""
      }
     },
     "96bd8ec273df4435b11bc80c58d2419f": {
      "model_module": "@jupyter-widgets/controls",
      "model_module_version": "1.5.0",
      "model_name": "DescriptionStyleModel",
      "state": {
       "description_width": ""
      }
     },
     "9767c3de6b274b56aa7194802327875b": {
      "model_module": "@jupyter-widgets/controls",
      "model_module_version": "1.5.0",
      "model_name": "GridBoxModel",
      "state": {
       "children": [
        "IPY_MODEL_85ec5db9e513409b99b3b2c64803458f",
        "IPY_MODEL_11941c9cdac94278bf1fcd09c7ddffdc",
        "IPY_MODEL_c0b2423e188c418db38cede6505b8e61"
       ],
       "layout": "IPY_MODEL_c82431f88d304912bacdaa0182f95453"
      }
     },
     "9802bfe5ef54424d9bd29bf2f04b2cc8": {
      "model_module": "@jupyter-widgets/base",
      "model_module_version": "1.2.0",
      "model_name": "LayoutModel",
      "state": {}
     },
     "98138c22c5f648f2bbea8c36de46b41c": {
      "model_module": "@jupyter-widgets/output",
      "model_module_version": "1.0.0",
      "model_name": "OutputModel",
      "state": {
       "layout": "IPY_MODEL_8ed4ad72991b451ba6a4c126f09e3704",
       "outputs": [
        {
         "data": {
          "image/png": "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\n",
          "text/plain": "<Figure size 360x360 with 1 Axes>"
         },
         "metadata": {},
         "output_type": "display_data"
        }
       ]
      }
     },
     "985f9303c31f49b3810ed26101c48dc6": {
      "model_module": "@jupyter-widgets/controls",
      "model_module_version": "1.5.0",
      "model_name": "DescriptionStyleModel",
      "state": {
       "description_width": ""
      }
     },
     "988109292cf6479197f2dca39a38336a": {
      "model_module": "@jupyter-widgets/controls",
      "model_module_version": "1.5.0",
      "model_name": "DescriptionStyleModel",
      "state": {
       "description_width": ""
      }
     },
     "991b649f1c9d42ee9b3494529b19207d": {
      "model_module": "@jupyter-widgets/controls",
      "model_module_version": "1.5.0",
      "model_name": "HTMLModel",
      "state": {
       "layout": "IPY_MODEL_069fc43e0d5e4481b40c5b0bd5352899",
       "style": "IPY_MODEL_5eea0016eb0a4e99920398da07d99de4",
       "value": "<table><style>\ntable {\n    border-collapse: collapse;\n    width: auto;\n}\n\nth, td {\n    text-align: left;\n    padding: 8px;\n}\n\ntr:nth-child(even) {background-color: #f6f6f6;};\n</style><tr><th></th><th>Type</th><th>Gate error</th></tr><tr><td><font style='font-weight:bold'>cx12_16</font></td><td>cx</td><td>0.02889</td></tr><tr><td><font style='font-weight:bold'>cx13_8</font></td><td>cx</td><td>0.03028</td></tr><tr><td><font style='font-weight:bold'>cx13_12</font></td><td>cx</td><td>0.03068</td></tr><tr><td><font style='font-weight:bold'>cx13_14</font></td><td>cx</td><td>0.03319</td></tr><tr><td><font style='font-weight:bold'>cx13_18</font></td><td>cx</td><td>0.02619</td></tr><tr><td><font style='font-weight:bold'>cx13_19</font></td><td>cx</td><td>0.02739</td></tr><tr><td><font style='font-weight:bold'>cx14_13</font></td><td>cx</td><td>0.03319</td></tr><tr><td><font style='font-weight:bold'>cx14_18</font></td><td>cx</td><td>0.01779</td></tr><tr><td><font style='font-weight:bold'>cx14_19</font></td><td>cx</td><td>0.02085</td></tr><tr><td><font style='font-weight:bold'>cx15_10</font></td><td>cx</td><td>0.02773</td></tr><tr><td><font style='font-weight:bold'>cx15_16</font></td><td>cx</td><td>0.03497</td></tr><tr><td><font style='font-weight:bold'>cx16_11</font></td><td>cx</td><td>0.0178</td></tr><tr><td><font style='font-weight:bold'>cx16_12</font></td><td>cx</td><td>0.02889</td></tr><tr><td><font style='font-weight:bold'>cx16_15</font></td><td>cx</td><td>0.03497</td></tr><tr><td><font style='font-weight:bold'>cx16_17</font></td><td>cx</td><td>0.02143</td></tr><tr><td><font style='font-weight:bold'>cx17_11</font></td><td>cx</td><td>0.01799</td></tr><tr><td><font style='font-weight:bold'>cx17_16</font></td><td>cx</td><td>0.02143</td></tr><tr><td><font style='font-weight:bold'>cx17_18</font></td><td>cx</td><td>0.0228</td></tr><tr><td><font style='font-weight:bold'>cx18_13</font></td><td>cx</td><td>0.02619</td></tr><tr><td><font style='font-weight:bold'>cx18_14</font></td><td>cx</td><td>0.01779</td></tr><tr><td><font style='font-weight:bold'>cx18_17</font></td><td>cx</td><td>0.0228</td></tr><tr><td><font style='font-weight:bold'>cx19_13</font></td><td>cx</td><td>0.02739</td></tr><tr><td><font style='font-weight:bold'>cx19_14</font></td><td>cx</td><td>0.02085</td></tr></table>"
      }
     },
     "9a116d5c7dc74e3781bb252bd15163be": {
      "model_module": "@jupyter-widgets/base",
      "model_module_version": "1.2.0",
      "model_name": "LayoutModel",
      "state": {}
     },
     "9a89433ac25c4461a96c2c83b46f6836": {
      "model_module": "@jupyter-widgets/base",
      "model_module_version": "1.2.0",
      "model_name": "LayoutModel",
      "state": {
       "grid_area": "right"
      }
     },
     "9b2d49253d2046509e144fe8c54c0dbc": {
      "model_module": "@jupyter-widgets/controls",
      "model_module_version": "1.5.0",
      "model_name": "DescriptionStyleModel",
      "state": {
       "description_width": ""
      }
     },
     "9b5aa17609334dc489522d99ff898c3c": {
      "model_module": "@jupyter-widgets/base",
      "model_module_version": "1.2.0",
      "model_name": "LayoutModel",
      "state": {}
     },
     "9c5208ff678e4d0d8771ee6e0c5f2d61": {
      "model_module": "@jupyter-widgets/base",
      "model_module_version": "1.2.0",
      "model_name": "LayoutModel",
      "state": {
       "align_items": "center",
       "display": "flex-inline",
       "min_height": "400px"
      }
     },
     "9c9587e1bb1d419f9dbc07b66cdfb221": {
      "model_module": "@jupyter-widgets/controls",
      "model_module_version": "1.5.0",
      "model_name": "DescriptionStyleModel",
      "state": {
       "description_width": ""
      }
     },
     "9c9b516657c4404b9dc688d2dc89ffff": {
      "model_module": "@jupyter-widgets/controls",
      "model_module_version": "1.5.0",
      "model_name": "HTMLModel",
      "state": {
       "layout": "IPY_MODEL_c698bc1235e64c8bb3d6d834cd336202",
       "style": "IPY_MODEL_b88fcb3c3b194a1583aa37ceaa52980e",
       "value": "<table><style>\ntable {\n    border-collapse: collapse;\n    width: auto;\n}\n\nth, td {\n    text-align: left;\n    padding: 8px;\n}\n\ntr:nth-child(even) {background-color: #f6f6f6;};\n</style><tr><th></th><th>Type</th><th>Gate error</th></tr><tr><td><font style='font-weight:bold'>cx0_1</font></td><td>cx</td><td>0.03521</td></tr><tr><td><font style='font-weight:bold'>cx0_5</font></td><td>cx</td><td>0.04987</td></tr><tr><td><font style='font-weight:bold'>cx1_0</font></td><td>cx</td><td>0.03521</td></tr><tr><td><font style='font-weight:bold'>cx1_2</font></td><td>cx</td><td>0.03749</td></tr><tr><td><font style='font-weight:bold'>cx1_6</font></td><td>cx</td><td>0.03428</td></tr><tr><td><font style='font-weight:bold'>cx1_7</font></td><td>cx</td><td>0.06871</td></tr><tr><td><font style='font-weight:bold'>cx2_1</font></td><td>cx</td><td>0.03749</td></tr><tr><td><font style='font-weight:bold'>cx2_6</font></td><td>cx</td><td>0.04026</td></tr><tr><td><font style='font-weight:bold'>cx3_8</font></td><td>cx</td><td>0.04</td></tr><tr><td><font style='font-weight:bold'>cx4_8</font></td><td>cx</td><td>0.02772</td></tr><tr><td><font style='font-weight:bold'>cx4_9</font></td><td>cx</td><td>0.03384</td></tr><tr><td><font style='font-weight:bold'>cx5_0</font></td><td>cx</td><td>0.04987</td></tr><tr><td><font style='font-weight:bold'>cx5_6</font></td><td>cx</td><td>0.02293</td></tr><tr><td><font style='font-weight:bold'>cx5_10</font></td><td>cx</td><td>0.02643</td></tr><tr><td><font style='font-weight:bold'>cx5_11</font></td><td>cx</td><td>0.03646</td></tr><tr><td><font style='font-weight:bold'>cx6_1</font></td><td>cx</td><td>0.03428</td></tr><tr><td><font style='font-weight:bold'>cx6_2</font></td><td>cx</td><td>0.04026</td></tr><tr><td><font style='font-weight:bold'>cx6_5</font></td><td>cx</td><td>0.02293</td></tr><tr><td><font style='font-weight:bold'>cx6_7</font></td><td>cx</td><td>0.03754</td></tr><tr><td><font style='font-weight:bold'>cx6_10</font></td><td>cx</td><td>0.01845</td></tr><tr><td><font style='font-weight:bold'>cx6_11</font></td><td>cx</td><td>0.01651</td></tr><tr><td><font style='font-weight:bold'>cx7_1</font></td><td>cx</td><td>0.06871</td></tr><tr><td><font style='font-weight:bold'>cx7_6</font></td><td>cx</td><td>0.03754</td></tr><tr><td><font style='font-weight:bold'>cx7_8</font></td><td>cx</td><td>0.03691</td></tr></table>"
      }
     },
     "9da4b5efb88244f3ae1599da7fa838ad": {
      "model_module": "@jupyter-widgets/base",
      "model_module_version": "1.2.0",
      "model_name": "LayoutModel",
      "state": {}
     },
     "a087c29005814e3a972f4f8362250e54": {
      "model_module": "@jupyter-widgets/controls",
      "model_module_version": "1.5.0",
      "model_name": "HTMLModel",
      "state": {
       "layout": "IPY_MODEL_add878b66db8471b95109e68e9579b35",
       "style": "IPY_MODEL_d8504aa5868e4735b3f17f4738808b11",
       "value": "<h1 style='color:#ffffff;background-color:#000000;padding-top: 1%;padding-bottom: 1%;padding-left: 1%; margin-top: 0px'>fake_tokyo</h1>"
      }
     },
     "a159b48807cc4f4aaa4c0f9beaf88dd6": {
      "model_module": "@jupyter-widgets/controls",
      "model_module_version": "1.5.0",
      "model_name": "GridBoxModel",
      "state": {
       "children": [
        "IPY_MODEL_ffc7221a410e4035ad1631e5cf6bca9e"
       ],
       "layout": "IPY_MODEL_f1b1145cfe5d40d89d74db92a5176409"
      }
     },
     "a1b214567bf2470b942dd58fc9cd614c": {
      "model_module": "@jupyter-widgets/controls",
      "model_module_version": "1.5.0",
      "model_name": "DescriptionStyleModel",
      "state": {
       "description_width": ""
      }
     },
     "a31cf9ba44964b698c86e84d9773a1cf": {
      "model_module": "@jupyter-widgets/controls",
      "model_module_version": "1.5.0",
      "model_name": "TabModel",
      "state": {
       "_titles": {
        "0": "Configuration",
        "1": "Qubit Properties",
        "2": "Multi-Qubit Gates",
        "3": "Error Map",
        "4": "Job History"
       },
       "children": [
        "IPY_MODEL_6071ee00bcad4c55b417c1f6fb18bc14",
        "IPY_MODEL_89ba143c8ebc40d78864360074051fea",
        "IPY_MODEL_048a2d5f62bd46249f0212ba19df4643",
        "IPY_MODEL_341ce13b5605487e8d54b5ba0c4dcfaf",
        "IPY_MODEL_74aa207021bc4061a2498be47d757256"
       ],
       "layout": "IPY_MODEL_90086f2b38c744ce8abab4df818e73aa"
      }
     },
     "a3446c11c5a84d7fb8b0c4b32d321bab": {
      "model_module": "@jupyter-widgets/base",
      "model_module_version": "1.2.0",
      "model_name": "LayoutModel",
      "state": {
       "width": "95px"
      }
     },
     "a4985b5a9f60494db9e3a8a000c2484e": {
      "model_module": "@jupyter-widgets/controls",
      "model_module_version": "1.5.0",
      "model_name": "DescriptionStyleModel",
      "state": {
       "description_width": ""
      }
     },
     "a502486ae0a846848c8f9607033dfb26": {
      "model_module": "@jupyter-widgets/controls",
      "model_module_version": "1.5.0",
      "model_name": "DescriptionStyleModel",
      "state": {
       "description_width": ""
      }
     },
     "a53216a8d0534dc892726f40dc7e4f74": {
      "model_module": "@jupyter-widgets/controls",
      "model_module_version": "1.5.0",
      "model_name": "DescriptionStyleModel",
      "state": {
       "description_width": ""
      }
     },
     "a63b966fb57f4d89b1bf1107504c6c62": {
      "model_module": "@jupyter-widgets/controls",
      "model_module_version": "1.5.0",
      "model_name": "DescriptionStyleModel",
      "state": {
       "description_width": ""
      }
     },
     "a7518f020504480bbf6f0ac9d5ab3acd": {
      "model_module": "@jupyter-widgets/controls",
      "model_module_version": "1.5.0",
      "model_name": "GridBoxModel",
      "state": {
       "children": [
        "IPY_MODEL_67d86b37cd924ab3aaa144d42b4439b7",
        "IPY_MODEL_ce556dfa34314416b44aa027cc29500a",
        "IPY_MODEL_5a04d5ad321848b480bdc22dc26abead",
        "IPY_MODEL_1c39779c748e4bb5a2c91e6c80412cb5"
       ],
       "layout": "IPY_MODEL_4dd6e6d97ad94c93a7a1514a059abe1e"
      }
     },
     "a7577710c7dd4ac4b8fdee67dcb3f657": {
      "model_module": "@jupyter-widgets/controls",
      "model_module_version": "1.5.0",
      "model_name": "DescriptionStyleModel",
      "state": {
       "description_width": ""
      }
     },
     "a75e77900d884c039ee44a0848dff42e": {
      "model_module": "@jupyter-widgets/controls",
      "model_module_version": "1.5.0",
      "model_name": "HTMLModel",
      "state": {
       "layout": "IPY_MODEL_5ad82147ddac48ee819d5522d66c48c9",
       "style": "IPY_MODEL_884a3ba76d75490292e5015e7e0ca113",
       "value": "<p style='font-family: IBM Plex Sans, Arial, Helvetica, sans-serif; font-size: 20px; font-weight: medium;'>Circuit Properties</p>"
      }
     },
     "a7be7536b2cf4f698dd7c856fae2931e": {
      "model_module": "@jupyter-widgets/base",
      "model_module_version": "1.2.0",
      "model_name": "LayoutModel",
      "state": {}
     },
     "a7f76c8c58574d53bb8b39cc5cc4e076": {
      "model_module": "@jupyter-widgets/controls",
      "model_module_version": "1.5.0",
      "model_name": "DescriptionStyleModel",
      "state": {
       "description_width": ""
      }
     },
     "ab90833cb20d47ff810891ce84f4ded3": {
      "model_module": "@jupyter-widgets/output",
      "model_module_version": "1.0.0",
      "model_name": "OutputModel",
      "state": {
       "layout": "IPY_MODEL_6bf31e18c04749e4ab0aeda52271e6b2",
       "outputs": [
        {
         "data": {
          "image/png": "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\n",
          "text/plain": "<Figure size 360x360 with 1 Axes>"
         },
         "metadata": {},
         "output_type": "display_data"
        }
       ]
      }
     },
     "ad4ced66c498448187a5a5cc565e8c71": {
      "model_module": "@jupyter-widgets/base",
      "model_module_version": "1.2.0",
      "model_name": "LayoutModel",
      "state": {
       "margin": "0px 0px 0px 0px"
      }
     },
     "ad7edb4ab1db489fa3a8548836ff64c0": {
      "model_module": "@jupyter-widgets/controls",
      "model_module_version": "1.5.0",
      "model_name": "HTMLModel",
      "state": {
       "layout": "IPY_MODEL_ee8724977c4d4b5cbe32117b76f72522",
       "style": "IPY_MODEL_8876346b2e334a08a3f835819311779b",
       "value": "<h5>Status</h5>"
      }
     },
     "add878b66db8471b95109e68e9579b35": {
      "model_module": "@jupyter-widgets/base",
      "model_module_version": "1.2.0",
      "model_name": "LayoutModel",
      "state": {
       "margin": "0px 0px 0px 0px"
      }
     },
     "ade53ba70cd14b4db76051f2cd6abc36": {
      "model_module": "@jupyter-widgets/output",
      "model_module_version": "1.0.0",
      "model_name": "OutputModel",
      "state": {
       "layout": "IPY_MODEL_04f1bd74d82b4179b045bafe6a0247eb",
       "outputs": [
        {
         "data": {
          "image/png": "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\n",
          "text/plain": "<Figure size 396x396 with 1 Axes>"
         },
         "metadata": {},
         "output_type": "display_data"
        }
       ]
      }
     },
     "af0458cf77ae492f85d607a64d46f690": {
      "model_module": "@jupyter-widgets/base",
      "model_module_version": "1.2.0",
      "model_name": "LayoutModel",
      "state": {
       "grid_area": "bottom",
       "width": "auto"
      }
     },
     "af86956178ca4438a9bc41d22e5a78be": {
      "model_module": "@jupyter-widgets/controls",
      "model_module_version": "1.5.0",
      "model_name": "HTMLModel",
      "state": {
       "layout": "IPY_MODEL_d7929b2c340f42c0b55af4c5efde3110",
       "style": "IPY_MODEL_6cc7ef3702c44427997a48ea0be17dca",
       "value": "<div><font style='font-weight:bold'>last_update_date</font>: 2019-08-29 03:57:44+00:00</div>"
      }
     },
     "b1e7fd3081fa40a6a78ba92b368aa68c": {
      "model_module": "@jupyter-widgets/base",
      "model_module_version": "1.2.0",
      "model_name": "LayoutModel",
      "state": {
       "grid_area": "right"
      }
     },
     "b26ec49acbdb40bc8d9dfbcf5384db38": {
      "model_module": "@jupyter-widgets/controls",
      "model_module_version": "1.5.0",
      "model_name": "DescriptionStyleModel",
      "state": {
       "description_width": ""
      }
     },
     "b2e301a5199b495e834601b7e5de1660": {
      "model_module": "@jupyter-widgets/base",
      "model_module_version": "1.2.0",
      "model_name": "LayoutModel",
      "state": {
       "grid_area": "left"
      }
     },
     "b3945b5e45894c7f8cf4afdd57f902c4": {
      "model_module": "@jupyter-widgets/base",
      "model_module_version": "1.2.0",
      "model_name": "LayoutModel",
      "state": {}
     },
     "b5566d7eb56e47f193a28d865ef668ff": {
      "model_module": "@jupyter-widgets/controls",
      "model_module_version": "1.5.0",
      "model_name": "TabModel",
      "state": {
       "_titles": {
        "0": "Configuration",
        "1": "Qubit Properties",
        "2": "Multi-Qubit Gates",
        "3": "Error Map",
        "4": "Job History"
       },
       "children": [
        "IPY_MODEL_d86a555969b24f87b921a49699347f9c",
        "IPY_MODEL_f5a5f3e19ef94dddae3cfbf8d5da02cb",
        "IPY_MODEL_a7518f020504480bbf6f0ac9d5ab3acd",
        "IPY_MODEL_e8ccdbad0b5446edbf7478b0f6e31b8c",
        "IPY_MODEL_285f114200014c53ae7826807796d9bd"
       ],
       "layout": "IPY_MODEL_215531b49335492abc198b13072bfcb8"
      }
     },
     "b568fb5231d54c45be0c643f3fc2c63a": {
      "model_module": "@jupyter-widgets/controls",
      "model_module_version": "1.5.0",
      "model_name": "DescriptionStyleModel",
      "state": {
       "description_width": ""
      }
     },
     "b640acc1a2734b74af9598f9aef8e6fd": {
      "model_module": "@jupyter-widgets/controls",
      "model_module_version": "1.5.0",
      "model_name": "TabModel",
      "state": {
       "layout": "IPY_MODEL_059c3a3d93ba413db2ca0514adda65fe"
      }
     },
     "b64bcd6b0f3d493ba48b84b0dab48c4c": {
      "model_module": "@jupyter-widgets/base",
      "model_module_version": "1.2.0",
      "model_name": "LayoutModel",
      "state": {
       "grid_gap": "0px 0px",
       "grid_template_areas": "\n                               \"left right right right\"\n                               \"bottom bottom bottom bottom\"\n                               ",
       "grid_template_columns": "31% 23% 23% 23%",
       "grid_template_rows": "auto auto"
      }
     },
     "b6a1d5bf362747c0a3e8ca8bb539fbaf": {
      "model_module": "@jupyter-widgets/controls",
      "model_module_version": "1.5.0",
      "model_name": "HTMLMathModel",
      "state": {
       "layout": "IPY_MODEL_0d089e7b73c34d259dc253b82694e408",
       "style": "IPY_MODEL_147ca316561541b495d5d111bca91d59",
       "value": "<table><style>\ntable {\n    border-collapse: collapse;\n    width: auto;\n}\n\nth, td {\n    text-align: left;\n    padding: 8px;\n}\n\ntr:nth-child(even) {background-color: #f6f6f6;}\n</style><tr><th>Property</th><th>Value</th></tr><tr><td><font style='font-weight:bold'>n_qubits</font></td><td>20</td></tr><tr><td><font style='font-weight:bold'>operational</font></td><td>True</td></tr><tr><td><font style='font-weight:bold'>status_msg</font></td><td></td></tr><tr><td><font style='font-weight:bold'>pending_jobs</font></td><td>0</td></tr><tr><td><font style='font-weight:bold'>backend_version</font></td><td>0.0.0</td></tr><tr><td><font style='font-weight:bold'>basis_gates</font></td><td>['u1', 'u2', 'u3', 'cx', 'id']</td></tr><tr><td><font style='font-weight:bold'>max_shots</font></td><td>65536</td></tr><tr><td><font style='font-weight:bold'>max_experiments</font></td><td>900</td></tr></table>"
      }
     },
     "b88fcb3c3b194a1583aa37ceaa52980e": {
      "model_module": "@jupyter-widgets/controls",
      "model_module_version": "1.5.0",
      "model_name": "DescriptionStyleModel",
      "state": {
       "description_width": ""
      }
     },
     "b89fdf3fb89145a6864b9aeca2ef081c": {
      "model_module": "@jupyter-widgets/base",
      "model_module_version": "1.2.0",
      "model_name": "LayoutModel",
      "state": {
       "grid_area": "right"
      }
     },
     "b8c87a2ace0d45f3ba588af3bcebb8f4": {
      "model_module": "@jupyter-widgets/controls",
      "model_module_version": "1.5.0",
      "model_name": "VBoxModel",
      "state": {
       "children": [
        "IPY_MODEL_fb9b4be56a21412ba5418d8f88a1c6cf",
        "IPY_MODEL_b5566d7eb56e47f193a28d865ef668ff"
       ],
       "layout": "IPY_MODEL_c36ce67ca3ea4171a6749e44ee9f1e9b"
      }
     },
     "b90a43b4a30e4da981d9fb46f7666db2": {
      "model_module": "@jupyter-widgets/controls",
      "model_module_version": "1.5.0",
      "model_name": "DescriptionStyleModel",
      "state": {
       "description_width": ""
      }
     },
     "bb3fd9ceda824a00a5db894ede14b6f0": {
      "model_module": "@jupyter-widgets/controls",
      "model_module_version": "1.5.0",
      "model_name": "HTMLModel",
      "state": {
       "layout": "IPY_MODEL_6ece63d64af64542afc37d0d666f78dd",
       "style": "IPY_MODEL_e1fe485f10a24cbba2b41e581342c127",
       "value": "<div><font style='font-weight:bold'>last_update_date</font>: 2019-08-29 03:57:44+00:00</div>"
      }
     },
     "bcf6602845804467953b21b90e6c1b3c": {
      "model_module": "@jupyter-widgets/base",
      "model_module_version": "1.2.0",
      "model_name": "LayoutModel",
      "state": {
       "grid_area": "top"
      }
     },
     "be1d28abcaef4f0781f15cf3dc6a784b": {
      "model_module": "@jupyter-widgets/output",
      "model_module_version": "1.0.0",
      "model_name": "OutputModel",
      "state": {
       "layout": "IPY_MODEL_8af722a3ed3e4b2bacb96390e31ec142",
       "outputs": [
        {
         "data": {
          "image/png": "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\n",
          "text/plain": "<Figure size 360x360 with 1 Axes>"
         },
         "metadata": {},
         "output_type": "display_data"
        }
       ]
      }
     },
     "be965b143fd944ecacde4a27d3b7b368": {
      "model_module": "@jupyter-widgets/controls",
      "model_module_version": "1.5.0",
      "model_name": "HTMLModel",
      "state": {
       "layout": "IPY_MODEL_f94852dcb4af47e6a266b81df3dc0330",
       "style": "IPY_MODEL_8e9a4ec706b5431d8d76d823b5543089",
       "value": "<table><style>\ntable {\n    border-collapse: collapse;\n    width: auto;\n}\n\nth, td {\n    text-align: left;\n    padding: 8px;\n}\n\ntr:nth-child(even) {background-color: #f6f6f6;}\n</style><tr><th></th><th>Frequency</th><th>T1</th><th>T2</th><th>U1</th><th>U2</th><th>U3</th><th>Readout error</th></tr><tr><td><font style='font-weight:bold'>Q0</font></td><td>5.02007 GHz</td><td>123.01756 µs</td><td>82.60818 µs</td><td>0.0</td><td>0.00141</td><td>0.00282</td><td>0.06 </td><tr><td><font style='font-weight:bold'>Q1</font></td><td>4.90331 GHz</td><td>69.54337 µs</td><td>10.66094 µs</td><td>0.0</td><td>0.00418</td><td>0.00835</td><td>0.044 </td><tr><td><font style='font-weight:bold'>Q2</font></td><td>4.77786 GHz</td><td>92.53355 µs</td><td>29.11701 µs</td><td>0.0</td><td>0.00525</td><td>0.0105</td><td>0.112 </td><tr><td><font style='font-weight:bold'>Q3</font></td><td>5.0943 GHz</td><td>86.1611 µs</td><td>56.40714 µs</td><td>0.0</td><td>0.00426</td><td>0.00851</td><td>0.044 </td><tr><td><font style='font-weight:bold'>Q4</font></td><td>5.10678 GHz</td><td>107.2344 µs</td><td>21.56334 µs</td><td>0.0</td><td>0.00332</td><td>0.00665</td><td>0.035 </td><tr><td><font style='font-weight:bold'>Q5</font></td><td>5.14327 GHz</td><td>70.37233 µs</td><td>55.37966 µs</td><td>0.0</td><td>0.00256</td><td>0.00512</td><td>0.043 </td><tr><td><font style='font-weight:bold'>Q6</font></td><td>5.03349 GHz</td><td>77.12695 µs</td><td>62.789 µs</td><td>0.0</td><td>0.00086</td><td>0.00171</td><td>0.031 </td><tr><td><font style='font-weight:bold'>Q7</font></td><td>4.45737 GHz</td><td>115.35301 µs</td><td>61.19512 µs</td><td>0.0</td><td>0.00159</td><td>0.00317</td><td>0.189 </td><tr><td><font style='font-weight:bold'>Q8</font></td><td>5.01896 GHz</td><td>118.99757 µs</td><td>79.91584 µs</td><td>0.0</td><td>0.00096</td><td>0.00193</td><td>0.025 </td><tr><td><font style='font-weight:bold'>Q9</font></td><td>5.06523 GHz</td><td>52.51567 µs</td><td>23.81522 µs</td><td>0.0</td><td>0.00289</td><td>0.00578</td><td>0.049 </td><tr><td><font style='font-weight:bold'>Q10</font></td><td>4.95952 GHz</td><td>112.25671 µs</td><td>63.70903 µs</td><td>0.0</td><td>0.00125</td><td>0.00251</td><td>0.102 </td><tr><td><font style='font-weight:bold'>Q11</font></td><td>5.22967 GHz</td><td>73.77756 µs</td><td>62.21013 µs</td><td>0.0</td><td>0.00124</td><td>0.00248</td><td>0.036 </td><tr><td><font style='font-weight:bold'>Q12</font></td><td>4.66357 GHz</td><td>122.45582 µs</td><td>19.07433 µs</td><td>0.0</td><td>0.00181</td><td>0.00361</td><td>0.052 </td><tr><td><font style='font-weight:bold'>Q13</font></td><td>4.8982 GHz</td><td>102.98938 µs</td><td>49.48401 µs</td><td>0.0</td><td>0.00733</td><td>0.01466</td><td>0.043 </td><tr><td><font style='font-weight:bold'>Q14</font></td><td>5.23317 GHz</td><td>61.16598 µs</td><td>68.49908 µs</td><td>0.0</td><td>0.00083</td><td>0.00165</td><td>0.03 </td><tr><td><font style='font-weight:bold'>Q15</font></td><td>4.49111 GHz</td><td>94.2628 µs</td><td>82.00924 µs</td><td>0.0</td><td>0.0009</td><td>0.0018</td><td>0.045 </td><tr><td><font style='font-weight:bold'>Q16</font></td><td>5.07451 GHz</td><td>59.3939 µs</td><td>51.33196 µs</td><td>0.0</td><td>0.0012</td><td>0.00239</td><td>0.101 </td><tr><td><font style='font-weight:bold'>Q17</font></td><td>4.98481 GHz</td><td>75.04496 µs</td><td>58.7663 µs</td><td>0.0</td><td>0.001</td><td>0.00201</td><td>0.061 </td><tr><td><font style='font-weight:bold'>Q18</font></td><td>5.10934 GHz</td><td>76.17653 µs</td><td>48.10762 µs</td><td>0.0</td><td>0.00399</td><td>0.00798</td><td>0.045 </td><tr><td><font style='font-weight:bold'>Q19</font></td><td>5.1245 GHz</td><td>62.09861 µs</td><td>53.07004 µs</td><td>0.0</td><td>0.00242</td><td>0.00484</td><td>0.043 </td></table>"
      }
     },
     "bf6db00e729c481fbff50d05f1a6772d": {
      "model_module": "@jupyter-widgets/controls",
      "model_module_version": "1.5.0",
      "model_name": "TabModel",
      "state": {
       "_titles": {
        "0": "Configuration",
        "1": "Qubit Properties",
        "2": "Multi-Qubit Gates",
        "3": "Error Map",
        "4": "Job History"
       },
       "children": [
        "IPY_MODEL_9767c3de6b274b56aa7194802327875b",
        "IPY_MODEL_bf8b80d0a0ee44a28dd44d5252fbdddc",
        "IPY_MODEL_9391629cba82487dbda76697f1d2318d",
        "IPY_MODEL_9596d231402842b5ae4bff138fe193f7",
        "IPY_MODEL_9212e6d6b2884c55b3a721fded57539a"
       ],
       "layout": "IPY_MODEL_5215c2eed2d74a079735f7cb340093f6",
       "selected_index": 3
      }
     },
     "bf8b80d0a0ee44a28dd44d5252fbdddc": {
      "model_module": "@jupyter-widgets/controls",
      "model_module_version": "1.5.0",
      "model_name": "VBoxModel",
      "state": {
       "children": [
        "IPY_MODEL_0fa5db82cd9f46e085d5f07b616f489f",
        "IPY_MODEL_e6e43dca96ee4ecdb629a083aa969823"
       ],
       "layout": "IPY_MODEL_db937b0c29b54c7bbb3fd53c53ad8dc5"
      }
     },
     "c0151345d86c4679b4905c3c46d11b2a": {
      "model_module": "@jupyter-widgets/controls",
      "model_module_version": "1.5.0",
      "model_name": "GridBoxModel",
      "state": {
       "children": [
        "IPY_MODEL_d1aca1530bd94e1e9cad1b518e3369bc",
        "IPY_MODEL_9c9b516657c4404b9dc688d2dc89ffff",
        "IPY_MODEL_1938db0c9cd94af694a4adae162b41fb",
        "IPY_MODEL_363aba27febf4775a7ef65f11412f180"
       ],
       "layout": "IPY_MODEL_847c6702f1e044578ba07c7e7b16d31c"
      }
     },
     "c0b2423e188c418db38cede6505b8e61": {
      "model_module": "@jupyter-widgets/controls",
      "model_module_version": "1.5.0",
      "model_name": "HTMLMathModel",
      "state": {
       "layout": "IPY_MODEL_01a2eb5689ad42dc9d5d2015c52ee54c",
       "style": "IPY_MODEL_a53216a8d0534dc892726f40dc7e4f74",
       "value": "<table><style>\ntable {\n    border-collapse: collapse;\n    width: auto;\n}\n\nth, td {\n    text-align: left;\n    padding: 8px;\n}\n\ntr:nth-child(even) {background-color: #f6f6f6;}\n</style><tr><th></th><th></th></tr><tr><td>simulator</td><td>False</td></tr><tr><td>open_pulse</td><td>False</td></tr><tr><td>dynamic_reprate_enabled</td><td>False</td></tr><tr><td>conditional</td><td>False</td></tr><tr><td>memory</td><td>False</td></tr><tr><td>coupling_map</td><td>[[0, 1], [0, 5], [1, 0], [1, 2], [1, 6], [1, 7], [2, 1], [2, 6], [3, 8], [4, 8], [4, 9], [5, 0], [5, 6], [5, 10], [5, 11], [6, 1], [6, 2], [6, 5], [6, 7], [6, 10], [6, 11], [7, 1], [7, 6], [7, 8], [7, 12], [8, 3], [8, 4], [8, 7], [8, 9], [8, 12], [8, 13], [9, 4], [9, 8], [10, 5], [10, 6], [10, 11], [10, 15], [11, 5], [11, 6], [11, 10], [11, 12], [11, 16], [11, 17], [12, 7], [12, 8], [12, 11], [12, 13], [12, 16], [13, 8], [13, 12], [13, 14], [13, 18], [13, 19], [14, 13], [14, 18], [14, 19], [15, 10], [15, 16], [16, 11], [16, 12], [16, 15], [16, 17], [17, 11], [17, 16], [17, 18], [18, 13], [18, 14], [18, 17], [19, 13], [19, 14]]</td></tr><tr><td>local</td><td>True</td></tr><tr><td>backend_name</td><td>fake_tokyo</td></tr></table>"
      }
     },
     "c12e50e3c078439a90f0f599b22407fd": {
      "model_module": "@jupyter-widgets/base",
      "model_module_version": "1.2.0",
      "model_name": "LayoutModel",
      "state": {
       "width": "145px"
      }
     },
     "c1ccc9dd4e684116a0e6e927472ff17e": {
      "model_module": "@jupyter-widgets/controls",
      "model_module_version": "1.5.0",
      "model_name": "GridBoxModel",
      "state": {
       "children": [
        "IPY_MODEL_bb3fd9ceda824a00a5db894ede14b6f0",
        "IPY_MODEL_6709d66d857a47fea160267d442c14c4",
        "IPY_MODEL_54cdfbfc6f0d4b9598fa30ca9fa65cbc",
        "IPY_MODEL_e82a77e0188b417d83cedc8aafaea5e1"
       ],
       "layout": "IPY_MODEL_626f2762f68245b0ae2580a28f651347"
      }
     },
     "c36ce67ca3ea4171a6749e44ee9f1e9b": {
      "model_module": "@jupyter-widgets/base",
      "model_module_version": "1.2.0",
      "model_name": "LayoutModel",
      "state": {
       "border": "4px solid #000000",
       "max_height": "650px",
       "min_height": "650px",
       "overflow_y": "hidden"
      }
     },
     "c47d81d09b564a77baec4feb183a072d": {
      "model_module": "@jupyter-widgets/controls",
      "model_module_version": "1.5.0",
      "model_name": "HTMLModel",
      "state": {
       "layout": "IPY_MODEL_b2e301a5199b495e834601b7e5de1660",
       "style": "IPY_MODEL_12d7370b0d7548db971b42accf380b29",
       "value": "<table><style>\ntable {\n    border-collapse: collapse;\n    width: auto;\n}\n\nth, td {\n    text-align: left;\n    padding: 8px;\n}\n\ntr:nth-child(even) {background-color: #f6f6f6;};\n</style><tr><th></th><th>Type</th><th>Gate error</th></tr><tr><td><font style='font-weight:bold'>cx0_1</font></td><td>cx</td><td>0.03521</td></tr><tr><td><font style='font-weight:bold'>cx0_5</font></td><td>cx</td><td>0.04987</td></tr><tr><td><font style='font-weight:bold'>cx1_0</font></td><td>cx</td><td>0.03521</td></tr><tr><td><font style='font-weight:bold'>cx1_2</font></td><td>cx</td><td>0.03749</td></tr><tr><td><font style='font-weight:bold'>cx1_6</font></td><td>cx</td><td>0.03428</td></tr><tr><td><font style='font-weight:bold'>cx1_7</font></td><td>cx</td><td>0.06871</td></tr><tr><td><font style='font-weight:bold'>cx2_1</font></td><td>cx</td><td>0.03749</td></tr><tr><td><font style='font-weight:bold'>cx2_6</font></td><td>cx</td><td>0.04026</td></tr><tr><td><font style='font-weight:bold'>cx3_8</font></td><td>cx</td><td>0.04</td></tr><tr><td><font style='font-weight:bold'>cx4_8</font></td><td>cx</td><td>0.02772</td></tr><tr><td><font style='font-weight:bold'>cx4_9</font></td><td>cx</td><td>0.03384</td></tr><tr><td><font style='font-weight:bold'>cx5_0</font></td><td>cx</td><td>0.04987</td></tr><tr><td><font style='font-weight:bold'>cx5_6</font></td><td>cx</td><td>0.02293</td></tr><tr><td><font style='font-weight:bold'>cx5_10</font></td><td>cx</td><td>0.02643</td></tr><tr><td><font style='font-weight:bold'>cx5_11</font></td><td>cx</td><td>0.03646</td></tr><tr><td><font style='font-weight:bold'>cx6_1</font></td><td>cx</td><td>0.03428</td></tr><tr><td><font style='font-weight:bold'>cx6_2</font></td><td>cx</td><td>0.04026</td></tr><tr><td><font style='font-weight:bold'>cx6_5</font></td><td>cx</td><td>0.02293</td></tr><tr><td><font style='font-weight:bold'>cx6_7</font></td><td>cx</td><td>0.03754</td></tr><tr><td><font style='font-weight:bold'>cx6_10</font></td><td>cx</td><td>0.01845</td></tr><tr><td><font style='font-weight:bold'>cx6_11</font></td><td>cx</td><td>0.01651</td></tr><tr><td><font style='font-weight:bold'>cx7_1</font></td><td>cx</td><td>0.06871</td></tr><tr><td><font style='font-weight:bold'>cx7_6</font></td><td>cx</td><td>0.03754</td></tr><tr><td><font style='font-weight:bold'>cx7_8</font></td><td>cx</td><td>0.03691</td></tr></table>"
      }
     },
     "c49a53d698e74fac8992acde55e0802f": {
      "model_module": "@jupyter-widgets/controls",
      "model_module_version": "1.5.0",
      "model_name": "HBoxModel",
      "state": {
       "children": [
        "IPY_MODEL_60d700b5bfd54da1a2a46791b96523f4",
        "IPY_MODEL_8b7f06fb3bab412e89b0b5b5ccae30ca",
        "IPY_MODEL_55ce683f7bcb4d32ad681482374160fd",
        "IPY_MODEL_006ee735afce4aa39f8ff9831de07178",
        "IPY_MODEL_e1f9b71b32c44fff8975e721ed14cb3c"
       ],
       "layout": "IPY_MODEL_105a1c70721b4518b0224de3b558e309"
      }
     },
     "c56a51e2c74242e4a23a5dbb2299c7e2": {
      "model_module": "@jupyter-widgets/controls",
      "model_module_version": "1.5.0",
      "model_name": "HTMLMathModel",
      "state": {
       "layout": "IPY_MODEL_e531993ba24949eb98ba490de443e0f4",
       "style": "IPY_MODEL_5e696e539daa48119370fe68294ad17c",
       "value": "<table><style>\ntable {\n    border-collapse: collapse;\n    width: auto;\n}\n\nth, td {\n    text-align: left;\n    padding: 8px;\n}\n\ntr:nth-child(even) {background-color: #f6f6f6;}\n</style><tr><th>Property</th><th>Value</th></tr><tr><td><font style='font-weight:bold'>n_qubits</font></td><td>20</td></tr><tr><td><font style='font-weight:bold'>operational</font></td><td>True</td></tr><tr><td><font style='font-weight:bold'>status_msg</font></td><td></td></tr><tr><td><font style='font-weight:bold'>pending_jobs</font></td><td>0</td></tr><tr><td><font style='font-weight:bold'>backend_version</font></td><td>0.0.0</td></tr><tr><td><font style='font-weight:bold'>basis_gates</font></td><td>['u1', 'u2', 'u3', 'cx', 'id']</td></tr><tr><td><font style='font-weight:bold'>max_shots</font></td><td>65536</td></tr><tr><td><font style='font-weight:bold'>max_experiments</font></td><td>900</td></tr></table>"
      }
     },
     "c598c622c1084d74a79d0fa07f062e70": {
      "model_module": "@jupyter-widgets/controls",
      "model_module_version": "1.5.0",
      "model_name": "HTMLMathModel",
      "state": {
       "layout": "IPY_MODEL_eed429a98a9a47339347b7e205c8c86b",
       "style": "IPY_MODEL_965d89b25b6d4a34a0362c6bf44d92b6",
       "value": "<table><style>\ntable {\n    border-collapse: collapse;\n    width: auto;\n}\n\nth, td {\n    text-align: left;\n    padding: 8px;\n}\n\ntr:nth-child(even) {background-color: #f6f6f6;}\n</style><tr><th></th><th></th></tr><tr><td>simulator</td><td>False</td></tr><tr><td>open_pulse</td><td>False</td></tr><tr><td>dynamic_reprate_enabled</td><td>False</td></tr><tr><td>conditional</td><td>False</td></tr><tr><td>memory</td><td>False</td></tr><tr><td>coupling_map</td><td>[[0, 1], [0, 5], [1, 0], [1, 2], [1, 6], [1, 7], [2, 1], [2, 6], [3, 8], [4, 8], [4, 9], [5, 0], [5, 6], [5, 10], [5, 11], [6, 1], [6, 2], [6, 5], [6, 7], [6, 10], [6, 11], [7, 1], [7, 6], [7, 8], [7, 12], [8, 3], [8, 4], [8, 7], [8, 9], [8, 12], [8, 13], [9, 4], [9, 8], [10, 5], [10, 6], [10, 11], [10, 15], [11, 5], [11, 6], [11, 10], [11, 12], [11, 16], [11, 17], [12, 7], [12, 8], [12, 11], [12, 13], [12, 16], [13, 8], [13, 12], [13, 14], [13, 18], [13, 19], [14, 13], [14, 18], [14, 19], [15, 10], [15, 16], [16, 11], [16, 12], [16, 15], [16, 17], [17, 11], [17, 16], [17, 18], [18, 13], [18, 14], [18, 17], [19, 13], [19, 14]]</td></tr><tr><td>local</td><td>True</td></tr><tr><td>backend_name</td><td>fake_tokyo</td></tr></table>"
      }
     },
     "c6233dde833441bcb0b5ab872300a1e4": {
      "model_module": "@jupyter-widgets/base",
      "model_module_version": "1.2.0",
      "model_name": "LayoutModel",
      "state": {}
     },
     "c698bc1235e64c8bb3d6d834cd336202": {
      "model_module": "@jupyter-widgets/base",
      "model_module_version": "1.2.0",
      "model_name": "LayoutModel",
      "state": {
       "grid_area": "left"
      }
     },
     "c6a5157891b041bc987d5c2ca6a5563f": {
      "model_module": "@jupyter-widgets/base",
      "model_module_version": "1.2.0",
      "model_name": "LayoutModel",
      "state": {
       "max_height": "620px"
      }
     },
     "c7690fd3638b4aceb0539e0df9e029ec": {
      "model_module": "@jupyter-widgets/base",
      "model_module_version": "1.2.0",
      "model_name": "LayoutModel",
      "state": {
       "align_items": "center",
       "display": "flex-inline"
      }
     },
     "c82431f88d304912bacdaa0182f95453": {
      "model_module": "@jupyter-widgets/base",
      "model_module_version": "1.2.0",
      "model_name": "LayoutModel",
      "state": {
       "grid_gap": "0px 0px",
       "grid_template_areas": "\n                               \"left right right right\"\n                               \"bottom bottom bottom bottom\"\n                               ",
       "grid_template_columns": "31% 23% 23% 23%",
       "grid_template_rows": "auto auto"
      }
     },
     "c8492716862247f59f1985c529ad5981": {
      "model_module": "@jupyter-widgets/controls",
      "model_module_version": "1.5.0",
      "model_name": "HTMLModel",
      "state": {
       "layout": "IPY_MODEL_db4c9babbce8436cbeb8eb0f75342fab",
       "style": "IPY_MODEL_81a5c94e54e048249b3432655cf6f396",
       "value": "<h1 style='color:#ffffff;background-color:#000000;padding-top: 1%;padding-bottom: 1%;padding-left: 1%; margin-top: 0px'>fake_tokyo</h1>"
      }
     },
     "c8a08b8dd6a5460d903fe96f3d79a4c6": {
      "model_module": "@jupyter-widgets/output",
      "model_module_version": "1.0.0",
      "model_name": "OutputModel",
      "state": {
       "layout": "IPY_MODEL_7b16cbb11dd34995889ac7ff27444ccb",
       "outputs": [
        {
         "data": {
          "image/png": "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\n",
          "text/plain": "<Figure size 360x360 with 1 Axes>"
         },
         "metadata": {},
         "output_type": "display_data"
        }
       ]
      }
     },
     "ca0959053e22464cb6a59c961724709c": {
      "model_module": "@jupyter-widgets/controls",
      "model_module_version": "1.5.0",
      "model_name": "HTMLMathModel",
      "state": {
       "layout": "IPY_MODEL_d35c6c74969d4058aea73c598340a74b",
       "style": "IPY_MODEL_fc8bb03a587b4ecfba2abab6611309d8",
       "value": "<table><style>\ntable {\n    border-collapse: collapse;\n    width: auto;\n}\n\nth, td {\n    text-align: left;\n    padding: 8px;\n}\n\ntr:nth-child(even) {background-color: #f6f6f6;}\n</style><tr><th></th><th></th></tr><tr><td>simulator</td><td>False</td></tr><tr><td>open_pulse</td><td>False</td></tr><tr><td>dynamic_reprate_enabled</td><td>False</td></tr><tr><td>conditional</td><td>False</td></tr><tr><td>memory</td><td>False</td></tr><tr><td>coupling_map</td><td>[[0, 1], [0, 5], [1, 0], [1, 2], [1, 6], [1, 7], [2, 1], [2, 6], [3, 8], [4, 8], [4, 9], [5, 0], [5, 6], [5, 10], [5, 11], [6, 1], [6, 2], [6, 5], [6, 7], [6, 10], [6, 11], [7, 1], [7, 6], [7, 8], [7, 12], [8, 3], [8, 4], [8, 7], [8, 9], [8, 12], [8, 13], [9, 4], [9, 8], [10, 5], [10, 6], [10, 11], [10, 15], [11, 5], [11, 6], [11, 10], [11, 12], [11, 16], [11, 17], [12, 7], [12, 8], [12, 11], [12, 13], [12, 16], [13, 8], [13, 12], [13, 14], [13, 18], [13, 19], [14, 13], [14, 18], [14, 19], [15, 10], [15, 16], [16, 11], [16, 12], [16, 15], [16, 17], [17, 11], [17, 16], [17, 18], [18, 13], [18, 14], [18, 17], [19, 13], [19, 14]]</td></tr><tr><td>local</td><td>True</td></tr><tr><td>backend_name</td><td>fake_tokyo</td></tr></table>"
      }
     },
     "cb8645169d6944c694669fb81d6428d0": {
      "model_module": "@jupyter-widgets/base",
      "model_module_version": "1.2.0",
      "model_name": "LayoutModel",
      "state": {
       "margin": "0px 0px 10px 0px"
      }
     },
     "cc3714776ed048f3a55878d9ab5439db": {
      "model_module": "@jupyter-widgets/controls",
      "model_module_version": "1.5.0",
      "model_name": "VBoxModel",
      "state": {
       "children": [
        "IPY_MODEL_c8492716862247f59f1985c529ad5981",
        "IPY_MODEL_34ba1eff661c44bdb40d42813ea4429a"
       ],
       "layout": "IPY_MODEL_02083432ea0440d3b5750cbb68148194"
      }
     },
     "cd5c39070a814d4e85410e4084146c59": {
      "model_module": "@jupyter-widgets/base",
      "model_module_version": "1.2.0",
      "model_name": "LayoutModel",
      "state": {}
     },
     "ce556dfa34314416b44aa027cc29500a": {
      "model_module": "@jupyter-widgets/controls",
      "model_module_version": "1.5.0",
      "model_name": "HTMLModel",
      "state": {
       "layout": "IPY_MODEL_4edb1e70753641b68fdf3d58c475c012",
       "style": "IPY_MODEL_68d3c59b9a12464590b6c157351dc52b",
       "value": "<table><style>\ntable {\n    border-collapse: collapse;\n    width: auto;\n}\n\nth, td {\n    text-align: left;\n    padding: 8px;\n}\n\ntr:nth-child(even) {background-color: #f6f6f6;};\n</style><tr><th></th><th>Type</th><th>Gate error</th></tr><tr><td><font style='font-weight:bold'>cx0_1</font></td><td>cx</td><td>0.03521</td></tr><tr><td><font style='font-weight:bold'>cx0_5</font></td><td>cx</td><td>0.04987</td></tr><tr><td><font style='font-weight:bold'>cx1_0</font></td><td>cx</td><td>0.03521</td></tr><tr><td><font style='font-weight:bold'>cx1_2</font></td><td>cx</td><td>0.03749</td></tr><tr><td><font style='font-weight:bold'>cx1_6</font></td><td>cx</td><td>0.03428</td></tr><tr><td><font style='font-weight:bold'>cx1_7</font></td><td>cx</td><td>0.06871</td></tr><tr><td><font style='font-weight:bold'>cx2_1</font></td><td>cx</td><td>0.03749</td></tr><tr><td><font style='font-weight:bold'>cx2_6</font></td><td>cx</td><td>0.04026</td></tr><tr><td><font style='font-weight:bold'>cx3_8</font></td><td>cx</td><td>0.04</td></tr><tr><td><font style='font-weight:bold'>cx4_8</font></td><td>cx</td><td>0.02772</td></tr><tr><td><font style='font-weight:bold'>cx4_9</font></td><td>cx</td><td>0.03384</td></tr><tr><td><font style='font-weight:bold'>cx5_0</font></td><td>cx</td><td>0.04987</td></tr><tr><td><font style='font-weight:bold'>cx5_6</font></td><td>cx</td><td>0.02293</td></tr><tr><td><font style='font-weight:bold'>cx5_10</font></td><td>cx</td><td>0.02643</td></tr><tr><td><font style='font-weight:bold'>cx5_11</font></td><td>cx</td><td>0.03646</td></tr><tr><td><font style='font-weight:bold'>cx6_1</font></td><td>cx</td><td>0.03428</td></tr><tr><td><font style='font-weight:bold'>cx6_2</font></td><td>cx</td><td>0.04026</td></tr><tr><td><font style='font-weight:bold'>cx6_5</font></td><td>cx</td><td>0.02293</td></tr><tr><td><font style='font-weight:bold'>cx6_7</font></td><td>cx</td><td>0.03754</td></tr><tr><td><font style='font-weight:bold'>cx6_10</font></td><td>cx</td><td>0.01845</td></tr><tr><td><font style='font-weight:bold'>cx6_11</font></td><td>cx</td><td>0.01651</td></tr><tr><td><font style='font-weight:bold'>cx7_1</font></td><td>cx</td><td>0.06871</td></tr><tr><td><font style='font-weight:bold'>cx7_6</font></td><td>cx</td><td>0.03754</td></tr><tr><td><font style='font-weight:bold'>cx7_8</font></td><td>cx</td><td>0.03691</td></tr></table>"
      }
     },
     "ceccd34c0e3b48f5a5c9e68e93adb4e0": {
      "model_module": "@jupyter-widgets/base",
      "model_module_version": "1.2.0",
      "model_name": "LayoutModel",
      "state": {
       "margin": "0px 0px 10px 0px"
      }
     },
     "d070a7c5d85b414c8e2452f488435133": {
      "model_module": "@jupyter-widgets/controls",
      "model_module_version": "1.5.0",
      "model_name": "DescriptionStyleModel",
      "state": {
       "description_width": ""
      }
     },
     "d0b523f4aa31441c85348802654e0696": {
      "model_module": "@jupyter-widgets/controls",
      "model_module_version": "1.5.0",
      "model_name": "GridBoxModel",
      "state": {
       "children": [
        "IPY_MODEL_443bfec842f94f0e801a1bd5c82646bf"
       ],
       "layout": "IPY_MODEL_376e93bfc29b45bea9d1754fff09fb62"
      }
     },
     "d1aca1530bd94e1e9cad1b518e3369bc": {
      "model_module": "@jupyter-widgets/controls",
      "model_module_version": "1.5.0",
      "model_name": "HTMLModel",
      "state": {
       "layout": "IPY_MODEL_9618ea30244449daba89c936d801c3aa",
       "style": "IPY_MODEL_985f9303c31f49b3810ed26101c48dc6",
       "value": "<div><font style='font-weight:bold'>last_update_date</font>: 2019-08-29 03:57:44+00:00</div>"
      }
     },
     "d35c6c74969d4058aea73c598340a74b": {
      "model_module": "@jupyter-widgets/base",
      "model_module_version": "1.2.0",
      "model_name": "LayoutModel",
      "state": {
       "grid_area": "bottom",
       "width": "auto"
      }
     },
     "d48b74b1b0fa48f2a89686af17174878": {
      "model_module": "@jupyter-widgets/controls",
      "model_module_version": "1.5.0",
      "model_name": "HBoxModel",
      "state": {
       "children": [
        "IPY_MODEL_0988c0131f0546b09456e0433feff3c2",
        "IPY_MODEL_297958c32f4b4307840842e603cb205e",
        "IPY_MODEL_5558f1370f354f278640328a01e23066",
        "IPY_MODEL_7f9f108b375943088f15bee139b5f971",
        "IPY_MODEL_8618041b90eb41a4b9a9625d7c721b9b"
       ],
       "layout": "IPY_MODEL_7683df071a174ca0aef301a51b2e09ba"
      }
     },
     "d53fee2a3acb4fc39e303581f96a3f28": {
      "model_module": "@jupyter-widgets/base",
      "model_module_version": "1.2.0",
      "model_name": "LayoutModel",
      "state": {
       "align_items": "center",
       "display": "flex-inline"
      }
     },
     "d58f9631ceae4e32bd6da97b22bf09af": {
      "model_module": "@jupyter-widgets/controls",
      "model_module_version": "1.5.0",
      "model_name": "DescriptionStyleModel",
      "state": {
       "description_width": ""
      }
     },
     "d5a1ba864afa4b488ecd248f1eb0f43c": {
      "model_module": "@jupyter-widgets/controls",
      "model_module_version": "1.5.0",
      "model_name": "DescriptionStyleModel",
      "state": {
       "description_width": ""
      }
     },
     "d68c7542d665499099d23fae664fa508": {
      "model_module": "@jupyter-widgets/base",
      "model_module_version": "1.2.0",
      "model_name": "LayoutModel",
      "state": {
       "grid_area": "middle"
      }
     },
     "d6b728a161854c2ca3d1305e64b05562": {
      "model_module": "@jupyter-widgets/controls",
      "model_module_version": "1.5.0",
      "model_name": "HTMLMathModel",
      "state": {
       "layout": "IPY_MODEL_f9049498018e417aa444bc82569933a0",
       "style": "IPY_MODEL_a63b966fb57f4d89b1bf1107504c6c62",
       "value": "<table><style>\ntable {\n    border-collapse: collapse;\n    width: auto;\n}\n\nth, td {\n    text-align: left;\n    padding: 8px;\n}\n\ntr:nth-child(even) {background-color: #f6f6f6;}\n</style><tr><th>Property</th><th>Value</th></tr><tr><td><font style='font-weight:bold'>n_qubits</font></td><td>20</td></tr><tr><td><font style='font-weight:bold'>operational</font></td><td>True</td></tr><tr><td><font style='font-weight:bold'>status_msg</font></td><td></td></tr><tr><td><font style='font-weight:bold'>pending_jobs</font></td><td>0</td></tr><tr><td><font style='font-weight:bold'>backend_version</font></td><td>0.0.0</td></tr><tr><td><font style='font-weight:bold'>basis_gates</font></td><td>['u1', 'u2', 'u3', 'cx', 'id']</td></tr><tr><td><font style='font-weight:bold'>max_shots</font></td><td>65536</td></tr><tr><td><font style='font-weight:bold'>max_experiments</font></td><td>900</td></tr></table>"
      }
     },
     "d6c83bd5111044fa8f904d0534262b3b": {
      "model_module": "@quantum/ibm-q-lab-widgets",
      "model_module_version": "^1.0.3",
      "model_name": "CircuitComposerModel",
      "state": {
       "_model_module_version": "^1.0.3",
       "_view_module_version": "^1.0.3",
       "circuit": "\"OPENQASM 2.0;\\ninclude \\\"qelib1.inc\\\";\\n\\nqreg q[20];\\ncreg output[4];\\n\\nu(pi/2,0,pi) q[1];\\ncx q[1],q[0];\\ncx q[1],q[2];\\ncx q[0],q[5];\\ncx q[1],q[6];\\ncx q[6],q[1];\\nu(pi/2,0,pi) q[1];\\ncx q[1],q[0];\\nu(pi/2,0,pi) q[11];\\ncx q[11],q[6];\\ncx q[11],q[10];\\ncx q[6],q[5];\\ncx q[10],q[5];\\ncx q[6],q[2];\\ncx q[2],q[6];\\ncx q[6],q[2];\\ncx q[1],q[6];\\ncx q[1],q[2];\\nu(pi/2,0,pi) q[1];\\ncx q[11],q[12];\\ncx q[12],q[11];\\nu(pi/2,0,pi) q[11];\\ncx q[12],q[7];\\ncx q[6],q[11];\\ncx q[11],q[6];\\ncx q[6],q[11];\\ncx q[11],q[12];\\ncx q[12],q[11];\\ncx q[11],q[12];\\ncx q[6],q[2];\\ncx q[6],q[10];\\ncx q[5],q[6];\\ncx q[6],q[5];\\ncx q[5],q[6];\\ncx q[5],q[11];\\nu(pi/2,0,pi) q[5];\\nbarrier q[0],q[1],q[12],q[3],q[4],q[6],q[2],q[7],q[8],q[9],q[10],q[5],q[11],q[13],q[14],q[15],q[16],q[17],q[18],q[19];\\nmeasure q[1] -> output[0];\\nmeasure q[6] -> output[1];\\nmeasure q[7] -> output[2];\\nmeasure q[5] -> output[3];\"",
       "editable": true,
       "layout": "IPY_MODEL_7de6e197fde84fbea8aa6ae3eeb60f68",
       "qiskit_code_cell_index": -1
      }
     },
     "d7929b2c340f42c0b55af4c5efde3110": {
      "model_module": "@jupyter-widgets/base",
      "model_module_version": "1.2.0",
      "model_name": "LayoutModel",
      "state": {
       "grid_area": "top"
      }
     },
     "d8504aa5868e4735b3f17f4738808b11": {
      "model_module": "@jupyter-widgets/controls",
      "model_module_version": "1.5.0",
      "model_name": "DescriptionStyleModel",
      "state": {
       "description_width": ""
      }
     },
     "d86a555969b24f87b921a49699347f9c": {
      "model_module": "@jupyter-widgets/controls",
      "model_module_version": "1.5.0",
      "model_name": "GridBoxModel",
      "state": {
       "children": [
        "IPY_MODEL_28b5d190cdf44f4db5790a6abeebc0b1",
        "IPY_MODEL_98138c22c5f648f2bbea8c36de46b41c",
        "IPY_MODEL_e8c7abcfc9d14edc9a24c4a83f57aa0a"
       ],
       "layout": "IPY_MODEL_72cd555170394eecbc9d2f4ca7924305"
      }
     },
     "d8dcd8cff402467e8f26372683b59242": {
      "model_module": "@jupyter-widgets/base",
      "model_module_version": "1.2.0",
      "model_name": "LayoutModel",
      "state": {
       "grid_gap": "0px 0px",
       "grid_template_areas": "\n                                                   \"top top top\"\n                                                   \"left middle right\"\n                                                   ",
       "grid_template_columns": "33% 33% 33%",
       "grid_template_rows": "auto auto"
      }
     },
     "d9a7f5fb0e4f46c093a205c42a793c24": {
      "model_module": "@jupyter-widgets/controls",
      "model_module_version": "1.5.0",
      "model_name": "VBoxModel",
      "state": {
       "children": [
        "IPY_MODEL_6faad16c79df4ecdb1fadcee3e812079",
        "IPY_MODEL_27520c152e1a483b83c0e4deedfc77ec"
       ],
       "layout": "IPY_MODEL_da01c221808f4df5a445d170c1e300ce"
      }
     },
     "da01c221808f4df5a445d170c1e300ce": {
      "model_module": "@jupyter-widgets/base",
      "model_module_version": "1.2.0",
      "model_name": "LayoutModel",
      "state": {
       "border": "4px solid #000000",
       "max_height": "650px",
       "min_height": "650px",
       "overflow_y": "hidden"
      }
     },
     "db4c9babbce8436cbeb8eb0f75342fab": {
      "model_module": "@jupyter-widgets/base",
      "model_module_version": "1.2.0",
      "model_name": "LayoutModel",
      "state": {
       "margin": "0px 0px 0px 0px"
      }
     },
     "db937b0c29b54c7bbb3fd53c53ad8dc5": {
      "model_module": "@jupyter-widgets/base",
      "model_module_version": "1.2.0",
      "model_name": "LayoutModel",
      "state": {}
     },
     "de0a1fde491c4337941f05db569d1c16": {
      "model_module": "@jupyter-widgets/base",
      "model_module_version": "1.2.0",
      "model_name": "LayoutModel",
      "state": {
       "grid_area": "middle"
      }
     },
     "dee263e0f2cb468294898c8d4d5840b8": {
      "model_module": "@jupyter-widgets/base",
      "model_module_version": "1.2.0",
      "model_name": "LayoutModel",
      "state": {
       "grid_area": "right",
       "padding": "0px 0px 0px 0px",
       "width": "70px"
      }
     },
     "defdf8bc51e34efb97e55fb5fef8d75d": {
      "model_module": "@jupyter-widgets/controls",
      "model_module_version": "1.5.0",
      "model_name": "DescriptionStyleModel",
      "state": {
       "description_width": ""
      }
     },
     "e053940d79594d88a8c8f1abe983edff": {
      "model_module": "@jupyter-widgets/base",
      "model_module_version": "1.2.0",
      "model_name": "LayoutModel",
      "state": {
       "max_height": "620px"
      }
     },
     "e06dd99e0a78458cbb935919b28347bb": {
      "model_module": "@jupyter-widgets/base",
      "model_module_version": "1.2.0",
      "model_name": "LayoutModel",
      "state": {
       "overflow_y": "scroll"
      }
     },
     "e0e23aecff994e3fbf9d2564f5fd3335": {
      "model_module": "@jupyter-widgets/base",
      "model_module_version": "1.2.0",
      "model_name": "LayoutModel",
      "state": {}
     },
     "e1f9b71b32c44fff8975e721ed14cb3c": {
      "model_module": "@jupyter-widgets/controls",
      "model_module_version": "1.5.0",
      "model_name": "HTMLModel",
      "state": {
       "layout": "IPY_MODEL_9da4b5efb88244f3ae1599da7fa838ad",
       "style": "IPY_MODEL_262bacb7a7204613bd3d1d4565f1a3dc",
       "value": "<h5>Message</h5>"
      }
     },
     "e1fe485f10a24cbba2b41e581342c127": {
      "model_module": "@jupyter-widgets/controls",
      "model_module_version": "1.5.0",
      "model_name": "DescriptionStyleModel",
      "state": {
       "description_width": ""
      }
     },
     "e2ab9e4f64e64186bed75ecb5464c1d5": {
      "model_module": "@jupyter-widgets/base",
      "model_module_version": "1.2.0",
      "model_name": "LayoutModel",
      "state": {
       "grid_gap": "0px 0px",
       "grid_template_areas": "\n                               \"left right right right\"\n                               \"bottom bottom bottom bottom\"\n                               ",
       "grid_template_columns": "31% 23% 23% 23%",
       "grid_template_rows": "auto auto"
      }
     },
     "e30b56c5937e416ca22b2755a2e8b8b0": {
      "model_module": "@jupyter-widgets/controls",
      "model_module_version": "1.5.0",
      "model_name": "ButtonStyleModel",
      "state": {}
     },
     "e338a8e0c105455f8e53cb926b188888": {
      "model_module": "@jupyter-widgets/base",
      "model_module_version": "1.2.0",
      "model_name": "LayoutModel",
      "state": {
       "align_items": "center",
       "display": "flex-inline",
       "min_height": "400px"
      }
     },
     "e376c089054d49589b4b938bad6e71bf": {
      "model_module": "@jupyter-widgets/output",
      "model_module_version": "1.0.0",
      "model_name": "OutputModel",
      "state": {
       "layout": "IPY_MODEL_d53fee2a3acb4fc39e303581f96a3f28",
       "outputs": [
        {
         "data": {
          "image/png": "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\n",
          "text/plain": "<Figure size 792x648 with 5 Axes>"
         },
         "metadata": {},
         "output_type": "display_data"
        }
       ]
      }
     },
     "e3afed80e1684b2db1ba945b838306f2": {
      "model_module": "@jupyter-widgets/base",
      "model_module_version": "1.2.0",
      "model_name": "LayoutModel",
      "state": {
       "grid_area": "left",
       "width": "100%"
      }
     },
     "e43f9c1b2c8a475a90e4f3d98f9ac661": {
      "model_module": "@jupyter-widgets/controls",
      "model_module_version": "1.5.0",
      "model_name": "VBoxModel",
      "state": {
       "children": [
        "IPY_MODEL_f2362c14ed30440186443ef80a11b51e",
        "IPY_MODEL_7aaccc31214c48a5b3ceee205d8af5aa"
       ],
       "layout": "IPY_MODEL_1c4563c8edc34219b54a7f0f5746f10d"
      }
     },
     "e446dc47f83e480db3a6f09cc7603590": {
      "model_module": "@jupyter-widgets/controls",
      "model_module_version": "1.5.0",
      "model_name": "VBoxModel",
      "state": {
       "children": [
        "IPY_MODEL_3ace54d407c341b8abeea9a4915fb66b",
        "IPY_MODEL_6f7f4b8f131c4bddba54d86416f48f27"
       ],
       "layout": "IPY_MODEL_94a5b88f91f645e98e2cd1ee5bbd4a6f"
      }
     },
     "e531993ba24949eb98ba490de443e0f4": {
      "model_module": "@jupyter-widgets/base",
      "model_module_version": "1.2.0",
      "model_name": "LayoutModel",
      "state": {
       "grid_area": "left",
       "width": "100%"
      }
     },
     "e61f18cd6f1648adba2820a3850d3aee": {
      "model_module": "@jupyter-widgets/base",
      "model_module_version": "1.2.0",
      "model_name": "LayoutModel",
      "state": {
       "align_items": "center",
       "display": "flex-inline"
      }
     },
     "e62c8f1faf47490192ce1c483e2c685e": {
      "model_module": "@jupyter-widgets/output",
      "model_module_version": "1.0.0",
      "model_name": "OutputModel",
      "state": {
       "layout": "IPY_MODEL_9c5208ff678e4d0d8771ee6e0c5f2d61",
       "outputs": [
        {
         "name": "stderr",
         "output_type": "stream",
         "text": "/opt/conda/lib/python3.8/site-packages/qiskit/tools/jupyter/backend_monitor.py:568: MatplotlibDeprecationWarning: normalize=None does not normalize if the sum is less than 1 but this behavior is deprecated since 3.3 until two minor releases later. After the deprecation period the default value will be normalize=True. To prevent normalization pass normalize=False \n  ax.pie(nz_bins[::-1], labels=labels, colors=colors, textprops={'fontsize': 14},\n"
        },
        {
         "data": {
          "image/png": "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\n",
          "text/plain": "<Figure size 396x396 with 1 Axes>"
         },
         "metadata": {},
         "output_type": "display_data"
        }
       ]
      }
     },
     "e6e43dca96ee4ecdb629a083aa969823": {
      "model_module": "@jupyter-widgets/controls",
      "model_module_version": "1.5.0",
      "model_name": "HTMLModel",
      "state": {
       "layout": "IPY_MODEL_a7be7536b2cf4f698dd7c856fae2931e",
       "style": "IPY_MODEL_074614c6bd954225a4c8b76b7e56036a",
       "value": "<table><style>\ntable {\n    border-collapse: collapse;\n    width: auto;\n}\n\nth, td {\n    text-align: left;\n    padding: 8px;\n}\n\ntr:nth-child(even) {background-color: #f6f6f6;}\n</style><tr><th></th><th>Frequency</th><th>T1</th><th>T2</th><th>U1</th><th>U2</th><th>U3</th><th>Readout error</th></tr><tr><td><font style='font-weight:bold'>Q0</font></td><td>5.02007 GHz</td><td>123.01756 µs</td><td>82.60818 µs</td><td>0.0</td><td>0.00141</td><td>0.00282</td><td>0.06 </td><tr><td><font style='font-weight:bold'>Q1</font></td><td>4.90331 GHz</td><td>69.54337 µs</td><td>10.66094 µs</td><td>0.0</td><td>0.00418</td><td>0.00835</td><td>0.044 </td><tr><td><font style='font-weight:bold'>Q2</font></td><td>4.77786 GHz</td><td>92.53355 µs</td><td>29.11701 µs</td><td>0.0</td><td>0.00525</td><td>0.0105</td><td>0.112 </td><tr><td><font style='font-weight:bold'>Q3</font></td><td>5.0943 GHz</td><td>86.1611 µs</td><td>56.40714 µs</td><td>0.0</td><td>0.00426</td><td>0.00851</td><td>0.044 </td><tr><td><font style='font-weight:bold'>Q4</font></td><td>5.10678 GHz</td><td>107.2344 µs</td><td>21.56334 µs</td><td>0.0</td><td>0.00332</td><td>0.00665</td><td>0.035 </td><tr><td><font style='font-weight:bold'>Q5</font></td><td>5.14327 GHz</td><td>70.37233 µs</td><td>55.37966 µs</td><td>0.0</td><td>0.00256</td><td>0.00512</td><td>0.043 </td><tr><td><font style='font-weight:bold'>Q6</font></td><td>5.03349 GHz</td><td>77.12695 µs</td><td>62.789 µs</td><td>0.0</td><td>0.00086</td><td>0.00171</td><td>0.031 </td><tr><td><font style='font-weight:bold'>Q7</font></td><td>4.45737 GHz</td><td>115.35301 µs</td><td>61.19512 µs</td><td>0.0</td><td>0.00159</td><td>0.00317</td><td>0.189 </td><tr><td><font style='font-weight:bold'>Q8</font></td><td>5.01896 GHz</td><td>118.99757 µs</td><td>79.91584 µs</td><td>0.0</td><td>0.00096</td><td>0.00193</td><td>0.025 </td><tr><td><font style='font-weight:bold'>Q9</font></td><td>5.06523 GHz</td><td>52.51567 µs</td><td>23.81522 µs</td><td>0.0</td><td>0.00289</td><td>0.00578</td><td>0.049 </td><tr><td><font style='font-weight:bold'>Q10</font></td><td>4.95952 GHz</td><td>112.25671 µs</td><td>63.70903 µs</td><td>0.0</td><td>0.00125</td><td>0.00251</td><td>0.102 </td><tr><td><font style='font-weight:bold'>Q11</font></td><td>5.22967 GHz</td><td>73.77756 µs</td><td>62.21013 µs</td><td>0.0</td><td>0.00124</td><td>0.00248</td><td>0.036 </td><tr><td><font style='font-weight:bold'>Q12</font></td><td>4.66357 GHz</td><td>122.45582 µs</td><td>19.07433 µs</td><td>0.0</td><td>0.00181</td><td>0.00361</td><td>0.052 </td><tr><td><font style='font-weight:bold'>Q13</font></td><td>4.8982 GHz</td><td>102.98938 µs</td><td>49.48401 µs</td><td>0.0</td><td>0.00733</td><td>0.01466</td><td>0.043 </td><tr><td><font style='font-weight:bold'>Q14</font></td><td>5.23317 GHz</td><td>61.16598 µs</td><td>68.49908 µs</td><td>0.0</td><td>0.00083</td><td>0.00165</td><td>0.03 </td><tr><td><font style='font-weight:bold'>Q15</font></td><td>4.49111 GHz</td><td>94.2628 µs</td><td>82.00924 µs</td><td>0.0</td><td>0.0009</td><td>0.0018</td><td>0.045 </td><tr><td><font style='font-weight:bold'>Q16</font></td><td>5.07451 GHz</td><td>59.3939 µs</td><td>51.33196 µs</td><td>0.0</td><td>0.0012</td><td>0.00239</td><td>0.101 </td><tr><td><font style='font-weight:bold'>Q17</font></td><td>4.98481 GHz</td><td>75.04496 µs</td><td>58.7663 µs</td><td>0.0</td><td>0.001</td><td>0.00201</td><td>0.061 </td><tr><td><font style='font-weight:bold'>Q18</font></td><td>5.10934 GHz</td><td>76.17653 µs</td><td>48.10762 µs</td><td>0.0</td><td>0.00399</td><td>0.00798</td><td>0.045 </td><tr><td><font style='font-weight:bold'>Q19</font></td><td>5.1245 GHz</td><td>62.09861 µs</td><td>53.07004 µs</td><td>0.0</td><td>0.00242</td><td>0.00484</td><td>0.043 </td></table>"
      }
     },
     "e82a77e0188b417d83cedc8aafaea5e1": {
      "model_module": "@jupyter-widgets/controls",
      "model_module_version": "1.5.0",
      "model_name": "HTMLModel",
      "state": {
       "layout": "IPY_MODEL_62e4019d026c43c5a9c419e6b07e2a73",
       "style": "IPY_MODEL_1d55f9645fc04b398c599c333d0f513c",
       "value": "<table><style>\ntable {\n    border-collapse: collapse;\n    width: auto;\n}\n\nth, td {\n    text-align: left;\n    padding: 8px;\n}\n\ntr:nth-child(even) {background-color: #f6f6f6;};\n</style><tr><th></th><th>Type</th><th>Gate error</th></tr><tr><td><font style='font-weight:bold'>cx12_16</font></td><td>cx</td><td>0.02889</td></tr><tr><td><font style='font-weight:bold'>cx13_8</font></td><td>cx</td><td>0.03028</td></tr><tr><td><font style='font-weight:bold'>cx13_12</font></td><td>cx</td><td>0.03068</td></tr><tr><td><font style='font-weight:bold'>cx13_14</font></td><td>cx</td><td>0.03319</td></tr><tr><td><font style='font-weight:bold'>cx13_18</font></td><td>cx</td><td>0.02619</td></tr><tr><td><font style='font-weight:bold'>cx13_19</font></td><td>cx</td><td>0.02739</td></tr><tr><td><font style='font-weight:bold'>cx14_13</font></td><td>cx</td><td>0.03319</td></tr><tr><td><font style='font-weight:bold'>cx14_18</font></td><td>cx</td><td>0.01779</td></tr><tr><td><font style='font-weight:bold'>cx14_19</font></td><td>cx</td><td>0.02085</td></tr><tr><td><font style='font-weight:bold'>cx15_10</font></td><td>cx</td><td>0.02773</td></tr><tr><td><font style='font-weight:bold'>cx15_16</font></td><td>cx</td><td>0.03497</td></tr><tr><td><font style='font-weight:bold'>cx16_11</font></td><td>cx</td><td>0.0178</td></tr><tr><td><font style='font-weight:bold'>cx16_12</font></td><td>cx</td><td>0.02889</td></tr><tr><td><font style='font-weight:bold'>cx16_15</font></td><td>cx</td><td>0.03497</td></tr><tr><td><font style='font-weight:bold'>cx16_17</font></td><td>cx</td><td>0.02143</td></tr><tr><td><font style='font-weight:bold'>cx17_11</font></td><td>cx</td><td>0.01799</td></tr><tr><td><font style='font-weight:bold'>cx17_16</font></td><td>cx</td><td>0.02143</td></tr><tr><td><font style='font-weight:bold'>cx17_18</font></td><td>cx</td><td>0.0228</td></tr><tr><td><font style='font-weight:bold'>cx18_13</font></td><td>cx</td><td>0.02619</td></tr><tr><td><font style='font-weight:bold'>cx18_14</font></td><td>cx</td><td>0.01779</td></tr><tr><td><font style='font-weight:bold'>cx18_17</font></td><td>cx</td><td>0.0228</td></tr><tr><td><font style='font-weight:bold'>cx19_13</font></td><td>cx</td><td>0.02739</td></tr><tr><td><font style='font-weight:bold'>cx19_14</font></td><td>cx</td><td>0.02085</td></tr></table>"
      }
     },
     "e89bbb4bd9c74a129c90c47fd2c7ec96": {
      "model_module": "@jupyter-widgets/base",
      "model_module_version": "1.2.0",
      "model_name": "LayoutModel",
      "state": {
       "grid_area": "bottom",
       "width": "auto"
      }
     },
     "e8c7abcfc9d14edc9a24c4a83f57aa0a": {
      "model_module": "@jupyter-widgets/controls",
      "model_module_version": "1.5.0",
      "model_name": "HTMLMathModel",
      "state": {
       "layout": "IPY_MODEL_af0458cf77ae492f85d607a64d46f690",
       "style": "IPY_MODEL_6743ecd568424b478fe1321ccd09f3b0",
       "value": "<table><style>\ntable {\n    border-collapse: collapse;\n    width: auto;\n}\n\nth, td {\n    text-align: left;\n    padding: 8px;\n}\n\ntr:nth-child(even) {background-color: #f6f6f6;}\n</style><tr><th></th><th></th></tr><tr><td>backend_name</td><td>fake_tokyo</td></tr><tr><td>local</td><td>True</td></tr><tr><td>conditional</td><td>False</td></tr><tr><td>coupling_map</td><td>[[0, 1], [0, 5], [1, 0], [1, 2], [1, 6], [1, 7], [2, 1], [2, 6], [3, 8], [4, 8], [4, 9], [5, 0], [5, 6], [5, 10], [5, 11], [6, 1], [6, 2], [6, 5], [6, 7], [6, 10], [6, 11], [7, 1], [7, 6], [7, 8], [7, 12], [8, 3], [8, 4], [8, 7], [8, 9], [8, 12], [8, 13], [9, 4], [9, 8], [10, 5], [10, 6], [10, 11], [10, 15], [11, 5], [11, 6], [11, 10], [11, 12], [11, 16], [11, 17], [12, 7], [12, 8], [12, 11], [12, 13], [12, 16], [13, 8], [13, 12], [13, 14], [13, 18], [13, 19], [14, 13], [14, 18], [14, 19], [15, 10], [15, 16], [16, 11], [16, 12], [16, 15], [16, 17], [17, 11], [17, 16], [17, 18], [18, 13], [18, 14], [18, 17], [19, 13], [19, 14]]</td></tr><tr><td>memory</td><td>False</td></tr><tr><td>open_pulse</td><td>False</td></tr><tr><td>dynamic_reprate_enabled</td><td>False</td></tr><tr><td>simulator</td><td>False</td></tr></table>"
      }
     },
     "e8ccdbad0b5446edbf7478b0f6e31b8c": {
      "model_module": "@jupyter-widgets/output",
      "model_module_version": "1.0.0",
      "model_name": "OutputModel",
      "state": {
       "layout": "IPY_MODEL_90c940b6a83f49dfb01a31c399742b14",
       "outputs": [
        {
         "data": {
          "image/png": "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\n",
          "text/plain": "<Figure size 792x648 with 5 Axes>"
         },
         "metadata": {},
         "output_type": "display_data"
        }
       ]
      }
     },
     "e981e08486e2482481727df3311d40df": {
      "model_module": "@jupyter-widgets/base",
      "model_module_version": "1.2.0",
      "model_name": "LayoutModel",
      "state": {
       "grid_template_areas": "\n                                       \". . . . right \"\n                                        ",
       "grid_template_columns": "20% 20% 20% 20% 20%",
       "width": "100%"
      }
     },
     "eab34607a55e4853b4a373d4cf7642fb": {
      "model_module": "@jupyter-widgets/base",
      "model_module_version": "1.2.0",
      "model_name": "LayoutModel",
      "state": {
       "border": "4px solid #000000",
       "max_height": "650px",
       "min_height": "650px",
       "overflow_y": "hidden"
      }
     },
     "eb8907ca0cfd493bbf7798842a62fdc1": {
      "model_module": "@jupyter-widgets/base",
      "model_module_version": "1.2.0",
      "model_name": "LayoutModel",
      "state": {
       "align_items": "center",
       "display": "flex-inline",
       "grid_area": "right",
       "max_height": "325px",
       "padding": "10px 10px 10px 10px",
       "width": "auto"
      }
     },
     "ebad65d483a3442bba62a8bb8e14adb8": {
      "model_module": "@jupyter-widgets/base",
      "model_module_version": "1.2.0",
      "model_name": "LayoutModel",
      "state": {
       "grid_gap": "0px 0px",
       "grid_template_areas": "\n                               \"left right right right\"\n                               \"bottom bottom bottom bottom\"\n                               ",
       "grid_template_columns": "31% 23% 23% 23%",
       "grid_template_rows": "auto auto"
      }
     },
     "ec48929241c4447fa1819ce3ea72c429": {
      "model_module": "@jupyter-widgets/controls",
      "model_module_version": "1.5.0",
      "model_name": "DescriptionStyleModel",
      "state": {
       "description_width": ""
      }
     },
     "eda8598c14c84db191109e99f73140a1": {
      "model_module": "@jupyter-widgets/base",
      "model_module_version": "1.2.0",
      "model_name": "LayoutModel",
      "state": {
       "border": "4px solid #000000",
       "max_height": "650px",
       "min_height": "650px",
       "overflow_y": "hidden"
      }
     },
     "edbde40ea61f4a14bf214782aedd6a4c": {
      "model_module": "@jupyter-widgets/base",
      "model_module_version": "1.2.0",
      "model_name": "LayoutModel",
      "state": {
       "overflow_y": "scroll"
      }
     },
     "ee8724977c4d4b5cbe32117b76f72522": {
      "model_module": "@jupyter-widgets/base",
      "model_module_version": "1.2.0",
      "model_name": "LayoutModel",
      "state": {
       "width": "95px"
      }
     },
     "eed429a98a9a47339347b7e205c8c86b": {
      "model_module": "@jupyter-widgets/base",
      "model_module_version": "1.2.0",
      "model_name": "LayoutModel",
      "state": {
       "grid_area": "bottom",
       "width": "auto"
      }
     },
     "f1b1145cfe5d40d89d74db92a5176409": {
      "model_module": "@jupyter-widgets/base",
      "model_module_version": "1.2.0",
      "model_name": "LayoutModel",
      "state": {
       "grid_template_areas": "\n                                       \". . . . right \"\n                                        ",
       "grid_template_columns": "20% 20% 20% 20% 20%",
       "width": "100%"
      }
     },
     "f2362c14ed30440186443ef80a11b51e": {
      "model_module": "@jupyter-widgets/controls",
      "model_module_version": "1.5.0",
      "model_name": "HTMLModel",
      "state": {
       "layout": "IPY_MODEL_8f26e3f12fd34f71a47f9ebfcbaa4d2c",
       "style": "IPY_MODEL_43255da44eb0464083d76af380934c1b",
       "value": "<div><font style='font-weight:bold'>last_update_date</font>: Thu 29 August 2019 at 03:57 UTC</div>"
      }
     },
     "f4454b01088246508f345489e709501f": {
      "model_module": "@jupyter-widgets/base",
      "model_module_version": "1.2.0",
      "model_name": "LayoutModel",
      "state": {
       "grid_area": "middle"
      }
     },
     "f547fba75ed343d0b6ff0f5f37db9902": {
      "model_module": "@jupyter-widgets/controls",
      "model_module_version": "1.5.0",
      "model_name": "HTMLModel",
      "state": {
       "layout": "IPY_MODEL_7f42698d7241408ab06d764513c116c4",
       "style": "IPY_MODEL_3ba110a6505c43babd4e07bae693a115",
       "value": "<table><style>\ntable {\n    border-collapse: collapse;\n    width: auto;\n}\n\nth, td {\n    text-align: left;\n    padding: 8px;\n}\n\ntr:nth-child(even) {background-color: #f6f6f6;};\n</style><tr><th></th><th>Type</th><th>Gate error</th></tr><tr><td><font style='font-weight:bold'>cx0_1</font></td><td>cx</td><td>0.03521</td></tr><tr><td><font style='font-weight:bold'>cx0_5</font></td><td>cx</td><td>0.04987</td></tr><tr><td><font style='font-weight:bold'>cx1_0</font></td><td>cx</td><td>0.03521</td></tr><tr><td><font style='font-weight:bold'>cx1_2</font></td><td>cx</td><td>0.03749</td></tr><tr><td><font style='font-weight:bold'>cx1_6</font></td><td>cx</td><td>0.03428</td></tr><tr><td><font style='font-weight:bold'>cx1_7</font></td><td>cx</td><td>0.06871</td></tr><tr><td><font style='font-weight:bold'>cx2_1</font></td><td>cx</td><td>0.03749</td></tr><tr><td><font style='font-weight:bold'>cx2_6</font></td><td>cx</td><td>0.04026</td></tr><tr><td><font style='font-weight:bold'>cx3_8</font></td><td>cx</td><td>0.04</td></tr><tr><td><font style='font-weight:bold'>cx4_8</font></td><td>cx</td><td>0.02772</td></tr><tr><td><font style='font-weight:bold'>cx4_9</font></td><td>cx</td><td>0.03384</td></tr><tr><td><font style='font-weight:bold'>cx5_0</font></td><td>cx</td><td>0.04987</td></tr><tr><td><font style='font-weight:bold'>cx5_6</font></td><td>cx</td><td>0.02293</td></tr><tr><td><font style='font-weight:bold'>cx5_10</font></td><td>cx</td><td>0.02643</td></tr><tr><td><font style='font-weight:bold'>cx5_11</font></td><td>cx</td><td>0.03646</td></tr><tr><td><font style='font-weight:bold'>cx6_1</font></td><td>cx</td><td>0.03428</td></tr><tr><td><font style='font-weight:bold'>cx6_2</font></td><td>cx</td><td>0.04026</td></tr><tr><td><font style='font-weight:bold'>cx6_5</font></td><td>cx</td><td>0.02293</td></tr><tr><td><font style='font-weight:bold'>cx6_7</font></td><td>cx</td><td>0.03754</td></tr><tr><td><font style='font-weight:bold'>cx6_10</font></td><td>cx</td><td>0.01845</td></tr><tr><td><font style='font-weight:bold'>cx6_11</font></td><td>cx</td><td>0.01651</td></tr><tr><td><font style='font-weight:bold'>cx7_1</font></td><td>cx</td><td>0.06871</td></tr><tr><td><font style='font-weight:bold'>cx7_6</font></td><td>cx</td><td>0.03754</td></tr><tr><td><font style='font-weight:bold'>cx7_8</font></td><td>cx</td><td>0.03691</td></tr></table>"
      }
     },
     "f5a5f3e19ef94dddae3cfbf8d5da02cb": {
      "model_module": "@jupyter-widgets/controls",
      "model_module_version": "1.5.0",
      "model_name": "VBoxModel",
      "state": {
       "children": [
        "IPY_MODEL_2a633d7ec4e44416803e27743f3fcc00",
        "IPY_MODEL_9562896440f043dcab888c50ebd0cff1"
       ],
       "layout": "IPY_MODEL_0823fcdc71b54f8f95ebb21e42797ab5"
      }
     },
     "f6f17b53eba24dcaa5075507405ea491": {
      "model_module": "@jupyter-widgets/base",
      "model_module_version": "1.2.0",
      "model_name": "LayoutModel",
      "state": {
       "margin": "0px 0px 0px 0px"
      }
     },
     "f9049498018e417aa444bc82569933a0": {
      "model_module": "@jupyter-widgets/base",
      "model_module_version": "1.2.0",
      "model_name": "LayoutModel",
      "state": {
       "grid_area": "left",
       "width": "100%"
      }
     },
     "f94852dcb4af47e6a266b81df3dc0330": {
      "model_module": "@jupyter-widgets/base",
      "model_module_version": "1.2.0",
      "model_name": "LayoutModel",
      "state": {}
     },
     "f9d93f8ba0c5420bb34de71a0d8f6f63": {
      "model_module": "@jupyter-widgets/controls",
      "model_module_version": "1.5.0",
      "model_name": "DescriptionStyleModel",
      "state": {
       "description_width": ""
      }
     },
     "fa5f296f88ed404bb09c2e7721c15ec9": {
      "model_module": "@jupyter-widgets/controls",
      "model_module_version": "1.5.0",
      "model_name": "HTMLModel",
      "state": {
       "layout": "IPY_MODEL_9802bfe5ef54424d9bd29bf2f04b2cc8",
       "style": "IPY_MODEL_d58f9631ceae4e32bd6da97b22bf09af",
       "value": "<div><font style='font-weight:bold'>last_update_date</font>: Thu 29 August 2019 at 03:57 UTC</div>"
      }
     },
     "fb9b4be56a21412ba5418d8f88a1c6cf": {
      "model_module": "@jupyter-widgets/controls",
      "model_module_version": "1.5.0",
      "model_name": "HTMLModel",
      "state": {
       "layout": "IPY_MODEL_6c6a8edf1e784acb8aa2558d489208bd",
       "style": "IPY_MODEL_727bf2224c454ad1baef8e693791e165",
       "value": "<h1 style='color:#ffffff;background-color:#000000;padding-top: 1%;padding-bottom: 1%;padding-left: 1%; margin-top: 0px'>fake_tokyo</h1>"
      }
     },
     "fbb30a65a57d4d98b304766eb7879955": {
      "model_module": "@jupyter-widgets/base",
      "model_module_version": "1.2.0",
      "model_name": "LayoutModel",
      "state": {
       "max_height": "620px"
      }
     },
     "fc602f3cd4fd439986166e19574f93f5": {
      "model_module": "@jupyter-widgets/controls",
      "model_module_version": "1.5.0",
      "model_name": "VBoxModel",
      "state": {
       "children": [
        "IPY_MODEL_70e9779905bf4d41a07e720f533edfb8",
        "IPY_MODEL_8d4c1a60a02b4a8bb65c08c50630c220"
       ],
       "layout": "IPY_MODEL_eab34607a55e4853b4a373d4cf7642fb"
      }
     },
     "fc8bb03a587b4ecfba2abab6611309d8": {
      "model_module": "@jupyter-widgets/controls",
      "model_module_version": "1.5.0",
      "model_name": "DescriptionStyleModel",
      "state": {
       "description_width": ""
      }
     },
     "ffc7221a410e4035ad1631e5cf6bca9e": {
      "model_module": "@jupyter-widgets/controls",
      "model_module_version": "1.5.0",
      "model_name": "ButtonModel",
      "state": {
       "button_style": "primary",
       "description": "Clear",
       "layout": "IPY_MODEL_dee263e0f2cb468294898c8d4d5840b8",
       "style": "IPY_MODEL_e30b56c5937e416ca22b2755a2e8b8b0"
      }
     }
    },
    "version_major": 2,
    "version_minor": 0
   }
  }
 },
 "nbformat": 4,
 "nbformat_minor": 4
}
